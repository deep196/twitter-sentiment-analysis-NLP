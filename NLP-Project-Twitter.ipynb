{
 "cells": [
  {
   "cell_type": "code",
   "execution_count": null,
   "metadata": {
    "id": "F_dNjFG-hchu"
   },
   "outputs": [],
   "source": [
    "import numpy as np\n",
    "import pandas as pd\n",
    "import matplotlib.pyplot as plt\n",
    "import seaborn as sns\n",
    "import warnings\n",
    "warnings.filterwarnings(\"ignore\")"
   ]
  },
  {
   "cell_type": "code",
   "execution_count": null,
   "metadata": {
    "colab": {
     "base_uri": "https://localhost:8080/",
     "height": 206
    },
    "executionInfo": {
     "elapsed": 27,
     "status": "ok",
     "timestamp": 1644386775529,
     "user": {
      "displayName": "Deepak Avhad",
      "photoUrl": "https://lh3.googleusercontent.com/a-/AOh14GhY6x3bmDdXRl6lSqWi0RKwhXwFroevfB4OUaxfwg=s64",
      "userId": "16043617655025119202"
     },
     "user_tz": -330
    },
    "id": "wT7_9Qs1hvQh",
    "outputId": "4fd66c67-5b91-4f8a-b125-1aa56ab6a2ea"
   },
   "outputs": [
    {
     "data": {
      "text/html": [
       "\n",
       "  <div id=\"df-041860b3-9cdb-442f-8e0f-6c11b41e1234\">\n",
       "    <div class=\"colab-df-container\">\n",
       "      <div>\n",
       "<style scoped>\n",
       "    .dataframe tbody tr th:only-of-type {\n",
       "        vertical-align: middle;\n",
       "    }\n",
       "\n",
       "    .dataframe tbody tr th {\n",
       "        vertical-align: top;\n",
       "    }\n",
       "\n",
       "    .dataframe thead th {\n",
       "        text-align: right;\n",
       "    }\n",
       "</style>\n",
       "<table border=\"1\" class=\"dataframe\">\n",
       "  <thead>\n",
       "    <tr style=\"text-align: right;\">\n",
       "      <th></th>\n",
       "      <th>id</th>\n",
       "      <th>label</th>\n",
       "      <th>tweet</th>\n",
       "    </tr>\n",
       "  </thead>\n",
       "  <tbody>\n",
       "    <tr>\n",
       "      <th>0</th>\n",
       "      <td>1</td>\n",
       "      <td>0</td>\n",
       "      <td>@user when a father is dysfunctional and is s...</td>\n",
       "    </tr>\n",
       "    <tr>\n",
       "      <th>1</th>\n",
       "      <td>2</td>\n",
       "      <td>0</td>\n",
       "      <td>@user @user thanks for #lyft credit i can't us...</td>\n",
       "    </tr>\n",
       "    <tr>\n",
       "      <th>2</th>\n",
       "      <td>3</td>\n",
       "      <td>0</td>\n",
       "      <td>bihday your majesty</td>\n",
       "    </tr>\n",
       "    <tr>\n",
       "      <th>3</th>\n",
       "      <td>4</td>\n",
       "      <td>0</td>\n",
       "      <td>#model   i love u take with u all the time in ...</td>\n",
       "    </tr>\n",
       "    <tr>\n",
       "      <th>4</th>\n",
       "      <td>5</td>\n",
       "      <td>0</td>\n",
       "      <td>factsguide: society now    #motivation</td>\n",
       "    </tr>\n",
       "  </tbody>\n",
       "</table>\n",
       "</div>\n",
       "      <button class=\"colab-df-convert\" onclick=\"convertToInteractive('df-041860b3-9cdb-442f-8e0f-6c11b41e1234')\"\n",
       "              title=\"Convert this dataframe to an interactive table.\"\n",
       "              style=\"display:none;\">\n",
       "        \n",
       "  <svg xmlns=\"http://www.w3.org/2000/svg\" height=\"24px\"viewBox=\"0 0 24 24\"\n",
       "       width=\"24px\">\n",
       "    <path d=\"M0 0h24v24H0V0z\" fill=\"none\"/>\n",
       "    <path d=\"M18.56 5.44l.94 2.06.94-2.06 2.06-.94-2.06-.94-.94-2.06-.94 2.06-2.06.94zm-11 1L8.5 8.5l.94-2.06 2.06-.94-2.06-.94L8.5 2.5l-.94 2.06-2.06.94zm10 10l.94 2.06.94-2.06 2.06-.94-2.06-.94-.94-2.06-.94 2.06-2.06.94z\"/><path d=\"M17.41 7.96l-1.37-1.37c-.4-.4-.92-.59-1.43-.59-.52 0-1.04.2-1.43.59L10.3 9.45l-7.72 7.72c-.78.78-.78 2.05 0 2.83L4 21.41c.39.39.9.59 1.41.59.51 0 1.02-.2 1.41-.59l7.78-7.78 2.81-2.81c.8-.78.8-2.07 0-2.86zM5.41 20L4 18.59l7.72-7.72 1.47 1.35L5.41 20z\"/>\n",
       "  </svg>\n",
       "      </button>\n",
       "      \n",
       "  <style>\n",
       "    .colab-df-container {\n",
       "      display:flex;\n",
       "      flex-wrap:wrap;\n",
       "      gap: 12px;\n",
       "    }\n",
       "\n",
       "    .colab-df-convert {\n",
       "      background-color: #E8F0FE;\n",
       "      border: none;\n",
       "      border-radius: 50%;\n",
       "      cursor: pointer;\n",
       "      display: none;\n",
       "      fill: #1967D2;\n",
       "      height: 32px;\n",
       "      padding: 0 0 0 0;\n",
       "      width: 32px;\n",
       "    }\n",
       "\n",
       "    .colab-df-convert:hover {\n",
       "      background-color: #E2EBFA;\n",
       "      box-shadow: 0px 1px 2px rgba(60, 64, 67, 0.3), 0px 1px 3px 1px rgba(60, 64, 67, 0.15);\n",
       "      fill: #174EA6;\n",
       "    }\n",
       "\n",
       "    [theme=dark] .colab-df-convert {\n",
       "      background-color: #3B4455;\n",
       "      fill: #D2E3FC;\n",
       "    }\n",
       "\n",
       "    [theme=dark] .colab-df-convert:hover {\n",
       "      background-color: #434B5C;\n",
       "      box-shadow: 0px 1px 3px 1px rgba(0, 0, 0, 0.15);\n",
       "      filter: drop-shadow(0px 1px 2px rgba(0, 0, 0, 0.3));\n",
       "      fill: #FFFFFF;\n",
       "    }\n",
       "  </style>\n",
       "\n",
       "      <script>\n",
       "        const buttonEl =\n",
       "          document.querySelector('#df-041860b3-9cdb-442f-8e0f-6c11b41e1234 button.colab-df-convert');\n",
       "        buttonEl.style.display =\n",
       "          google.colab.kernel.accessAllowed ? 'block' : 'none';\n",
       "\n",
       "        async function convertToInteractive(key) {\n",
       "          const element = document.querySelector('#df-041860b3-9cdb-442f-8e0f-6c11b41e1234');\n",
       "          const dataTable =\n",
       "            await google.colab.kernel.invokeFunction('convertToInteractive',\n",
       "                                                     [key], {});\n",
       "          if (!dataTable) return;\n",
       "\n",
       "          const docLinkHtml = 'Like what you see? Visit the ' +\n",
       "            '<a target=\"_blank\" href=https://colab.research.google.com/notebooks/data_table.ipynb>data table notebook</a>'\n",
       "            + ' to learn more about interactive tables.';\n",
       "          element.innerHTML = '';\n",
       "          dataTable['output_type'] = 'display_data';\n",
       "          await google.colab.output.renderOutput(dataTable, element);\n",
       "          const docLink = document.createElement('div');\n",
       "          docLink.innerHTML = docLinkHtml;\n",
       "          element.appendChild(docLink);\n",
       "        }\n",
       "      </script>\n",
       "    </div>\n",
       "  </div>\n",
       "  "
      ],
      "text/plain": [
       "   id  label                                              tweet\n",
       "0   1      0   @user when a father is dysfunctional and is s...\n",
       "1   2      0  @user @user thanks for #lyft credit i can't us...\n",
       "2   3      0                                bihday your majesty\n",
       "3   4      0  #model   i love u take with u all the time in ...\n",
       "4   5      0             factsguide: society now    #motivation"
      ]
     },
     "execution_count": 2,
     "metadata": {},
     "output_type": "execute_result"
    }
   ],
   "source": [
    "#Read csv file\n",
    "df=pd.read_csv(\"/content/drive/MyDrive/NLP-Project/archive.zip (Unzipped Files)/train.csv\")\n",
    "df.head()"
   ]
  },
  {
   "cell_type": "code",
   "execution_count": null,
   "metadata": {
    "colab": {
     "base_uri": "https://localhost:8080/"
    },
    "executionInfo": {
     "elapsed": 25,
     "status": "ok",
     "timestamp": 1644386775530,
     "user": {
      "displayName": "Deepak Avhad",
      "photoUrl": "https://lh3.googleusercontent.com/a-/AOh14GhY6x3bmDdXRl6lSqWi0RKwhXwFroevfB4OUaxfwg=s64",
      "userId": "16043617655025119202"
     },
     "user_tz": -330
    },
    "id": "LHNVNkmriIaT",
    "outputId": "97d74e1f-1e9b-4343-e131-275617a1d1c0"
   },
   "outputs": [
    {
     "data": {
      "text/plain": [
       "(31962, 3)"
      ]
     },
     "execution_count": 3,
     "metadata": {},
     "output_type": "execute_result"
    }
   ],
   "source": [
    "#shape \n",
    "df.shape"
   ]
  },
  {
   "cell_type": "code",
   "execution_count": null,
   "metadata": {
    "colab": {
     "base_uri": "https://localhost:8080/"
    },
    "executionInfo": {
     "elapsed": 19,
     "status": "ok",
     "timestamp": 1644386775531,
     "user": {
      "displayName": "Deepak Avhad",
      "photoUrl": "https://lh3.googleusercontent.com/a-/AOh14GhY6x3bmDdXRl6lSqWi0RKwhXwFroevfB4OUaxfwg=s64",
      "userId": "16043617655025119202"
     },
     "user_tz": -330
    },
    "id": "j04gxMQpitlp",
    "outputId": "0261150b-7776-426f-c8fc-cf8b06b51836"
   },
   "outputs": [
    {
     "data": {
      "text/plain": [
       "Index(['id', 'label', 'tweet'], dtype='object')"
      ]
     },
     "execution_count": 4,
     "metadata": {},
     "output_type": "execute_result"
    }
   ],
   "source": [
    "#columns\n",
    "df.columns"
   ]
  },
  {
   "cell_type": "code",
   "execution_count": null,
   "metadata": {
    "colab": {
     "base_uri": "https://localhost:8080/"
    },
    "executionInfo": {
     "elapsed": 16,
     "status": "ok",
     "timestamp": 1644386775532,
     "user": {
      "displayName": "Deepak Avhad",
      "photoUrl": "https://lh3.googleusercontent.com/a-/AOh14GhY6x3bmDdXRl6lSqWi0RKwhXwFroevfB4OUaxfwg=s64",
      "userId": "16043617655025119202"
     },
     "user_tz": -330
    },
    "id": "7D28hA2tiwjt",
    "outputId": "a3505762-83e4-4154-b5d3-d34982303b2e"
   },
   "outputs": [
    {
     "name": "stdout",
     "output_type": "stream",
     "text": [
      "<class 'pandas.core.frame.DataFrame'>\n",
      "RangeIndex: 31962 entries, 0 to 31961\n",
      "Data columns (total 3 columns):\n",
      " #   Column  Non-Null Count  Dtype \n",
      "---  ------  --------------  ----- \n",
      " 0   id      31962 non-null  int64 \n",
      " 1   label   31962 non-null  int64 \n",
      " 2   tweet   31962 non-null  object\n",
      "dtypes: int64(2), object(1)\n",
      "memory usage: 749.2+ KB\n"
     ]
    }
   ],
   "source": [
    "#Info\n",
    "df.info()"
   ]
  },
  {
   "cell_type": "code",
   "execution_count": null,
   "metadata": {
    "colab": {
     "base_uri": "https://localhost:8080/"
    },
    "executionInfo": {
     "elapsed": 14,
     "status": "ok",
     "timestamp": 1644386775533,
     "user": {
      "displayName": "Deepak Avhad",
      "photoUrl": "https://lh3.googleusercontent.com/a-/AOh14GhY6x3bmDdXRl6lSqWi0RKwhXwFroevfB4OUaxfwg=s64",
      "userId": "16043617655025119202"
     },
     "user_tz": -330
    },
    "id": "mcSbAX-Vi1ws",
    "outputId": "abb61b40-6b47-4213-b1cc-30949372fc2b"
   },
   "outputs": [
    {
     "data": {
      "text/plain": [
       "id       0\n",
       "label    0\n",
       "tweet    0\n",
       "dtype: int64"
      ]
     },
     "execution_count": 6,
     "metadata": {},
     "output_type": "execute_result"
    }
   ],
   "source": [
    "#Check sum of non null values\n",
    "df.isnull().sum()"
   ]
  },
  {
   "cell_type": "code",
   "execution_count": null,
   "metadata": {
    "colab": {
     "base_uri": "https://localhost:8080/"
    },
    "executionInfo": {
     "elapsed": 957,
     "status": "ok",
     "timestamp": 1644386776480,
     "user": {
      "displayName": "Deepak Avhad",
      "photoUrl": "https://lh3.googleusercontent.com/a-/AOh14GhY6x3bmDdXRl6lSqWi0RKwhXwFroevfB4OUaxfwg=s64",
      "userId": "16043617655025119202"
     },
     "user_tz": -330
    },
    "id": "Xln_rJHpi81S",
    "outputId": "b9e5823f-2de4-4a42-98ca-15270d8c339c"
   },
   "outputs": [
    {
     "data": {
      "text/plain": [
       "0    29720\n",
       "1     2242\n",
       "Name: label, dtype: int64"
      ]
     },
     "execution_count": 7,
     "metadata": {},
     "output_type": "execute_result"
    }
   ],
   "source": [
    "#label count\n",
    "df['label'].value_counts()"
   ]
  },
  {
   "cell_type": "code",
   "execution_count": null,
   "metadata": {
    "colab": {
     "base_uri": "https://localhost:8080/",
     "height": 279
    },
    "executionInfo": {
     "elapsed": 42,
     "status": "ok",
     "timestamp": 1644386776481,
     "user": {
      "displayName": "Deepak Avhad",
      "photoUrl": "https://lh3.googleusercontent.com/a-/AOh14GhY6x3bmDdXRl6lSqWi0RKwhXwFroevfB4OUaxfwg=s64",
      "userId": "16043617655025119202"
     },
     "user_tz": -330
    },
    "id": "ztvUnkzIjGMT",
    "outputId": "3ddd89ac-d89e-4b49-aa5b-5568b57db5c4"
   },
   "outputs": [
    {
     "data": {
      "image/png": "[encoded data removed]",
      "text/plain": [
       "<Figure size 432x288 with 1 Axes>"
      ]
     },
     "metadata": {
      "needs_background": "light"
     },
     "output_type": "display_data"
    }
   ],
   "source": [
    "#label countplot\n",
    "ax=sns.countplot(df.label)"
   ]
  },
  {
   "cell_type": "markdown",
   "metadata": {
    "id": "06_5h10pOFHl"
   },
   "source": [
    "# Text Preprocessing & Analysis"
   ]
  },
  {
   "cell_type": "code",
   "execution_count": null,
   "metadata": {
    "colab": {
     "base_uri": "https://localhost:8080/",
     "height": 206
    },
    "executionInfo": {
     "elapsed": 42,
     "status": "ok",
     "timestamp": 1644386776482,
     "user": {
      "displayName": "Deepak Avhad",
      "photoUrl": "https://lh3.googleusercontent.com/a-/AOh14GhY6x3bmDdXRl6lSqWi0RKwhXwFroevfB4OUaxfwg=s64",
      "userId": "16043617655025119202"
     },
     "user_tz": -330
    },
    "id": "-3TsWUeVjNDl",
    "outputId": "61246f4d-909f-42e2-dc07-92f8ffaf2d5f"
   },
   "outputs": [
    {
     "data": {
      "text/html": [
       "\n",
       "  <div id=\"df-ff0c5f9a-d8ae-49df-937e-79ce8e063030\">\n",
       "    <div class=\"colab-df-container\">\n",
       "      <div>\n",
       "<style scoped>\n",
       "    .dataframe tbody tr th:only-of-type {\n",
       "        vertical-align: middle;\n",
       "    }\n",
       "\n",
       "    .dataframe tbody tr th {\n",
       "        vertical-align: top;\n",
       "    }\n",
       "\n",
       "    .dataframe thead th {\n",
       "        text-align: right;\n",
       "    }\n",
       "</style>\n",
       "<table border=\"1\" class=\"dataframe\">\n",
       "  <thead>\n",
       "    <tr style=\"text-align: right;\">\n",
       "      <th></th>\n",
       "      <th>id</th>\n",
       "      <th>label</th>\n",
       "      <th>tweet</th>\n",
       "      <th>new_tweet</th>\n",
       "    </tr>\n",
       "  </thead>\n",
       "  <tbody>\n",
       "    <tr>\n",
       "      <th>0</th>\n",
       "      <td>1</td>\n",
       "      <td>0</td>\n",
       "      <td>@user when a father is dysfunctional and is s...</td>\n",
       "      <td>when a father is dysfunctional and is so sel...</td>\n",
       "    </tr>\n",
       "    <tr>\n",
       "      <th>1</th>\n",
       "      <td>2</td>\n",
       "      <td>0</td>\n",
       "      <td>@user @user thanks for #lyft credit i can't us...</td>\n",
       "      <td>thanks for #lyft credit i can't use cause th...</td>\n",
       "    </tr>\n",
       "    <tr>\n",
       "      <th>2</th>\n",
       "      <td>3</td>\n",
       "      <td>0</td>\n",
       "      <td>bihday your majesty</td>\n",
       "      <td>bihday your majesty</td>\n",
       "    </tr>\n",
       "    <tr>\n",
       "      <th>3</th>\n",
       "      <td>4</td>\n",
       "      <td>0</td>\n",
       "      <td>#model   i love u take with u all the time in ...</td>\n",
       "      <td>#model   i love u take with u all the time in ...</td>\n",
       "    </tr>\n",
       "    <tr>\n",
       "      <th>4</th>\n",
       "      <td>5</td>\n",
       "      <td>0</td>\n",
       "      <td>factsguide: society now    #motivation</td>\n",
       "      <td>factsguide: society now    #motivation</td>\n",
       "    </tr>\n",
       "  </tbody>\n",
       "</table>\n",
       "</div>\n",
       "      <button class=\"colab-df-convert\" onclick=\"convertToInteractive('df-ff0c5f9a-d8ae-49df-937e-79ce8e063030')\"\n",
       "              title=\"Convert this dataframe to an interactive table.\"\n",
       "              style=\"display:none;\">\n",
       "        \n",
       "  <svg xmlns=\"http://www.w3.org/2000/svg\" height=\"24px\"viewBox=\"0 0 24 24\"\n",
       "       width=\"24px\">\n",
       "    <path d=\"M0 0h24v24H0V0z\" fill=\"none\"/>\n",
       "    <path d=\"M18.56 5.44l.94 2.06.94-2.06 2.06-.94-2.06-.94-.94-2.06-.94 2.06-2.06.94zm-11 1L8.5 8.5l.94-2.06 2.06-.94-2.06-.94L8.5 2.5l-.94 2.06-2.06.94zm10 10l.94 2.06.94-2.06 2.06-.94-2.06-.94-.94-2.06-.94 2.06-2.06.94z\"/><path d=\"M17.41 7.96l-1.37-1.37c-.4-.4-.92-.59-1.43-.59-.52 0-1.04.2-1.43.59L10.3 9.45l-7.72 7.72c-.78.78-.78 2.05 0 2.83L4 21.41c.39.39.9.59 1.41.59.51 0 1.02-.2 1.41-.59l7.78-7.78 2.81-2.81c.8-.78.8-2.07 0-2.86zM5.41 20L4 18.59l7.72-7.72 1.47 1.35L5.41 20z\"/>\n",
       "  </svg>\n",
       "      </button>\n",
       "      \n",
       "  <style>\n",
       "    .colab-df-container {\n",
       "      display:flex;\n",
       "      flex-wrap:wrap;\n",
       "      gap: 12px;\n",
       "    }\n",
       "\n",
       "    .colab-df-convert {\n",
       "      background-color: #E8F0FE;\n",
       "      border: none;\n",
       "      border-radius: 50%;\n",
       "      cursor: pointer;\n",
       "      display: none;\n",
       "      fill: #1967D2;\n",
       "      height: 32px;\n",
       "      padding: 0 0 0 0;\n",
       "      width: 32px;\n",
       "    }\n",
       "\n",
       "    .colab-df-convert:hover {\n",
       "      background-color: #E2EBFA;\n",
       "      box-shadow: 0px 1px 2px rgba(60, 64, 67, 0.3), 0px 1px 3px 1px rgba(60, 64, 67, 0.15);\n",
       "      fill: #174EA6;\n",
       "    }\n",
       "\n",
       "    [theme=dark] .colab-df-convert {\n",
       "      background-color: #3B4455;\n",
       "      fill: #D2E3FC;\n",
       "    }\n",
       "\n",
       "    [theme=dark] .colab-df-convert:hover {\n",
       "      background-color: #434B5C;\n",
       "      box-shadow: 0px 1px 3px 1px rgba(0, 0, 0, 0.15);\n",
       "      filter: drop-shadow(0px 1px 2px rgba(0, 0, 0, 0.3));\n",
       "      fill: #FFFFFF;\n",
       "    }\n",
       "  </style>\n",
       "\n",
       "      <script>\n",
       "        const buttonEl =\n",
       "          document.querySelector('#df-ff0c5f9a-d8ae-49df-937e-79ce8e063030 button.colab-df-convert');\n",
       "        buttonEl.style.display =\n",
       "          google.colab.kernel.accessAllowed ? 'block' : 'none';\n",
       "\n",
       "        async function convertToInteractive(key) {\n",
       "          const element = document.querySelector('#df-ff0c5f9a-d8ae-49df-937e-79ce8e063030');\n",
       "          const dataTable =\n",
       "            await google.colab.kernel.invokeFunction('convertToInteractive',\n",
       "                                                     [key], {});\n",
       "          if (!dataTable) return;\n",
       "\n",
       "          const docLinkHtml = 'Like what you see? Visit the ' +\n",
       "            '<a target=\"_blank\" href=https://colab.research.google.com/notebooks/data_table.ipynb>data table notebook</a>'\n",
       "            + ' to learn more about interactive tables.';\n",
       "          element.innerHTML = '';\n",
       "          dataTable['output_type'] = 'display_data';\n",
       "          await google.colab.output.renderOutput(dataTable, element);\n",
       "          const docLink = document.createElement('div');\n",
       "          docLink.innerHTML = docLinkHtml;\n",
       "          element.appendChild(docLink);\n",
       "        }\n",
       "      </script>\n",
       "    </div>\n",
       "  </div>\n",
       "  "
      ],
      "text/plain": [
       "   id  ...                                          new_tweet\n",
       "0   1  ...    when a father is dysfunctional and is so sel...\n",
       "1   2  ...    thanks for #lyft credit i can't use cause th...\n",
       "2   3  ...                                bihday your majesty\n",
       "3   4  ...  #model   i love u take with u all the time in ...\n",
       "4   5  ...             factsguide: society now    #motivation\n",
       "\n",
       "[5 rows x 4 columns]"
      ]
     },
     "execution_count": 9,
     "metadata": {},
     "output_type": "execute_result"
    }
   ],
   "source": [
    "# removing usernames from tweet\n",
    "df['new_tweet'] = df.tweet.str.replace('@user', '')\n",
    "df.head()"
   ]
  },
  {
   "cell_type": "code",
   "execution_count": null,
   "metadata": {
    "colab": {
     "base_uri": "https://localhost:8080/",
     "height": 206
    },
    "executionInfo": {
     "elapsed": 41,
     "status": "ok",
     "timestamp": 1644386776483,
     "user": {
      "displayName": "Deepak Avhad",
      "photoUrl": "https://lh3.googleusercontent.com/a-/AOh14GhY6x3bmDdXRl6lSqWi0RKwhXwFroevfB4OUaxfwg=s64",
      "userId": "16043617655025119202"
     },
     "user_tz": -330
    },
    "id": "OycGkN5XjcdQ",
    "outputId": "c7ea225a-d705-4598-aa53-35d64070b1c3"
   },
   "outputs": [
    {
     "data": {
      "text/html": [
       "\n",
       "  <div id=\"df-80a29eab-af51-4d44-99a5-220de662cdc0\">\n",
       "    <div class=\"colab-df-container\">\n",
       "      <div>\n",
       "<style scoped>\n",
       "    .dataframe tbody tr th:only-of-type {\n",
       "        vertical-align: middle;\n",
       "    }\n",
       "\n",
       "    .dataframe tbody tr th {\n",
       "        vertical-align: top;\n",
       "    }\n",
       "\n",
       "    .dataframe thead th {\n",
       "        text-align: right;\n",
       "    }\n",
       "</style>\n",
       "<table border=\"1\" class=\"dataframe\">\n",
       "  <thead>\n",
       "    <tr style=\"text-align: right;\">\n",
       "      <th></th>\n",
       "      <th>id</th>\n",
       "      <th>label</th>\n",
       "      <th>tweet</th>\n",
       "      <th>new_tweet</th>\n",
       "    </tr>\n",
       "  </thead>\n",
       "  <tbody>\n",
       "    <tr>\n",
       "      <th>0</th>\n",
       "      <td>1</td>\n",
       "      <td>0</td>\n",
       "      <td>@user when a father is dysfunctional and is s...</td>\n",
       "      <td>when a father is dysfunctional and is so sel...</td>\n",
       "    </tr>\n",
       "    <tr>\n",
       "      <th>1</th>\n",
       "      <td>2</td>\n",
       "      <td>0</td>\n",
       "      <td>@user @user thanks for #lyft credit i can't us...</td>\n",
       "      <td>thanks for lyft credit i can t use cause the...</td>\n",
       "    </tr>\n",
       "    <tr>\n",
       "      <th>2</th>\n",
       "      <td>3</td>\n",
       "      <td>0</td>\n",
       "      <td>bihday your majesty</td>\n",
       "      <td>bihday your majesty</td>\n",
       "    </tr>\n",
       "    <tr>\n",
       "      <th>3</th>\n",
       "      <td>4</td>\n",
       "      <td>0</td>\n",
       "      <td>#model   i love u take with u all the time in ...</td>\n",
       "      <td>model   i love u take with u all the time in u...</td>\n",
       "    </tr>\n",
       "    <tr>\n",
       "      <th>4</th>\n",
       "      <td>5</td>\n",
       "      <td>0</td>\n",
       "      <td>factsguide: society now    #motivation</td>\n",
       "      <td>factsguide  society now    motivation</td>\n",
       "    </tr>\n",
       "  </tbody>\n",
       "</table>\n",
       "</div>\n",
       "      <button class=\"colab-df-convert\" onclick=\"convertToInteractive('df-80a29eab-af51-4d44-99a5-220de662cdc0')\"\n",
       "              title=\"Convert this dataframe to an interactive table.\"\n",
       "              style=\"display:none;\">\n",
       "        \n",
       "  <svg xmlns=\"http://www.w3.org/2000/svg\" height=\"24px\"viewBox=\"0 0 24 24\"\n",
       "       width=\"24px\">\n",
       "    <path d=\"M0 0h24v24H0V0z\" fill=\"none\"/>\n",
       "    <path d=\"M18.56 5.44l.94 2.06.94-2.06 2.06-.94-2.06-.94-.94-2.06-.94 2.06-2.06.94zm-11 1L8.5 8.5l.94-2.06 2.06-.94-2.06-.94L8.5 2.5l-.94 2.06-2.06.94zm10 10l.94 2.06.94-2.06 2.06-.94-2.06-.94-.94-2.06-.94 2.06-2.06.94z\"/><path d=\"M17.41 7.96l-1.37-1.37c-.4-.4-.92-.59-1.43-.59-.52 0-1.04.2-1.43.59L10.3 9.45l-7.72 7.72c-.78.78-.78 2.05 0 2.83L4 21.41c.39.39.9.59 1.41.59.51 0 1.02-.2 1.41-.59l7.78-7.78 2.81-2.81c.8-.78.8-2.07 0-2.86zM5.41 20L4 18.59l7.72-7.72 1.47 1.35L5.41 20z\"/>\n",
       "  </svg>\n",
       "      </button>\n",
       "      \n",
       "  <style>\n",
       "    .colab-df-container {\n",
       "      display:flex;\n",
       "      flex-wrap:wrap;\n",
       "      gap: 12px;\n",
       "    }\n",
       "\n",
       "    .colab-df-convert {\n",
       "      background-color: #E8F0FE;\n",
       "      border: none;\n",
       "      border-radius: 50%;\n",
       "      cursor: pointer;\n",
       "      display: none;\n",
       "      fill: #1967D2;\n",
       "      height: 32px;\n",
       "      padding: 0 0 0 0;\n",
       "      width: 32px;\n",
       "    }\n",
       "\n",
       "    .colab-df-convert:hover {\n",
       "      background-color: #E2EBFA;\n",
       "      box-shadow: 0px 1px 2px rgba(60, 64, 67, 0.3), 0px 1px 3px 1px rgba(60, 64, 67, 0.15);\n",
       "      fill: #174EA6;\n",
       "    }\n",
       "\n",
       "    [theme=dark] .colab-df-convert {\n",
       "      background-color: #3B4455;\n",
       "      fill: #D2E3FC;\n",
       "    }\n",
       "\n",
       "    [theme=dark] .colab-df-convert:hover {\n",
       "      background-color: #434B5C;\n",
       "      box-shadow: 0px 1px 3px 1px rgba(0, 0, 0, 0.15);\n",
       "      filter: drop-shadow(0px 1px 2px rgba(0, 0, 0, 0.3));\n",
       "      fill: #FFFFFF;\n",
       "    }\n",
       "  </style>\n",
       "\n",
       "      <script>\n",
       "        const buttonEl =\n",
       "          document.querySelector('#df-80a29eab-af51-4d44-99a5-220de662cdc0 button.colab-df-convert');\n",
       "        buttonEl.style.display =\n",
       "          google.colab.kernel.accessAllowed ? 'block' : 'none';\n",
       "\n",
       "        async function convertToInteractive(key) {\n",
       "          const element = document.querySelector('#df-80a29eab-af51-4d44-99a5-220de662cdc0');\n",
       "          const dataTable =\n",
       "            await google.colab.kernel.invokeFunction('convertToInteractive',\n",
       "                                                     [key], {});\n",
       "          if (!dataTable) return;\n",
       "\n",
       "          const docLinkHtml = 'Like what you see? Visit the ' +\n",
       "            '<a target=\"_blank\" href=https://colab.research.google.com/notebooks/data_table.ipynb>data table notebook</a>'\n",
       "            + ' to learn more about interactive tables.';\n",
       "          element.innerHTML = '';\n",
       "          dataTable['output_type'] = 'display_data';\n",
       "          await google.colab.output.renderOutput(dataTable, element);\n",
       "          const docLink = document.createElement('div');\n",
       "          docLink.innerHTML = docLinkHtml;\n",
       "          element.appendChild(docLink);\n",
       "        }\n",
       "      </script>\n",
       "    </div>\n",
       "  </div>\n",
       "  "
      ],
      "text/plain": [
       "   id  ...                                          new_tweet\n",
       "0   1  ...    when a father is dysfunctional and is so sel...\n",
       "1   2  ...    thanks for lyft credit i can t use cause the...\n",
       "2   3  ...                                bihday your majesty\n",
       "3   4  ...  model   i love u take with u all the time in u...\n",
       "4   5  ...              factsguide  society now    motivation\n",
       "\n",
       "[5 rows x 4 columns]"
      ]
     },
     "execution_count": 10,
     "metadata": {},
     "output_type": "execute_result"
    }
   ],
   "source": [
    "#Removing Punctuations, Numbers, and Special Characters\n",
    "df['new_tweet'] = df['new_tweet'].str.replace(\"[^a-zA-Z#]\", \" \")\n",
    "df['new_tweet'] = df['new_tweet'].str.replace(\"#\", \"\")\n",
    "df.head()"
   ]
  },
  {
   "cell_type": "code",
   "execution_count": null,
   "metadata": {
    "colab": {
     "base_uri": "https://localhost:8080/"
    },
    "executionInfo": {
     "elapsed": 40,
     "status": "ok",
     "timestamp": 1644386776483,
     "user": {
      "displayName": "Deepak Avhad",
      "photoUrl": "https://lh3.googleusercontent.com/a-/AOh14GhY6x3bmDdXRl6lSqWi0RKwhXwFroevfB4OUaxfwg=s64",
      "userId": "16043617655025119202"
     },
     "user_tz": -330
    },
    "id": "pt7I4bQPjslG",
    "outputId": "1bfcdd0f-67b0-47ae-d6fa-d8a94e0afe0e"
   },
   "outputs": [
    {
     "data": {
      "text/plain": [
       "[('the', 10238),\n",
       " ('to', 9866),\n",
       " ('i', 7622),\n",
       " ('a', 6540),\n",
       " ('you', 5949),\n",
       " ('and', 4945),\n",
       " ('in', 4704),\n",
       " ('for', 4510),\n",
       " ('of', 4261),\n",
       " ('is', 4196)]"
      ]
     },
     "execution_count": 11,
     "metadata": {},
     "output_type": "execute_result"
    }
   ],
   "source": [
    "# get most common words in training dataset\n",
    "from collections import Counter \n",
    "all_words = []\n",
    "for line in list(df['new_tweet']):\n",
    "    words = line.split()\n",
    "    for word in words:\n",
    "        all_words.append(word.lower())   \n",
    "a=Counter(all_words).most_common(10)\n",
    "a"
   ]
  },
  {
   "cell_type": "markdown",
   "metadata": {
    "id": "7HBoW4TKkg6U"
   },
   "source": [
    "# Tokenization"
   ]
  },
  {
   "cell_type": "code",
   "execution_count": null,
   "metadata": {
    "colab": {
     "base_uri": "https://localhost:8080/",
     "height": 206
    },
    "executionInfo": {
     "elapsed": 38,
     "status": "ok",
     "timestamp": 1644386776484,
     "user": {
      "displayName": "Deepak Avhad",
      "photoUrl": "https://lh3.googleusercontent.com/a-/AOh14GhY6x3bmDdXRl6lSqWi0RKwhXwFroevfB4OUaxfwg=s64",
      "userId": "16043617655025119202"
     },
     "user_tz": -330
    },
    "id": "rsCMlSobj80z",
    "outputId": "1331b756-18a0-4fbb-c7d1-260c27c67249"
   },
   "outputs": [
    {
     "data": {
      "text/html": [
       "\n",
       "  <div id=\"df-606ad359-7b7c-4aaa-9a1f-51460251f539\">\n",
       "    <div class=\"colab-df-container\">\n",
       "      <div>\n",
       "<style scoped>\n",
       "    .dataframe tbody tr th:only-of-type {\n",
       "        vertical-align: middle;\n",
       "    }\n",
       "\n",
       "    .dataframe tbody tr th {\n",
       "        vertical-align: top;\n",
       "    }\n",
       "\n",
       "    .dataframe thead th {\n",
       "        text-align: right;\n",
       "    }\n",
       "</style>\n",
       "<table border=\"1\" class=\"dataframe\">\n",
       "  <thead>\n",
       "    <tr style=\"text-align: right;\">\n",
       "      <th></th>\n",
       "      <th>id</th>\n",
       "      <th>label</th>\n",
       "      <th>tweet</th>\n",
       "      <th>new_tweet</th>\n",
       "    </tr>\n",
       "  </thead>\n",
       "  <tbody>\n",
       "    <tr>\n",
       "      <th>0</th>\n",
       "      <td>1</td>\n",
       "      <td>0</td>\n",
       "      <td>@user when a father is dysfunctional and is s...</td>\n",
       "      <td>[when, a, father, is, dysfunctional, and, is, ...</td>\n",
       "    </tr>\n",
       "    <tr>\n",
       "      <th>1</th>\n",
       "      <td>2</td>\n",
       "      <td>0</td>\n",
       "      <td>@user @user thanks for #lyft credit i can't us...</td>\n",
       "      <td>[thanks, for, lyft, credit, i, can, t, use, ca...</td>\n",
       "    </tr>\n",
       "    <tr>\n",
       "      <th>2</th>\n",
       "      <td>3</td>\n",
       "      <td>0</td>\n",
       "      <td>bihday your majesty</td>\n",
       "      <td>[bihday, your, majesty]</td>\n",
       "    </tr>\n",
       "    <tr>\n",
       "      <th>3</th>\n",
       "      <td>4</td>\n",
       "      <td>0</td>\n",
       "      <td>#model   i love u take with u all the time in ...</td>\n",
       "      <td>[model, i, love, u, take, with, u, all, the, t...</td>\n",
       "    </tr>\n",
       "    <tr>\n",
       "      <th>4</th>\n",
       "      <td>5</td>\n",
       "      <td>0</td>\n",
       "      <td>factsguide: society now    #motivation</td>\n",
       "      <td>[factsguide, society, now, motivation]</td>\n",
       "    </tr>\n",
       "  </tbody>\n",
       "</table>\n",
       "</div>\n",
       "      <button class=\"colab-df-convert\" onclick=\"convertToInteractive('df-606ad359-7b7c-4aaa-9a1f-51460251f539')\"\n",
       "              title=\"Convert this dataframe to an interactive table.\"\n",
       "              style=\"display:none;\">\n",
       "        \n",
       "  <svg xmlns=\"http://www.w3.org/2000/svg\" height=\"24px\"viewBox=\"0 0 24 24\"\n",
       "       width=\"24px\">\n",
       "    <path d=\"M0 0h24v24H0V0z\" fill=\"none\"/>\n",
       "    <path d=\"M18.56 5.44l.94 2.06.94-2.06 2.06-.94-2.06-.94-.94-2.06-.94 2.06-2.06.94zm-11 1L8.5 8.5l.94-2.06 2.06-.94-2.06-.94L8.5 2.5l-.94 2.06-2.06.94zm10 10l.94 2.06.94-2.06 2.06-.94-2.06-.94-.94-2.06-.94 2.06-2.06.94z\"/><path d=\"M17.41 7.96l-1.37-1.37c-.4-.4-.92-.59-1.43-.59-.52 0-1.04.2-1.43.59L10.3 9.45l-7.72 7.72c-.78.78-.78 2.05 0 2.83L4 21.41c.39.39.9.59 1.41.59.51 0 1.02-.2 1.41-.59l7.78-7.78 2.81-2.81c.8-.78.8-2.07 0-2.86zM5.41 20L4 18.59l7.72-7.72 1.47 1.35L5.41 20z\"/>\n",
       "  </svg>\n",
       "      </button>\n",
       "      \n",
       "  <style>\n",
       "    .colab-df-container {\n",
       "      display:flex;\n",
       "      flex-wrap:wrap;\n",
       "      gap: 12px;\n",
       "    }\n",
       "\n",
       "    .colab-df-convert {\n",
       "      background-color: #E8F0FE;\n",
       "      border: none;\n",
       "      border-radius: 50%;\n",
       "      cursor: pointer;\n",
       "      display: none;\n",
       "      fill: #1967D2;\n",
       "      height: 32px;\n",
       "      padding: 0 0 0 0;\n",
       "      width: 32px;\n",
       "    }\n",
       "\n",
       "    .colab-df-convert:hover {\n",
       "      background-color: #E2EBFA;\n",
       "      box-shadow: 0px 1px 2px rgba(60, 64, 67, 0.3), 0px 1px 3px 1px rgba(60, 64, 67, 0.15);\n",
       "      fill: #174EA6;\n",
       "    }\n",
       "\n",
       "    [theme=dark] .colab-df-convert {\n",
       "      background-color: #3B4455;\n",
       "      fill: #D2E3FC;\n",
       "    }\n",
       "\n",
       "    [theme=dark] .colab-df-convert:hover {\n",
       "      background-color: #434B5C;\n",
       "      box-shadow: 0px 1px 3px 1px rgba(0, 0, 0, 0.15);\n",
       "      filter: drop-shadow(0px 1px 2px rgba(0, 0, 0, 0.3));\n",
       "      fill: #FFFFFF;\n",
       "    }\n",
       "  </style>\n",
       "\n",
       "      <script>\n",
       "        const buttonEl =\n",
       "          document.querySelector('#df-606ad359-7b7c-4aaa-9a1f-51460251f539 button.colab-df-convert');\n",
       "        buttonEl.style.display =\n",
       "          google.colab.kernel.accessAllowed ? 'block' : 'none';\n",
       "\n",
       "        async function convertToInteractive(key) {\n",
       "          const element = document.querySelector('#df-606ad359-7b7c-4aaa-9a1f-51460251f539');\n",
       "          const dataTable =\n",
       "            await google.colab.kernel.invokeFunction('convertToInteractive',\n",
       "                                                     [key], {});\n",
       "          if (!dataTable) return;\n",
       "\n",
       "          const docLinkHtml = 'Like what you see? Visit the ' +\n",
       "            '<a target=\"_blank\" href=https://colab.research.google.com/notebooks/data_table.ipynb>data table notebook</a>'\n",
       "            + ' to learn more about interactive tables.';\n",
       "          element.innerHTML = '';\n",
       "          dataTable['output_type'] = 'display_data';\n",
       "          await google.colab.output.renderOutput(dataTable, element);\n",
       "          const docLink = document.createElement('div');\n",
       "          docLink.innerHTML = docLinkHtml;\n",
       "          element.appendChild(docLink);\n",
       "        }\n",
       "      </script>\n",
       "    </div>\n",
       "  </div>\n",
       "  "
      ],
      "text/plain": [
       "   id  ...                                          new_tweet\n",
       "0   1  ...  [when, a, father, is, dysfunctional, and, is, ...\n",
       "1   2  ...  [thanks, for, lyft, credit, i, can, t, use, ca...\n",
       "2   3  ...                            [bihday, your, majesty]\n",
       "3   4  ...  [model, i, love, u, take, with, u, all, the, t...\n",
       "4   5  ...             [factsguide, society, now, motivation]\n",
       "\n",
       "[5 rows x 4 columns]"
      ]
     },
     "execution_count": 12,
     "metadata": {},
     "output_type": "execute_result"
    }
   ],
   "source": [
    "#split the tokens\n",
    "df['new_tweet'] = df['new_tweet'].apply(lambda x: x.split())\n",
    "df.head()"
   ]
  },
  {
   "cell_type": "markdown",
   "metadata": {
    "id": "ysx80k3gpbBy"
   },
   "source": [
    "# Stemming"
   ]
  },
  {
   "cell_type": "code",
   "execution_count": null,
   "metadata": {
    "colab": {
     "base_uri": "https://localhost:8080/",
     "height": 206
    },
    "executionInfo": {
     "elapsed": 14551,
     "status": "ok",
     "timestamp": 1644386791001,
     "user": {
      "displayName": "Deepak Avhad",
      "photoUrl": "https://lh3.googleusercontent.com/a-/AOh14GhY6x3bmDdXRl6lSqWi0RKwhXwFroevfB4OUaxfwg=s64",
      "userId": "16043617655025119202"
     },
     "user_tz": -330
    },
    "id": "x6U4TK68m87a",
    "outputId": "29c412dc-4fa6-40cf-c378-029707c05a65"
   },
   "outputs": [
    {
     "data": {
      "text/html": [
       "\n",
       "  <div id=\"df-27fa668c-7462-4fa9-8dec-6f9bc376a41b\">\n",
       "    <div class=\"colab-df-container\">\n",
       "      <div>\n",
       "<style scoped>\n",
       "    .dataframe tbody tr th:only-of-type {\n",
       "        vertical-align: middle;\n",
       "    }\n",
       "\n",
       "    .dataframe tbody tr th {\n",
       "        vertical-align: top;\n",
       "    }\n",
       "\n",
       "    .dataframe thead th {\n",
       "        text-align: right;\n",
       "    }\n",
       "</style>\n",
       "<table border=\"1\" class=\"dataframe\">\n",
       "  <thead>\n",
       "    <tr style=\"text-align: right;\">\n",
       "      <th></th>\n",
       "      <th>id</th>\n",
       "      <th>label</th>\n",
       "      <th>tweet</th>\n",
       "      <th>new_tweet</th>\n",
       "    </tr>\n",
       "  </thead>\n",
       "  <tbody>\n",
       "    <tr>\n",
       "      <th>0</th>\n",
       "      <td>1</td>\n",
       "      <td>0</td>\n",
       "      <td>@user when a father is dysfunctional and is s...</td>\n",
       "      <td>[when, a, father, is, dysfunct, and, is, so, s...</td>\n",
       "    </tr>\n",
       "    <tr>\n",
       "      <th>1</th>\n",
       "      <td>2</td>\n",
       "      <td>0</td>\n",
       "      <td>@user @user thanks for #lyft credit i can't us...</td>\n",
       "      <td>[thank, for, lyft, credit, i, can, t, use, cau...</td>\n",
       "    </tr>\n",
       "    <tr>\n",
       "      <th>2</th>\n",
       "      <td>3</td>\n",
       "      <td>0</td>\n",
       "      <td>bihday your majesty</td>\n",
       "      <td>[bihday, your, majesti]</td>\n",
       "    </tr>\n",
       "    <tr>\n",
       "      <th>3</th>\n",
       "      <td>4</td>\n",
       "      <td>0</td>\n",
       "      <td>#model   i love u take with u all the time in ...</td>\n",
       "      <td>[model, i, love, u, take, with, u, all, the, t...</td>\n",
       "    </tr>\n",
       "    <tr>\n",
       "      <th>4</th>\n",
       "      <td>5</td>\n",
       "      <td>0</td>\n",
       "      <td>factsguide: society now    #motivation</td>\n",
       "      <td>[factsguid, societi, now, motiv]</td>\n",
       "    </tr>\n",
       "  </tbody>\n",
       "</table>\n",
       "</div>\n",
       "      <button class=\"colab-df-convert\" onclick=\"convertToInteractive('df-27fa668c-7462-4fa9-8dec-6f9bc376a41b')\"\n",
       "              title=\"Convert this dataframe to an interactive table.\"\n",
       "              style=\"display:none;\">\n",
       "        \n",
       "  <svg xmlns=\"http://www.w3.org/2000/svg\" height=\"24px\"viewBox=\"0 0 24 24\"\n",
       "       width=\"24px\">\n",
       "    <path d=\"M0 0h24v24H0V0z\" fill=\"none\"/>\n",
       "    <path d=\"M18.56 5.44l.94 2.06.94-2.06 2.06-.94-2.06-.94-.94-2.06-.94 2.06-2.06.94zm-11 1L8.5 8.5l.94-2.06 2.06-.94-2.06-.94L8.5 2.5l-.94 2.06-2.06.94zm10 10l.94 2.06.94-2.06 2.06-.94-2.06-.94-.94-2.06-.94 2.06-2.06.94z\"/><path d=\"M17.41 7.96l-1.37-1.37c-.4-.4-.92-.59-1.43-.59-.52 0-1.04.2-1.43.59L10.3 9.45l-7.72 7.72c-.78.78-.78 2.05 0 2.83L4 21.41c.39.39.9.59 1.41.59.51 0 1.02-.2 1.41-.59l7.78-7.78 2.81-2.81c.8-.78.8-2.07 0-2.86zM5.41 20L4 18.59l7.72-7.72 1.47 1.35L5.41 20z\"/>\n",
       "  </svg>\n",
       "      </button>\n",
       "      \n",
       "  <style>\n",
       "    .colab-df-container {\n",
       "      display:flex;\n",
       "      flex-wrap:wrap;\n",
       "      gap: 12px;\n",
       "    }\n",
       "\n",
       "    .colab-df-convert {\n",
       "      background-color: #E8F0FE;\n",
       "      border: none;\n",
       "      border-radius: 50%;\n",
       "      cursor: pointer;\n",
       "      display: none;\n",
       "      fill: #1967D2;\n",
       "      height: 32px;\n",
       "      padding: 0 0 0 0;\n",
       "      width: 32px;\n",
       "    }\n",
       "\n",
       "    .colab-df-convert:hover {\n",
       "      background-color: #E2EBFA;\n",
       "      box-shadow: 0px 1px 2px rgba(60, 64, 67, 0.3), 0px 1px 3px 1px rgba(60, 64, 67, 0.15);\n",
       "      fill: #174EA6;\n",
       "    }\n",
       "\n",
       "    [theme=dark] .colab-df-convert {\n",
       "      background-color: #3B4455;\n",
       "      fill: #D2E3FC;\n",
       "    }\n",
       "\n",
       "    [theme=dark] .colab-df-convert:hover {\n",
       "      background-color: #434B5C;\n",
       "      box-shadow: 0px 1px 3px 1px rgba(0, 0, 0, 0.15);\n",
       "      filter: drop-shadow(0px 1px 2px rgba(0, 0, 0, 0.3));\n",
       "      fill: #FFFFFF;\n",
       "    }\n",
       "  </style>\n",
       "\n",
       "      <script>\n",
       "        const buttonEl =\n",
       "          document.querySelector('#df-27fa668c-7462-4fa9-8dec-6f9bc376a41b button.colab-df-convert');\n",
       "        buttonEl.style.display =\n",
       "          google.colab.kernel.accessAllowed ? 'block' : 'none';\n",
       "\n",
       "        async function convertToInteractive(key) {\n",
       "          const element = document.querySelector('#df-27fa668c-7462-4fa9-8dec-6f9bc376a41b');\n",
       "          const dataTable =\n",
       "            await google.colab.kernel.invokeFunction('convertToInteractive',\n",
       "                                                     [key], {});\n",
       "          if (!dataTable) return;\n",
       "\n",
       "          const docLinkHtml = 'Like what you see? Visit the ' +\n",
       "            '<a target=\"_blank\" href=https://colab.research.google.com/notebooks/data_table.ipynb>data table notebook</a>'\n",
       "            + ' to learn more about interactive tables.';\n",
       "          element.innerHTML = '';\n",
       "          dataTable['output_type'] = 'display_data';\n",
       "          await google.colab.output.renderOutput(dataTable, element);\n",
       "          const docLink = document.createElement('div');\n",
       "          docLink.innerHTML = docLinkHtml;\n",
       "          element.appendChild(docLink);\n",
       "        }\n",
       "      </script>\n",
       "    </div>\n",
       "  </div>\n",
       "  "
      ],
      "text/plain": [
       "   id  ...                                          new_tweet\n",
       "0   1  ...  [when, a, father, is, dysfunct, and, is, so, s...\n",
       "1   2  ...  [thank, for, lyft, credit, i, can, t, use, cau...\n",
       "2   3  ...                            [bihday, your, majesti]\n",
       "3   4  ...  [model, i, love, u, take, with, u, all, the, t...\n",
       "4   5  ...                   [factsguid, societi, now, motiv]\n",
       "\n",
       "[5 rows x 4 columns]"
      ]
     },
     "execution_count": 13,
     "metadata": {},
     "output_type": "execute_result"
    }
   ],
   "source": [
    "import nltk\n",
    "stemmer = nltk.PorterStemmer()\n",
    "df['new_tweet']= df['new_tweet'].apply(lambda x: [stemmer.stem(i) for i in x])\n",
    "df.head()"
   ]
  },
  {
   "cell_type": "markdown",
   "metadata": {
    "id": "lj4QEbBpmCz-"
   },
   "source": [
    "# Stopwords"
   ]
  },
  {
   "cell_type": "code",
   "execution_count": null,
   "metadata": {
    "colab": {
     "base_uri": "https://localhost:8080/"
    },
    "executionInfo": {
     "elapsed": 21,
     "status": "ok",
     "timestamp": 1644386791003,
     "user": {
      "displayName": "Deepak Avhad",
      "photoUrl": "https://lh3.googleusercontent.com/a-/AOh14GhY6x3bmDdXRl6lSqWi0RKwhXwFroevfB4OUaxfwg=s64",
      "userId": "16043617655025119202"
     },
     "user_tz": -330
    },
    "id": "VppTbT6plYbN",
    "outputId": "b0aa4995-c7d9-4948-9c71-749e894c50a6"
   },
   "outputs": [
    {
     "name": "stdout",
     "output_type": "stream",
     "text": [
      "[nltk_data] Downloading package stopwords to /root/nltk_data...\n",
      "[nltk_data]   Package stopwords is already up-to-date!\n"
     ]
    }
   ],
   "source": [
    "nltk.download('stopwords')\n",
    "from nltk.corpus import stopwords\n",
    "\n",
    "from nltk.tokenize import word_tokenize\n",
    "stopwords = set(stopwords.words('english'))\n",
    "stopwords = nltk.corpus.stopwords.words('english')"
   ]
  },
  {
   "cell_type": "code",
   "execution_count": null,
   "metadata": {
    "id": "kVfBuKvAmG5q"
   },
   "outputs": [],
   "source": [
    "#extending new stopwords\n",
    "newStopWords = ['u','go','got','via','or','ur','us','in','i','let','the','to','is','amp','make','one','day','days','get']\n",
    "stopwords.extend(newStopWords)"
   ]
  },
  {
   "cell_type": "markdown",
   "metadata": {
    "id": "dLU2OVhcdMZR"
   },
   "source": [
    "# punctuation"
   ]
  },
  {
   "cell_type": "code",
   "execution_count": null,
   "metadata": {
    "id": "7N6rS3cRmRaO"
   },
   "outputs": [],
   "source": [
    "import string \n",
    "from string import punctuation\n",
    "def process(text):\n",
    "    # Check characters to see if they are in punctuation\n",
    "    nopunc = set(char for char in list(text) if char not in string.punctuation)\n",
    "    # Join the characters to form the string.\n",
    "    nopunc = \" \".join(nopunc)\n",
    "    # remove any stopwords if present\n",
    "    return [word for word in nopunc.lower().split() if word.lower() not in stopwords]"
   ]
  },
  {
   "cell_type": "code",
   "execution_count": null,
   "metadata": {
    "id": "qa9QjjGamagg"
   },
   "outputs": [],
   "source": [
    "df['new_tweet'] = df['new_tweet'].apply(process)"
   ]
  },
  {
   "cell_type": "markdown",
   "metadata": {
    "id": "I7PYJLJH1rut"
   },
   "source": [
    "# wordcloud"
   ]
  },
  {
   "cell_type": "code",
   "execution_count": null,
   "metadata": {
    "colab": {
     "base_uri": "https://localhost:8080/"
    },
    "executionInfo": {
     "elapsed": 6425,
     "status": "ok",
     "timestamp": 1644386800684,
     "user": {
      "displayName": "Deepak Avhad",
      "photoUrl": "https://lh3.googleusercontent.com/a-/AOh14GhY6x3bmDdXRl6lSqWi0RKwhXwFroevfB4OUaxfwg=s64",
      "userId": "16043617655025119202"
     },
     "user_tz": -330
    },
    "id": "oQX1T98Www-T",
    "outputId": "cd94ce9f-1efb-467e-dd7f-57e1bd5a215d"
   },
   "outputs": [
    {
     "name": "stdout",
     "output_type": "stream",
     "text": [
      "Requirement already satisfied: wordcloud in /usr/local/lib/python3.7/dist-packages (1.5.0)\n",
      "Requirement already satisfied: pillow in /usr/local/lib/python3.7/dist-packages (from wordcloud) (7.1.2)\n",
      "Requirement already satisfied: numpy>=1.6.1 in /usr/local/lib/python3.7/dist-packages (from wordcloud) (1.19.5)\n"
     ]
    }
   ],
   "source": [
    "pip install wordcloud"
   ]
  },
  {
   "cell_type": "code",
   "execution_count": null,
   "metadata": {
    "colab": {
     "base_uri": "https://localhost:8080/"
    },
    "executionInfo": {
     "elapsed": 1862,
     "status": "ok",
     "timestamp": 1644386802541,
     "user": {
      "displayName": "Deepak Avhad",
      "photoUrl": "https://lh3.googleusercontent.com/a-/AOh14GhY6x3bmDdXRl6lSqWi0RKwhXwFroevfB4OUaxfwg=s64",
      "userId": "16043617655025119202"
     },
     "user_tz": -330
    },
    "id": "l1xH9lXyum7H",
    "outputId": "e1053b66-c4f7-42e7-ab49-992c1bc3edc8"
   },
   "outputs": [
    {
     "data": {
      "text/plain": [
       "<wordcloud.wordcloud.WordCloud at 0x7f9f3a23a210>"
      ]
     },
     "execution_count": 19,
     "metadata": {},
     "output_type": "execute_result"
    }
   ],
   "source": [
    "from wordcloud import WordCloud\n",
    "import matplotlib.pyplot as plt\n",
    "\n",
    "# split sentences to get individual words\n",
    "words = []\n",
    "for line in df['new_tweet']: \n",
    "    words.extend(line)\n",
    "    \n",
    "# create a word frequency dictionary\n",
    "wordfreq = Counter(words)\n",
    "# draw a Word Cloud with word frequencies\n",
    "wc = WordCloud(\n",
    "    background_color='white',\n",
    "    max_words=2000,\n",
    "    stopwords=stopwords\n",
    "   )\n",
    "wc.generate_from_frequencies(wordfreq)"
   ]
  },
  {
   "cell_type": "code",
   "execution_count": null,
   "metadata": {
    "colab": {
     "base_uri": "https://localhost:8080/",
     "height": 310
    },
    "executionInfo": {
     "elapsed": 2124,
     "status": "ok",
     "timestamp": 1644386804630,
     "user": {
      "displayName": "Deepak Avhad",
      "photoUrl": "https://lh3.googleusercontent.com/a-/AOh14GhY6x3bmDdXRl6lSqWi0RKwhXwFroevfB4OUaxfwg=s64",
      "userId": "16043617655025119202"
     },
     "user_tz": -330
    },
    "id": "NeTAxXS_vSqI",
    "outputId": "89532522-f0e4-45f6-f793-e2fb3b7da983"
   },
   "outputs": [
    {
     "data": {
      "image/png": "[encoded data removed]",
      "text/plain": [
       "<Figure size 720x648 with 1 Axes>"
      ]
     },
     "metadata": {
      "needs_background": "light"
     },
     "output_type": "display_data"
    }
   ],
   "source": [
    "plt.figure(figsize=(10,9))\n",
    "plt.imshow(wc, interpolation='bilinear')\n",
    "plt.axis(\"off\")\n",
    "plt.show()"
   ]
  },
  {
   "cell_type": "code",
   "execution_count": null,
   "metadata": {
    "colab": {
     "base_uri": "https://localhost:8080/",
     "height": 206
    },
    "executionInfo": {
     "elapsed": 21,
     "status": "ok",
     "timestamp": 1644386804632,
     "user": {
      "displayName": "Deepak Avhad",
      "photoUrl": "https://lh3.googleusercontent.com/a-/AOh14GhY6x3bmDdXRl6lSqWi0RKwhXwFroevfB4OUaxfwg=s64",
      "userId": "16043617655025119202"
     },
     "user_tz": -330
    },
    "id": "70gOoni3xvcO",
    "outputId": "0e23e4b4-c952-447b-8a27-38185fdcaf65"
   },
   "outputs": [
    {
     "data": {
      "text/html": [
       "\n",
       "  <div id=\"df-313df7e7-2742-4b48-b745-dec79d1029a5\">\n",
       "    <div class=\"colab-df-container\">\n",
       "      <div>\n",
       "<style scoped>\n",
       "    .dataframe tbody tr th:only-of-type {\n",
       "        vertical-align: middle;\n",
       "    }\n",
       "\n",
       "    .dataframe tbody tr th {\n",
       "        vertical-align: top;\n",
       "    }\n",
       "\n",
       "    .dataframe thead th {\n",
       "        text-align: right;\n",
       "    }\n",
       "</style>\n",
       "<table border=\"1\" class=\"dataframe\">\n",
       "  <thead>\n",
       "    <tr style=\"text-align: right;\">\n",
       "      <th></th>\n",
       "      <th>id</th>\n",
       "      <th>label</th>\n",
       "      <th>tweet</th>\n",
       "      <th>new_tweet</th>\n",
       "    </tr>\n",
       "  </thead>\n",
       "  <tbody>\n",
       "    <tr>\n",
       "      <th>0</th>\n",
       "      <td>1</td>\n",
       "      <td>0</td>\n",
       "      <td>@user when a father is dysfunctional and is s...</td>\n",
       "      <td>drag selfish kid dysfunct father hi run</td>\n",
       "    </tr>\n",
       "    <tr>\n",
       "      <th>1</th>\n",
       "      <td>2</td>\n",
       "      <td>0</td>\n",
       "      <td>@user @user thanks for #lyft credit i can't us...</td>\n",
       "      <td>offer van pdx use credit wheelchair caus lyft ...</td>\n",
       "    </tr>\n",
       "    <tr>\n",
       "      <th>2</th>\n",
       "      <td>3</td>\n",
       "      <td>0</td>\n",
       "      <td>bihday your majesty</td>\n",
       "      <td>majesti bihday</td>\n",
       "    </tr>\n",
       "    <tr>\n",
       "      <th>3</th>\n",
       "      <td>4</td>\n",
       "      <td>0</td>\n",
       "      <td>#model   i love u take with u all the time in ...</td>\n",
       "      <td>time love take model</td>\n",
       "    </tr>\n",
       "    <tr>\n",
       "      <th>4</th>\n",
       "      <td>5</td>\n",
       "      <td>0</td>\n",
       "      <td>factsguide: society now    #motivation</td>\n",
       "      <td>factsguid societi motiv</td>\n",
       "    </tr>\n",
       "  </tbody>\n",
       "</table>\n",
       "</div>\n",
       "      <button class=\"colab-df-convert\" onclick=\"convertToInteractive('df-313df7e7-2742-4b48-b745-dec79d1029a5')\"\n",
       "              title=\"Convert this dataframe to an interactive table.\"\n",
       "              style=\"display:none;\">\n",
       "        \n",
       "  <svg xmlns=\"http://www.w3.org/2000/svg\" height=\"24px\"viewBox=\"0 0 24 24\"\n",
       "       width=\"24px\">\n",
       "    <path d=\"M0 0h24v24H0V0z\" fill=\"none\"/>\n",
       "    <path d=\"M18.56 5.44l.94 2.06.94-2.06 2.06-.94-2.06-.94-.94-2.06-.94 2.06-2.06.94zm-11 1L8.5 8.5l.94-2.06 2.06-.94-2.06-.94L8.5 2.5l-.94 2.06-2.06.94zm10 10l.94 2.06.94-2.06 2.06-.94-2.06-.94-.94-2.06-.94 2.06-2.06.94z\"/><path d=\"M17.41 7.96l-1.37-1.37c-.4-.4-.92-.59-1.43-.59-.52 0-1.04.2-1.43.59L10.3 9.45l-7.72 7.72c-.78.78-.78 2.05 0 2.83L4 21.41c.39.39.9.59 1.41.59.51 0 1.02-.2 1.41-.59l7.78-7.78 2.81-2.81c.8-.78.8-2.07 0-2.86zM5.41 20L4 18.59l7.72-7.72 1.47 1.35L5.41 20z\"/>\n",
       "  </svg>\n",
       "      </button>\n",
       "      \n",
       "  <style>\n",
       "    .colab-df-container {\n",
       "      display:flex;\n",
       "      flex-wrap:wrap;\n",
       "      gap: 12px;\n",
       "    }\n",
       "\n",
       "    .colab-df-convert {\n",
       "      background-color: #E8F0FE;\n",
       "      border: none;\n",
       "      border-radius: 50%;\n",
       "      cursor: pointer;\n",
       "      display: none;\n",
       "      fill: #1967D2;\n",
       "      height: 32px;\n",
       "      padding: 0 0 0 0;\n",
       "      width: 32px;\n",
       "    }\n",
       "\n",
       "    .colab-df-convert:hover {\n",
       "      background-color: #E2EBFA;\n",
       "      box-shadow: 0px 1px 2px rgba(60, 64, 67, 0.3), 0px 1px 3px 1px rgba(60, 64, 67, 0.15);\n",
       "      fill: #174EA6;\n",
       "    }\n",
       "\n",
       "    [theme=dark] .colab-df-convert {\n",
       "      background-color: #3B4455;\n",
       "      fill: #D2E3FC;\n",
       "    }\n",
       "\n",
       "    [theme=dark] .colab-df-convert:hover {\n",
       "      background-color: #434B5C;\n",
       "      box-shadow: 0px 1px 3px 1px rgba(0, 0, 0, 0.15);\n",
       "      filter: drop-shadow(0px 1px 2px rgba(0, 0, 0, 0.3));\n",
       "      fill: #FFFFFF;\n",
       "    }\n",
       "  </style>\n",
       "\n",
       "      <script>\n",
       "        const buttonEl =\n",
       "          document.querySelector('#df-313df7e7-2742-4b48-b745-dec79d1029a5 button.colab-df-convert');\n",
       "        buttonEl.style.display =\n",
       "          google.colab.kernel.accessAllowed ? 'block' : 'none';\n",
       "\n",
       "        async function convertToInteractive(key) {\n",
       "          const element = document.querySelector('#df-313df7e7-2742-4b48-b745-dec79d1029a5');\n",
       "          const dataTable =\n",
       "            await google.colab.kernel.invokeFunction('convertToInteractive',\n",
       "                                                     [key], {});\n",
       "          if (!dataTable) return;\n",
       "\n",
       "          const docLinkHtml = 'Like what you see? Visit the ' +\n",
       "            '<a target=\"_blank\" href=https://colab.research.google.com/notebooks/data_table.ipynb>data table notebook</a>'\n",
       "            + ' to learn more about interactive tables.';\n",
       "          element.innerHTML = '';\n",
       "          dataTable['output_type'] = 'display_data';\n",
       "          await google.colab.output.renderOutput(dataTable, element);\n",
       "          const docLink = document.createElement('div');\n",
       "          docLink.innerHTML = docLinkHtml;\n",
       "          element.appendChild(docLink);\n",
       "        }\n",
       "      </script>\n",
       "    </div>\n",
       "  </div>\n",
       "  "
      ],
      "text/plain": [
       "   id  ...                                          new_tweet\n",
       "0   1  ...            drag selfish kid dysfunct father hi run\n",
       "1   2  ...  offer van pdx use credit wheelchair caus lyft ...\n",
       "2   3  ...                                     majesti bihday\n",
       "3   4  ...                               time love take model\n",
       "4   5  ...                            factsguid societi motiv\n",
       "\n",
       "[5 rows x 4 columns]"
      ]
     },
     "execution_count": 21,
     "metadata": {},
     "output_type": "execute_result"
    }
   ],
   "source": [
    "def string (text):\n",
    "    to_return=\"\"\n",
    "    for i in list(text):\n",
    "        to_return += str(i) + \" \"\n",
    "    to_return = to_return[:-1]\n",
    "    \n",
    "    return to_return\n",
    "           \n",
    "df['new_tweet'] = df['new_tweet'].apply(string)\n",
    "df.head()  "
   ]
  },
  {
   "cell_type": "markdown",
   "metadata": {
    "id": "RyKrVG43dpYI"
   },
   "source": [
    "# positive tweets"
   ]
  },
  {
   "cell_type": "code",
   "execution_count": null,
   "metadata": {
    "colab": {
     "base_uri": "https://localhost:8080/"
    },
    "executionInfo": {
     "elapsed": 2227,
     "status": "ok",
     "timestamp": 1644386806840,
     "user": {
      "displayName": "Deepak Avhad",
      "photoUrl": "https://lh3.googleusercontent.com/a-/AOh14GhY6x3bmDdXRl6lSqWi0RKwhXwFroevfB4OUaxfwg=s64",
      "userId": "16043617655025119202"
     },
     "user_tz": -330
    },
    "id": "FXra57b20jZe",
    "outputId": "98c8670c-a8fc-4a7e-9a66-e8409951ea02"
   },
   "outputs": [
    {
     "data": {
      "text/plain": [
       "<wordcloud.wordcloud.WordCloud at 0x7f9f3a3b5e90>"
      ]
     },
     "execution_count": 22,
     "metadata": {},
     "output_type": "execute_result"
    }
   ],
   "source": [
    "#positive tweets\n",
    "positive = [r for r in df['new_tweet'][df['label']==0]]\n",
    "pos = ''.join(positive)\n",
    "\n",
    "# draw a Word Cloud with word frequencies\n",
    "wc = WordCloud(\n",
    "    background_color='white',\n",
    "    max_words=2000,\n",
    "    stopwords=stopwords\n",
    "   )\n",
    "wc.generate(pos)"
   ]
  },
  {
   "cell_type": "code",
   "execution_count": null,
   "metadata": {
    "colab": {
     "base_uri": "https://localhost:8080/",
     "height": 310
    },
    "executionInfo": {
     "elapsed": 30,
     "status": "ok",
     "timestamp": 1644386806846,
     "user": {
      "displayName": "Deepak Avhad",
      "photoUrl": "https://lh3.googleusercontent.com/a-/AOh14GhY6x3bmDdXRl6lSqWi0RKwhXwFroevfB4OUaxfwg=s64",
      "userId": "16043617655025119202"
     },
     "user_tz": -330
    },
    "id": "UgW5g3at0wlX",
    "outputId": "5184cbbe-853e-4ef8-a2a3-4d42e89ddce0"
   },
   "outputs": [
    {
     "data": {
      "image/png": "[encoded data removed]",
      "text/plain": [
       "<Figure size 720x648 with 1 Axes>"
      ]
     },
     "metadata": {
      "needs_background": "light"
     },
     "output_type": "display_data"
    }
   ],
   "source": [
    "plt.figure(figsize=(10,9))\n",
    "plt.imshow(wc, interpolation='bilinear')\n",
    "plt.axis(\"off\")\n",
    "plt.show()"
   ]
  },
  {
   "cell_type": "markdown",
   "metadata": {
    "id": "Q0OjsL-idt0r"
   },
   "source": [
    "# negative tweets"
   ]
  },
  {
   "cell_type": "code",
   "execution_count": null,
   "metadata": {
    "colab": {
     "base_uri": "https://localhost:8080/"
    },
    "executionInfo": {
     "elapsed": 2062,
     "status": "ok",
     "timestamp": 1644386808888,
     "user": {
      "displayName": "Deepak Avhad",
      "photoUrl": "https://lh3.googleusercontent.com/a-/AOh14GhY6x3bmDdXRl6lSqWi0RKwhXwFroevfB4OUaxfwg=s64",
      "userId": "16043617655025119202"
     },
     "user_tz": -330
    },
    "id": "1pkaqpXE06Ez",
    "outputId": "f2be413a-e00f-4d4c-8117-b57e148a1409"
   },
   "outputs": [
    {
     "data": {
      "text/plain": [
       "<wordcloud.wordcloud.WordCloud at 0x7f9f3a365210>"
      ]
     },
     "execution_count": 24,
     "metadata": {},
     "output_type": "execute_result"
    }
   ],
   "source": [
    "#negative tweets\n",
    "negative = [r for r in df['new_tweet'][df['label']==1]]\n",
    "neg = ''.join(negative)\n",
    "\n",
    "# draw a Word Cloud with word frequencies\n",
    "wc = WordCloud(\n",
    "    background_color='black',\n",
    "    max_words=2000,\n",
    "    stopwords=stopwords\n",
    "   )\n",
    "wc.generate(neg)"
   ]
  },
  {
   "cell_type": "code",
   "execution_count": null,
   "metadata": {
    "colab": {
     "base_uri": "https://localhost:8080/",
     "height": 310
    },
    "executionInfo": {
     "elapsed": 35,
     "status": "ok",
     "timestamp": 1644386808890,
     "user": {
      "displayName": "Deepak Avhad",
      "photoUrl": "https://lh3.googleusercontent.com/a-/AOh14GhY6x3bmDdXRl6lSqWi0RKwhXwFroevfB4OUaxfwg=s64",
      "userId": "16043617655025119202"
     },
     "user_tz": -330
    },
    "id": "qdcB_nA91S5w",
    "outputId": "1bb20e08-2eb0-4ffa-dd03-eb39f05d94c4"
   },
   "outputs": [
    {
     "data": {
      "image/png": "[encoded data removed]",
      "text/plain": [
       "<Figure size 720x648 with 1 Axes>"
      ]
     },
     "metadata": {
      "needs_background": "light"
     },
     "output_type": "display_data"
    }
   ],
   "source": [
    "plt.figure(figsize=(10,9))\n",
    "plt.imshow(wc, interpolation='bilinear')\n",
    "plt.axis(\"off\")\n",
    "plt.show()"
   ]
  },
  {
   "cell_type": "markdown",
   "metadata": {
    "id": "FyEaVjpa1gfI"
   },
   "source": [
    "# Bag of words"
   ]
  },
  {
   "cell_type": "code",
   "execution_count": null,
   "metadata": {
    "colab": {
     "base_uri": "https://localhost:8080/",
     "height": 206
    },
    "executionInfo": {
     "elapsed": 31,
     "status": "ok",
     "timestamp": 1644386808892,
     "user": {
      "displayName": "Deepak Avhad",
      "photoUrl": "https://lh3.googleusercontent.com/a-/AOh14GhY6x3bmDdXRl6lSqWi0RKwhXwFroevfB4OUaxfwg=s64",
      "userId": "16043617655025119202"
     },
     "user_tz": -330
    },
    "id": "zSJ17sLi1T8O",
    "outputId": "cd44f549-48c6-4229-92c0-26ccedb82fe6"
   },
   "outputs": [
    {
     "data": {
      "text/html": [
       "\n",
       "  <div id=\"df-883a700c-db4a-4c35-b270-9d3f95cba284\">\n",
       "    <div class=\"colab-df-container\">\n",
       "      <div>\n",
       "<style scoped>\n",
       "    .dataframe tbody tr th:only-of-type {\n",
       "        vertical-align: middle;\n",
       "    }\n",
       "\n",
       "    .dataframe tbody tr th {\n",
       "        vertical-align: top;\n",
       "    }\n",
       "\n",
       "    .dataframe thead th {\n",
       "        text-align: right;\n",
       "    }\n",
       "</style>\n",
       "<table border=\"1\" class=\"dataframe\">\n",
       "  <thead>\n",
       "    <tr style=\"text-align: right;\">\n",
       "      <th></th>\n",
       "      <th>label</th>\n",
       "      <th>new_tweet</th>\n",
       "    </tr>\n",
       "  </thead>\n",
       "  <tbody>\n",
       "    <tr>\n",
       "      <th>0</th>\n",
       "      <td>0</td>\n",
       "      <td>drag selfish kid dysfunct father hi run</td>\n",
       "    </tr>\n",
       "    <tr>\n",
       "      <th>1</th>\n",
       "      <td>0</td>\n",
       "      <td>offer van pdx use credit wheelchair caus lyft ...</td>\n",
       "    </tr>\n",
       "    <tr>\n",
       "      <th>2</th>\n",
       "      <td>0</td>\n",
       "      <td>majesti bihday</td>\n",
       "    </tr>\n",
       "    <tr>\n",
       "      <th>3</th>\n",
       "      <td>0</td>\n",
       "      <td>time love take model</td>\n",
       "    </tr>\n",
       "    <tr>\n",
       "      <th>4</th>\n",
       "      <td>0</td>\n",
       "      <td>factsguid societi motiv</td>\n",
       "    </tr>\n",
       "  </tbody>\n",
       "</table>\n",
       "</div>\n",
       "      <button class=\"colab-df-convert\" onclick=\"convertToInteractive('df-883a700c-db4a-4c35-b270-9d3f95cba284')\"\n",
       "              title=\"Convert this dataframe to an interactive table.\"\n",
       "              style=\"display:none;\">\n",
       "        \n",
       "  <svg xmlns=\"http://www.w3.org/2000/svg\" height=\"24px\"viewBox=\"0 0 24 24\"\n",
       "       width=\"24px\">\n",
       "    <path d=\"M0 0h24v24H0V0z\" fill=\"none\"/>\n",
       "    <path d=\"M18.56 5.44l.94 2.06.94-2.06 2.06-.94-2.06-.94-.94-2.06-.94 2.06-2.06.94zm-11 1L8.5 8.5l.94-2.06 2.06-.94-2.06-.94L8.5 2.5l-.94 2.06-2.06.94zm10 10l.94 2.06.94-2.06 2.06-.94-2.06-.94-.94-2.06-.94 2.06-2.06.94z\"/><path d=\"M17.41 7.96l-1.37-1.37c-.4-.4-.92-.59-1.43-.59-.52 0-1.04.2-1.43.59L10.3 9.45l-7.72 7.72c-.78.78-.78 2.05 0 2.83L4 21.41c.39.39.9.59 1.41.59.51 0 1.02-.2 1.41-.59l7.78-7.78 2.81-2.81c.8-.78.8-2.07 0-2.86zM5.41 20L4 18.59l7.72-7.72 1.47 1.35L5.41 20z\"/>\n",
       "  </svg>\n",
       "      </button>\n",
       "      \n",
       "  <style>\n",
       "    .colab-df-container {\n",
       "      display:flex;\n",
       "      flex-wrap:wrap;\n",
       "      gap: 12px;\n",
       "    }\n",
       "\n",
       "    .colab-df-convert {\n",
       "      background-color: #E8F0FE;\n",
       "      border: none;\n",
       "      border-radius: 50%;\n",
       "      cursor: pointer;\n",
       "      display: none;\n",
       "      fill: #1967D2;\n",
       "      height: 32px;\n",
       "      padding: 0 0 0 0;\n",
       "      width: 32px;\n",
       "    }\n",
       "\n",
       "    .colab-df-convert:hover {\n",
       "      background-color: #E2EBFA;\n",
       "      box-shadow: 0px 1px 2px rgba(60, 64, 67, 0.3), 0px 1px 3px 1px rgba(60, 64, 67, 0.15);\n",
       "      fill: #174EA6;\n",
       "    }\n",
       "\n",
       "    [theme=dark] .colab-df-convert {\n",
       "      background-color: #3B4455;\n",
       "      fill: #D2E3FC;\n",
       "    }\n",
       "\n",
       "    [theme=dark] .colab-df-convert:hover {\n",
       "      background-color: #434B5C;\n",
       "      box-shadow: 0px 1px 3px 1px rgba(0, 0, 0, 0.15);\n",
       "      filter: drop-shadow(0px 1px 2px rgba(0, 0, 0, 0.3));\n",
       "      fill: #FFFFFF;\n",
       "    }\n",
       "  </style>\n",
       "\n",
       "      <script>\n",
       "        const buttonEl =\n",
       "          document.querySelector('#df-883a700c-db4a-4c35-b270-9d3f95cba284 button.colab-df-convert');\n",
       "        buttonEl.style.display =\n",
       "          google.colab.kernel.accessAllowed ? 'block' : 'none';\n",
       "\n",
       "        async function convertToInteractive(key) {\n",
       "          const element = document.querySelector('#df-883a700c-db4a-4c35-b270-9d3f95cba284');\n",
       "          const dataTable =\n",
       "            await google.colab.kernel.invokeFunction('convertToInteractive',\n",
       "                                                     [key], {});\n",
       "          if (!dataTable) return;\n",
       "\n",
       "          const docLinkHtml = 'Like what you see? Visit the ' +\n",
       "            '<a target=\"_blank\" href=https://colab.research.google.com/notebooks/data_table.ipynb>data table notebook</a>'\n",
       "            + ' to learn more about interactive tables.';\n",
       "          element.innerHTML = '';\n",
       "          dataTable['output_type'] = 'display_data';\n",
       "          await google.colab.output.renderOutput(dataTable, element);\n",
       "          const docLink = document.createElement('div');\n",
       "          docLink.innerHTML = docLinkHtml;\n",
       "          element.appendChild(docLink);\n",
       "        }\n",
       "      </script>\n",
       "    </div>\n",
       "  </div>\n",
       "  "
      ],
      "text/plain": [
       "   label                                          new_tweet\n",
       "0      0            drag selfish kid dysfunct father hi run\n",
       "1      0  offer van pdx use credit wheelchair caus lyft ...\n",
       "2      0                                     majesti bihday\n",
       "3      0                               time love take model\n",
       "4      0                            factsguid societi motiv"
      ]
     },
     "execution_count": 26,
     "metadata": {},
     "output_type": "execute_result"
    }
   ],
   "source": [
    "df.drop([\"id\",\"tweet\" ],axis=1,inplace=True)\n",
    "df.head()"
   ]
  },
  {
   "cell_type": "markdown",
   "metadata": {
    "id": "aIEo0nj69cIL"
   },
   "source": [
    "# Remove emoji"
   ]
  },
  {
   "cell_type": "code",
   "execution_count": null,
   "metadata": {
    "colab": {
     "base_uri": "https://localhost:8080/",
     "height": 225
    },
    "executionInfo": {
     "elapsed": 1358,
     "status": "ok",
     "timestamp": 1644386810221,
     "user": {
      "displayName": "Deepak Avhad",
      "photoUrl": "https://lh3.googleusercontent.com/a-/AOh14GhY6x3bmDdXRl6lSqWi0RKwhXwFroevfB4OUaxfwg=s64",
      "userId": "16043617655025119202"
     },
     "user_tz": -330
    },
    "id": "akfBU9Jw9bOP",
    "outputId": "9b845bdf-86f7-40a6-fbb3-c19ffc7a5d59"
   },
   "outputs": [
    {
     "name": "stdout",
     "output_type": "stream",
     "text": [
      "Requirement already satisfied: emoji in /usr/local/lib/python3.7/dist-packages (1.6.3)\n"
     ]
    },
    {
     "data": {
      "text/html": [
       "\n",
       "  <div id=\"df-6073c263-131d-4cb9-84b5-52d8cae659e2\">\n",
       "    <div class=\"colab-df-container\">\n",
       "      <div>\n",
       "<style scoped>\n",
       "    .dataframe tbody tr th:only-of-type {\n",
       "        vertical-align: middle;\n",
       "    }\n",
       "\n",
       "    .dataframe tbody tr th {\n",
       "        vertical-align: top;\n",
       "    }\n",
       "\n",
       "    .dataframe thead th {\n",
       "        text-align: right;\n",
       "    }\n",
       "</style>\n",
       "<table border=\"1\" class=\"dataframe\">\n",
       "  <thead>\n",
       "    <tr style=\"text-align: right;\">\n",
       "      <th></th>\n",
       "      <th>label</th>\n",
       "      <th>new_tweet</th>\n",
       "    </tr>\n",
       "  </thead>\n",
       "  <tbody>\n",
       "    <tr>\n",
       "      <th>0</th>\n",
       "      <td>0</td>\n",
       "      <td>drag selfish kid dysfunct father hi run</td>\n",
       "    </tr>\n",
       "    <tr>\n",
       "      <th>1</th>\n",
       "      <td>0</td>\n",
       "      <td>offer van pdx use credit wheelchair caus lyft ...</td>\n",
       "    </tr>\n",
       "    <tr>\n",
       "      <th>2</th>\n",
       "      <td>0</td>\n",
       "      <td>majesti bihday</td>\n",
       "    </tr>\n",
       "    <tr>\n",
       "      <th>3</th>\n",
       "      <td>0</td>\n",
       "      <td>time love take model</td>\n",
       "    </tr>\n",
       "    <tr>\n",
       "      <th>4</th>\n",
       "      <td>0</td>\n",
       "      <td>factsguid societi motiv</td>\n",
       "    </tr>\n",
       "  </tbody>\n",
       "</table>\n",
       "</div>\n",
       "      <button class=\"colab-df-convert\" onclick=\"convertToInteractive('df-6073c263-131d-4cb9-84b5-52d8cae659e2')\"\n",
       "              title=\"Convert this dataframe to an interactive table.\"\n",
       "              style=\"display:none;\">\n",
       "        \n",
       "  <svg xmlns=\"http://www.w3.org/2000/svg\" height=\"24px\"viewBox=\"0 0 24 24\"\n",
       "       width=\"24px\">\n",
       "    <path d=\"M0 0h24v24H0V0z\" fill=\"none\"/>\n",
       "    <path d=\"M18.56 5.44l.94 2.06.94-2.06 2.06-.94-2.06-.94-.94-2.06-.94 2.06-2.06.94zm-11 1L8.5 8.5l.94-2.06 2.06-.94-2.06-.94L8.5 2.5l-.94 2.06-2.06.94zm10 10l.94 2.06.94-2.06 2.06-.94-2.06-.94-.94-2.06-.94 2.06-2.06.94z\"/><path d=\"M17.41 7.96l-1.37-1.37c-.4-.4-.92-.59-1.43-.59-.52 0-1.04.2-1.43.59L10.3 9.45l-7.72 7.72c-.78.78-.78 2.05 0 2.83L4 21.41c.39.39.9.59 1.41.59.51 0 1.02-.2 1.41-.59l7.78-7.78 2.81-2.81c.8-.78.8-2.07 0-2.86zM5.41 20L4 18.59l7.72-7.72 1.47 1.35L5.41 20z\"/>\n",
       "  </svg>\n",
       "      </button>\n",
       "      \n",
       "  <style>\n",
       "    .colab-df-container {\n",
       "      display:flex;\n",
       "      flex-wrap:wrap;\n",
       "      gap: 12px;\n",
       "    }\n",
       "\n",
       "    .colab-df-convert {\n",
       "      background-color: #E8F0FE;\n",
       "      border: none;\n",
       "      border-radius: 50%;\n",
       "      cursor: pointer;\n",
       "      display: none;\n",
       "      fill: #1967D2;\n",
       "      height: 32px;\n",
       "      padding: 0 0 0 0;\n",
       "      width: 32px;\n",
       "    }\n",
       "\n",
       "    .colab-df-convert:hover {\n",
       "      background-color: #E2EBFA;\n",
       "      box-shadow: 0px 1px 2px rgba(60, 64, 67, 0.3), 0px 1px 3px 1px rgba(60, 64, 67, 0.15);\n",
       "      fill: #174EA6;\n",
       "    }\n",
       "\n",
       "    [theme=dark] .colab-df-convert {\n",
       "      background-color: #3B4455;\n",
       "      fill: #D2E3FC;\n",
       "    }\n",
       "\n",
       "    [theme=dark] .colab-df-convert:hover {\n",
       "      background-color: #434B5C;\n",
       "      box-shadow: 0px 1px 3px 1px rgba(0, 0, 0, 0.15);\n",
       "      filter: drop-shadow(0px 1px 2px rgba(0, 0, 0, 0.3));\n",
       "      fill: #FFFFFF;\n",
       "    }\n",
       "  </style>\n",
       "\n",
       "      <script>\n",
       "        const buttonEl =\n",
       "          document.querySelector('#df-6073c263-131d-4cb9-84b5-52d8cae659e2 button.colab-df-convert');\n",
       "        buttonEl.style.display =\n",
       "          google.colab.kernel.accessAllowed ? 'block' : 'none';\n",
       "\n",
       "        async function convertToInteractive(key) {\n",
       "          const element = document.querySelector('#df-6073c263-131d-4cb9-84b5-52d8cae659e2');\n",
       "          const dataTable =\n",
       "            await google.colab.kernel.invokeFunction('convertToInteractive',\n",
       "                                                     [key], {});\n",
       "          if (!dataTable) return;\n",
       "\n",
       "          const docLinkHtml = 'Like what you see? Visit the ' +\n",
       "            '<a target=\"_blank\" href=https://colab.research.google.com/notebooks/data_table.ipynb>data table notebook</a>'\n",
       "            + ' to learn more about interactive tables.';\n",
       "          element.innerHTML = '';\n",
       "          dataTable['output_type'] = 'display_data';\n",
       "          await google.colab.output.renderOutput(dataTable, element);\n",
       "          const docLink = document.createElement('div');\n",
       "          docLink.innerHTML = docLinkHtml;\n",
       "          element.appendChild(docLink);\n",
       "        }\n",
       "      </script>\n",
       "    </div>\n",
       "  </div>\n",
       "  "
      ],
      "text/plain": [
       "   label                                          new_tweet\n",
       "0      0            drag selfish kid dysfunct father hi run\n",
       "1      0  offer van pdx use credit wheelchair caus lyft ...\n",
       "2      0                                     majesti bihday\n",
       "3      0                               time love take model\n",
       "4      0                            factsguid societi motiv"
      ]
     },
     "execution_count": 27,
     "metadata": {},
     "output_type": "execute_result"
    }
   ],
   "source": [
    "! pip install emoji\n",
    "import emoji\n",
    "df[\"new_tweet\"] = df[\"new_tweet\"].apply(emoji.demojize)\n",
    "df.head()"
   ]
  },
  {
   "cell_type": "markdown",
   "metadata": {
    "id": "xp7lGUQ_d5HY"
   },
   "source": [
    "# Data augmentation for balancing the data."
   ]
  },
  {
   "cell_type": "code",
   "execution_count": null,
   "metadata": {
    "colab": {
     "base_uri": "https://localhost:8080/"
    },
    "executionInfo": {
     "elapsed": 8244,
     "status": "ok",
     "timestamp": 1644386818453,
     "user": {
      "displayName": "Deepak Avhad",
      "photoUrl": "https://lh3.googleusercontent.com/a-/AOh14GhY6x3bmDdXRl6lSqWi0RKwhXwFroevfB4OUaxfwg=s64",
      "userId": "16043617655025119202"
     },
     "user_tz": -330
    },
    "id": "6oRyclMF_idY",
    "outputId": "c05d8ba2-a9f1-4979-9d0a-75dbc4ee4535"
   },
   "outputs": [
    {
     "name": "stdout",
     "output_type": "stream",
     "text": [
      "Requirement already satisfied: transformers in /usr/local/lib/python3.7/dist-packages (4.16.2)\n",
      "Requirement already satisfied: huggingface-hub<1.0,>=0.1.0 in /usr/local/lib/python3.7/dist-packages (from transformers) (0.4.0)\n",
      "Requirement already satisfied: sacremoses in /usr/local/lib/python3.7/dist-packages (from transformers) (0.0.47)\n",
      "Requirement already satisfied: tokenizers!=0.11.3,>=0.10.1 in /usr/local/lib/python3.7/dist-packages (from transformers) (0.11.4)\n",
      "Requirement already satisfied: tqdm>=4.27 in /usr/local/lib/python3.7/dist-packages (from transformers) (4.62.3)\n",
      "Requirement already satisfied: filelock in /usr/local/lib/python3.7/dist-packages (from transformers) (3.4.2)\n",
      "Requirement already satisfied: pyyaml>=5.1 in /usr/local/lib/python3.7/dist-packages (from transformers) (6.0)\n",
      "Requirement already satisfied: regex!=2019.12.17 in /usr/local/lib/python3.7/dist-packages (from transformers) (2019.12.20)\n",
      "Requirement already satisfied: importlib-metadata in /usr/local/lib/python3.7/dist-packages (from transformers) (4.10.1)\n",
      "Requirement already satisfied: numpy>=1.17 in /usr/local/lib/python3.7/dist-packages (from transformers) (1.19.5)\n",
      "Requirement already satisfied: requests in /usr/local/lib/python3.7/dist-packages (from transformers) (2.23.0)\n",
      "Requirement already satisfied: packaging>=20.0 in /usr/local/lib/python3.7/dist-packages (from transformers) (21.3)\n",
      "Requirement already satisfied: typing-extensions>=3.7.4.3 in /usr/local/lib/python3.7/dist-packages (from huggingface-hub<1.0,>=0.1.0->transformers) (3.10.0.2)\n",
      "Requirement already satisfied: pyparsing!=3.0.5,>=2.0.2 in /usr/local/lib/python3.7/dist-packages (from packaging>=20.0->transformers) (3.0.7)\n",
      "Requirement already satisfied: zipp>=0.5 in /usr/local/lib/python3.7/dist-packages (from importlib-metadata->transformers) (3.7.0)\n",
      "Requirement already satisfied: idna<3,>=2.5 in /usr/local/lib/python3.7/dist-packages (from requests->transformers) (2.10)\n",
      "Requirement already satisfied: chardet<4,>=3.0.2 in /usr/local/lib/python3.7/dist-packages (from requests->transformers) (3.0.4)\n",
      "Requirement already satisfied: certifi>=2017.4.17 in /usr/local/lib/python3.7/dist-packages (from requests->transformers) (2021.10.8)\n",
      "Requirement already satisfied: urllib3!=1.25.0,!=1.25.1,<1.26,>=1.21.1 in /usr/local/lib/python3.7/dist-packages (from requests->transformers) (1.24.3)\n",
      "Requirement already satisfied: click in /usr/local/lib/python3.7/dist-packages (from sacremoses->transformers) (7.1.2)\n",
      "Requirement already satisfied: joblib in /usr/local/lib/python3.7/dist-packages (from sacremoses->transformers) (1.1.0)\n",
      "Requirement already satisfied: six in /usr/local/lib/python3.7/dist-packages (from sacremoses->transformers) (1.15.0)\n",
      "Requirement already satisfied: nlpaug in /usr/local/lib/python3.7/dist-packages (1.1.10)\n",
      "Requirement already satisfied: requests>=2.22.0 in /usr/local/lib/python3.7/dist-packages (from nlpaug) (2.23.0)\n",
      "Requirement already satisfied: pandas>=1.2.0 in /usr/local/lib/python3.7/dist-packages (from nlpaug) (1.3.5)\n",
      "Requirement already satisfied: numpy>=1.16.2 in /usr/local/lib/python3.7/dist-packages (from nlpaug) (1.19.5)\n",
      "Requirement already satisfied: python-dateutil>=2.7.3 in /usr/local/lib/python3.7/dist-packages (from pandas>=1.2.0->nlpaug) (2.8.2)\n",
      "Requirement already satisfied: pytz>=2017.3 in /usr/local/lib/python3.7/dist-packages (from pandas>=1.2.0->nlpaug) (2018.9)\n",
      "Requirement already satisfied: six>=1.5 in /usr/local/lib/python3.7/dist-packages (from python-dateutil>=2.7.3->pandas>=1.2.0->nlpaug) (1.15.0)\n",
      "Requirement already satisfied: certifi>=2017.4.17 in /usr/local/lib/python3.7/dist-packages (from requests>=2.22.0->nlpaug) (2021.10.8)\n",
      "Requirement already satisfied: chardet<4,>=3.0.2 in /usr/local/lib/python3.7/dist-packages (from requests>=2.22.0->nlpaug) (3.0.4)\n",
      "Requirement already satisfied: idna<3,>=2.5 in /usr/local/lib/python3.7/dist-packages (from requests>=2.22.0->nlpaug) (2.10)\n",
      "Requirement already satisfied: urllib3!=1.25.0,!=1.25.1,<1.26,>=1.21.1 in /usr/local/lib/python3.7/dist-packages (from requests>=2.22.0->nlpaug) (1.24.3)\n"
     ]
    }
   ],
   "source": [
    "!pip install transformers\n",
    "!pip install nlpaug"
   ]
  },
  {
   "cell_type": "code",
   "execution_count": null,
   "metadata": {
    "id": "OwUtoJ6n_oKS"
   },
   "outputs": [],
   "source": [
    "import nlpaug.augmenter.char.random as aug"
   ]
  },
  {
   "cell_type": "code",
   "execution_count": null,
   "metadata": {
    "id": "B4DZPfXu_sFX"
   },
   "outputs": [],
   "source": [
    "augmenter = aug.RandomCharAug(action='swap')"
   ]
  },
  {
   "cell_type": "code",
   "execution_count": null,
   "metadata": {
    "colab": {
     "base_uri": "https://localhost:8080/"
    },
    "executionInfo": {
     "elapsed": 25,
     "status": "ok",
     "timestamp": 1644386821107,
     "user": {
      "displayName": "Deepak Avhad",
      "photoUrl": "https://lh3.googleusercontent.com/a-/AOh14GhY6x3bmDdXRl6lSqWi0RKwhXwFroevfB4OUaxfwg=s64",
      "userId": "16043617655025119202"
     },
     "user_tz": -330
    },
    "id": "5HWfj3o5_xfh",
    "outputId": "599f0f60-5f40-4a55-8852-9dce5a914420"
   },
   "outputs": [
    {
     "data": {
      "text/plain": [
       "0    29720\n",
       "1     2242\n",
       "Name: label, dtype: int64"
      ]
     },
     "execution_count": 31,
     "metadata": {},
     "output_type": "execute_result"
    }
   ],
   "source": [
    "df['label'].value_counts()"
   ]
  },
  {
   "cell_type": "markdown",
   "metadata": {
    "id": "VPzC0cumeKZl"
   },
   "source": [
    "fom above we can see our data is not stable."
   ]
  },
  {
   "cell_type": "code",
   "execution_count": null,
   "metadata": {
    "id": "E-i5vCpF_2yu"
   },
   "outputs": [],
   "source": [
    "from sklearn.utils import shuffle\n",
    "def augmentMyData(df, augmenter, repetitions=1, samples=200):\n",
    "    augmented_texts = []\n",
    "    # select only the minority class samples\n",
    "    spam_df = df[df['label'] == 1].reset_index(drop=True) # removes unecessary index column\n",
    "    for i in tqdm(np.random.randint(0, len(spam_df), samples)):\n",
    "        # generating 'n_samples' augmented texts\n",
    "        for _ in range(repetitions):\n",
    "            augmented_text = augmenter.augment(spam_df['new_tweet'].iloc[i])\n",
    "            augmented_texts.append(augmented_text)\n",
    "    \n",
    "    data = {\n",
    "        'label': 1,\n",
    "        'new_tweet': augmented_texts\n",
    "    }\n",
    "    aug_df = pd.DataFrame(data)\n",
    "    df = shuffle(df.append(aug_df).reset_index(drop=True))\n",
    "    return df"
   ]
  },
  {
   "cell_type": "code",
   "execution_count": null,
   "metadata": {
    "colab": {
     "base_uri": "https://localhost:8080/",
     "height": 49,
     "referenced_widgets": [
      "608671485f934b51878191da584d901c",
      "b89eb6c5a837478a954207007ea13dd3",
      "b7f79a1a38bc4ee289adaae770dc8c50",
      "9901e816e73e4bd8a300d1d9432723a3",
      "87f8026deaf445eda25d208f089e02df",
      "8b5a9070952541f39eccc293dcb9fc48",
      "5f965bdf18fc4f79b5edf38f82eb0781",
      "9786a8247ad5448983145f43d2051078",
      "40c1ff47a8c0498dac1f0b60c2891c01",
      "77a5bf32b4934d8ab928a4bb5636d422",
      "158755f82ee04e9baab7e55b1c311941"
     ]
    },
    "executionInfo": {
     "elapsed": 4508,
     "status": "ok",
     "timestamp": 1644386825597,
     "user": {
      "displayName": "Deepak Avhad",
      "photoUrl": "https://lh3.googleusercontent.com/a-/AOh14GhY6x3bmDdXRl6lSqWi0RKwhXwFroevfB4OUaxfwg=s64",
      "userId": "16043617655025119202"
     },
     "user_tz": -330
    },
    "id": "lNXS5QFVAfbo",
    "outputId": "80a09896-eeba-4c54-ea26-f6c5bba0531b"
   },
   "outputs": [
    {
     "data": {
      "application/vnd.jupyter.widget-view+json": {
       "model_id": "608671485f934b51878191da584d901c",
       "version_major": 2,
       "version_minor": 0
      },
      "text/plain": [
       "  0%|          | 0/20200 [00:00<?, ?it/s]"
      ]
     },
     "metadata": {},
     "output_type": "display_data"
    }
   ],
   "source": [
    "from tqdm.auto import tqdm\n",
    "aug_df = augmentMyData(df, augmenter, samples=20200)"
   ]
  },
  {
   "cell_type": "code",
   "execution_count": null,
   "metadata": {
    "colab": {
     "base_uri": "https://localhost:8080/"
    },
    "executionInfo": {
     "elapsed": 33,
     "status": "ok",
     "timestamp": 1644386825599,
     "user": {
      "displayName": "Deepak Avhad",
      "photoUrl": "https://lh3.googleusercontent.com/a-/AOh14GhY6x3bmDdXRl6lSqWi0RKwhXwFroevfB4OUaxfwg=s64",
      "userId": "16043617655025119202"
     },
     "user_tz": -330
    },
    "id": "NJYVR_7CAnVy",
    "outputId": "ccfcebb6-3a27-4a3f-8eba-335b808afdfc"
   },
   "outputs": [
    {
     "data": {
      "text/plain": [
       "0    29720\n",
       "1    22442\n",
       "Name: label, dtype: int64"
      ]
     },
     "execution_count": 34,
     "metadata": {},
     "output_type": "execute_result"
    }
   ],
   "source": [
    "aug_df[\"label\"].value_counts()"
   ]
  },
  {
   "cell_type": "markdown",
   "metadata": {
    "id": "Ii4uTZ4Nef3F"
   },
   "source": [
    "from above count we can see after adding samples now our data is most likely stable."
   ]
  },
  {
   "cell_type": "markdown",
   "metadata": {
    "id": "phrXeJlGGFkF"
   },
   "source": [
    "# Feature & Target"
   ]
  },
  {
   "cell_type": "code",
   "execution_count": null,
   "metadata": {
    "id": "Jkt8ydF3F-0M"
   },
   "outputs": [],
   "source": [
    "X = aug_df[\"new_tweet\"]\n",
    "y = aug_df[\"label\"]"
   ]
  },
  {
   "cell_type": "markdown",
   "metadata": {
    "id": "Vpkex7SUM5A3"
   },
   "source": [
    "# Train test split"
   ]
  },
  {
   "cell_type": "code",
   "execution_count": null,
   "metadata": {
    "id": "wjzzD4QB1li8"
   },
   "outputs": [],
   "source": [
    "#Split data into training and testing sets \n",
    "from sklearn.model_selection import train_test_split\n",
    "X_train, X_test, y_train, y_test = train_test_split(X,y, test_size = 0.3, random_state = 1)"
   ]
  },
  {
   "cell_type": "code",
   "execution_count": null,
   "metadata": {
    "colab": {
     "base_uri": "https://localhost:8080/",
     "height": 206
    },
    "executionInfo": {
     "elapsed": 25,
     "status": "ok",
     "timestamp": 1644386825605,
     "user": {
      "displayName": "Deepak Avhad",
      "photoUrl": "https://lh3.googleusercontent.com/a-/AOh14GhY6x3bmDdXRl6lSqWi0RKwhXwFroevfB4OUaxfwg=s64",
      "userId": "16043617655025119202"
     },
     "user_tz": -330
    },
    "id": "4Mo1TFZPE--p",
    "outputId": "c7eaeabc-ab28-49e2-d9d7-ab55d08b4a3d"
   },
   "outputs": [
    {
     "data": {
      "text/html": [
       "\n",
       "  <div id=\"df-37eb583b-fb31-4086-ae50-31b684f70587\">\n",
       "    <div class=\"colab-df-container\">\n",
       "      <div>\n",
       "<style scoped>\n",
       "    .dataframe tbody tr th:only-of-type {\n",
       "        vertical-align: middle;\n",
       "    }\n",
       "\n",
       "    .dataframe tbody tr th {\n",
       "        vertical-align: top;\n",
       "    }\n",
       "\n",
       "    .dataframe thead th {\n",
       "        text-align: right;\n",
       "    }\n",
       "</style>\n",
       "<table border=\"1\" class=\"dataframe\">\n",
       "  <thead>\n",
       "    <tr style=\"text-align: right;\">\n",
       "      <th></th>\n",
       "      <th>new_tweet</th>\n",
       "      <th>label</th>\n",
       "    </tr>\n",
       "  </thead>\n",
       "  <tbody>\n",
       "    <tr>\n",
       "      <th>42123</th>\n",
       "      <td>rejtec mil byocott hatr pa hi busi putinschoic...</td>\n",
       "      <td>1</td>\n",
       "    </tr>\n",
       "    <tr>\n",
       "      <th>24192</th>\n",
       "      <td>chop knock newyear obes pride america better l...</td>\n",
       "      <td>1</td>\n",
       "    </tr>\n",
       "    <tr>\n",
       "      <th>38004</th>\n",
       "      <td>tarehcer isra onli anti settlement obama semit...</td>\n",
       "      <td>1</td>\n",
       "    </tr>\n",
       "    <tr>\n",
       "      <th>50991</th>\n",
       "      <td>law mdea voter republican aner rpecsi surgic o...</td>\n",
       "      <td>1</td>\n",
       "    </tr>\n",
       "    <tr>\n",
       "      <th>7395</th>\n",
       "      <td>semifin thank prepar geohitch staup voom sta</td>\n",
       "      <td>0</td>\n",
       "    </tr>\n",
       "  </tbody>\n",
       "</table>\n",
       "</div>\n",
       "      <button class=\"colab-df-convert\" onclick=\"convertToInteractive('df-37eb583b-fb31-4086-ae50-31b684f70587')\"\n",
       "              title=\"Convert this dataframe to an interactive table.\"\n",
       "              style=\"display:none;\">\n",
       "        \n",
       "  <svg xmlns=\"http://www.w3.org/2000/svg\" height=\"24px\"viewBox=\"0 0 24 24\"\n",
       "       width=\"24px\">\n",
       "    <path d=\"M0 0h24v24H0V0z\" fill=\"none\"/>\n",
       "    <path d=\"M18.56 5.44l.94 2.06.94-2.06 2.06-.94-2.06-.94-.94-2.06-.94 2.06-2.06.94zm-11 1L8.5 8.5l.94-2.06 2.06-.94-2.06-.94L8.5 2.5l-.94 2.06-2.06.94zm10 10l.94 2.06.94-2.06 2.06-.94-2.06-.94-.94-2.06-.94 2.06-2.06.94z\"/><path d=\"M17.41 7.96l-1.37-1.37c-.4-.4-.92-.59-1.43-.59-.52 0-1.04.2-1.43.59L10.3 9.45l-7.72 7.72c-.78.78-.78 2.05 0 2.83L4 21.41c.39.39.9.59 1.41.59.51 0 1.02-.2 1.41-.59l7.78-7.78 2.81-2.81c.8-.78.8-2.07 0-2.86zM5.41 20L4 18.59l7.72-7.72 1.47 1.35L5.41 20z\"/>\n",
       "  </svg>\n",
       "      </button>\n",
       "      \n",
       "  <style>\n",
       "    .colab-df-container {\n",
       "      display:flex;\n",
       "      flex-wrap:wrap;\n",
       "      gap: 12px;\n",
       "    }\n",
       "\n",
       "    .colab-df-convert {\n",
       "      background-color: #E8F0FE;\n",
       "      border: none;\n",
       "      border-radius: 50%;\n",
       "      cursor: pointer;\n",
       "      display: none;\n",
       "      fill: #1967D2;\n",
       "      height: 32px;\n",
       "      padding: 0 0 0 0;\n",
       "      width: 32px;\n",
       "    }\n",
       "\n",
       "    .colab-df-convert:hover {\n",
       "      background-color: #E2EBFA;\n",
       "      box-shadow: 0px 1px 2px rgba(60, 64, 67, 0.3), 0px 1px 3px 1px rgba(60, 64, 67, 0.15);\n",
       "      fill: #174EA6;\n",
       "    }\n",
       "\n",
       "    [theme=dark] .colab-df-convert {\n",
       "      background-color: #3B4455;\n",
       "      fill: #D2E3FC;\n",
       "    }\n",
       "\n",
       "    [theme=dark] .colab-df-convert:hover {\n",
       "      background-color: #434B5C;\n",
       "      box-shadow: 0px 1px 3px 1px rgba(0, 0, 0, 0.15);\n",
       "      filter: drop-shadow(0px 1px 2px rgba(0, 0, 0, 0.3));\n",
       "      fill: #FFFFFF;\n",
       "    }\n",
       "  </style>\n",
       "\n",
       "      <script>\n",
       "        const buttonEl =\n",
       "          document.querySelector('#df-37eb583b-fb31-4086-ae50-31b684f70587 button.colab-df-convert');\n",
       "        buttonEl.style.display =\n",
       "          google.colab.kernel.accessAllowed ? 'block' : 'none';\n",
       "\n",
       "        async function convertToInteractive(key) {\n",
       "          const element = document.querySelector('#df-37eb583b-fb31-4086-ae50-31b684f70587');\n",
       "          const dataTable =\n",
       "            await google.colab.kernel.invokeFunction('convertToInteractive',\n",
       "                                                     [key], {});\n",
       "          if (!dataTable) return;\n",
       "\n",
       "          const docLinkHtml = 'Like what you see? Visit the ' +\n",
       "            '<a target=\"_blank\" href=https://colab.research.google.com/notebooks/data_table.ipynb>data table notebook</a>'\n",
       "            + ' to learn more about interactive tables.';\n",
       "          element.innerHTML = '';\n",
       "          dataTable['output_type'] = 'display_data';\n",
       "          await google.colab.output.renderOutput(dataTable, element);\n",
       "          const docLink = document.createElement('div');\n",
       "          docLink.innerHTML = docLinkHtml;\n",
       "          element.appendChild(docLink);\n",
       "        }\n",
       "      </script>\n",
       "    </div>\n",
       "  </div>\n",
       "  "
      ],
      "text/plain": [
       "                                               new_tweet  label\n",
       "42123  rejtec mil byocott hatr pa hi busi putinschoic...      1\n",
       "24192  chop knock newyear obes pride america better l...      1\n",
       "38004  tarehcer isra onli anti settlement obama semit...      1\n",
       "50991  law mdea voter republican aner rpecsi surgic o...      1\n",
       "7395        semifin thank prepar geohitch staup voom sta      0"
      ]
     },
     "execution_count": 37,
     "metadata": {},
     "output_type": "execute_result"
    }
   ],
   "source": [
    "df1 = pd.concat([X_train,y_train], axis =1)\n",
    "df1.head()"
   ]
  },
  {
   "cell_type": "markdown",
   "metadata": {
    "id": "whp2TnxmOTMJ"
   },
   "source": [
    "# Text classification using ML"
   ]
  },
  {
   "cell_type": "markdown",
   "metadata": {
    "id": "nbw5fgpdM8Tg"
   },
   "source": [
    "# Countvectorize"
   ]
  },
  {
   "cell_type": "code",
   "execution_count": null,
   "metadata": {
    "id": "GVM7M9QfHnLL"
   },
   "outputs": [],
   "source": [
    "from sklearn.feature_extraction.text import CountVectorizer\n",
    "cv = CountVectorizer(stop_words=\"english\")\n",
    "X_train_cv = cv.fit_transform(X_train)\n",
    "X_test_cv = cv.transform(X_test)"
   ]
  },
  {
   "cell_type": "markdown",
   "metadata": {
    "id": "59ExJ4ofNGCG"
   },
   "source": [
    "# Random forest model"
   ]
  },
  {
   "cell_type": "code",
   "execution_count": null,
   "metadata": {
    "colab": {
     "base_uri": "https://localhost:8080/"
    },
    "executionInfo": {
     "elapsed": 142325,
     "status": "ok",
     "timestamp": 1644386968708,
     "user": {
      "displayName": "Deepak Avhad",
      "photoUrl": "https://lh3.googleusercontent.com/a-/AOh14GhY6x3bmDdXRl6lSqWi0RKwhXwFroevfB4OUaxfwg=s64",
      "userId": "16043617655025119202"
     },
     "user_tz": -330
    },
    "id": "zh7ScCGFH9_7",
    "outputId": "b0bd443e-69ef-41af-edd3-e428824bfbf4"
   },
   "outputs": [
    {
     "data": {
      "text/plain": [
       "RandomForestClassifier(n_estimators=200)"
      ]
     },
     "execution_count": 39,
     "metadata": {},
     "output_type": "execute_result"
    }
   ],
   "source": [
    "from sklearn.ensemble import RandomForestClassifier\n",
    "from sklearn.metrics import classification_report\n",
    "model = RandomForestClassifier(n_estimators=200)\n",
    "model.fit(X_train_cv, y_train)"
   ]
  },
  {
   "cell_type": "code",
   "execution_count": null,
   "metadata": {
    "colab": {
     "base_uri": "https://localhost:8080/"
    },
    "executionInfo": {
     "elapsed": 4611,
     "status": "ok",
     "timestamp": 1644386973309,
     "user": {
      "displayName": "Deepak Avhad",
      "photoUrl": "https://lh3.googleusercontent.com/a-/AOh14GhY6x3bmDdXRl6lSqWi0RKwhXwFroevfB4OUaxfwg=s64",
      "userId": "16043617655025119202"
     },
     "user_tz": -330
    },
    "id": "4bZh5-nNIhP1",
    "outputId": "41f4f32d-a636-4b9e-8dcc-e16700deea8e"
   },
   "outputs": [
    {
     "name": "stdout",
     "output_type": "stream",
     "text": [
      "              precision    recall  f1-score   support\n",
      "\n",
      "           0       0.97      0.96      0.96      8958\n",
      "           1       0.95      0.96      0.95      6691\n",
      "\n",
      "    accuracy                           0.96     15649\n",
      "   macro avg       0.96      0.96      0.96     15649\n",
      "weighted avg       0.96      0.96      0.96     15649\n",
      "\n"
     ]
    }
   ],
   "source": [
    "y_pred = model.predict(X_test_cv)\n",
    "print(classification_report(y_test,y_pred))"
   ]
  },
  {
   "cell_type": "markdown",
   "metadata": {
    "id": "KIj83FpFNO86"
   },
   "source": [
    "# TF-IDF vectorize"
   ]
  },
  {
   "cell_type": "code",
   "execution_count": null,
   "metadata": {
    "id": "-qfuxknuIwm8"
   },
   "outputs": [],
   "source": [
    "# tfidf\n",
    "from sklearn.feature_extraction.text import TfidfVectorizer\n",
    "tf = TfidfVectorizer(stop_words=\"english\")\n",
    "X_train_tf = tf.fit_transform(X_train)\n",
    "X_test_tf = tf.transform(X_test)"
   ]
  },
  {
   "cell_type": "code",
   "execution_count": null,
   "metadata": {
    "colab": {
     "base_uri": "https://localhost:8080/"
    },
    "executionInfo": {
     "elapsed": 108787,
     "status": "ok",
     "timestamp": 1644387083062,
     "user": {
      "displayName": "Deepak Avhad",
      "photoUrl": "https://lh3.googleusercontent.com/a-/AOh14GhY6x3bmDdXRl6lSqWi0RKwhXwFroevfB4OUaxfwg=s64",
      "userId": "16043617655025119202"
     },
     "user_tz": -330
    },
    "id": "yCANhP_nIyLa",
    "outputId": "26cca835-508b-4036-fa66-927f816ee75d"
   },
   "outputs": [
    {
     "data": {
      "text/plain": [
       "RandomForestClassifier(n_estimators=200)"
      ]
     },
     "execution_count": 42,
     "metadata": {},
     "output_type": "execute_result"
    }
   ],
   "source": [
    "model1 = RandomForestClassifier(n_estimators=200)\n",
    "model1.fit(X_train_tf, y_train)"
   ]
  },
  {
   "cell_type": "code",
   "execution_count": null,
   "metadata": {
    "colab": {
     "base_uri": "https://localhost:8080/"
    },
    "executionInfo": {
     "elapsed": 4437,
     "status": "ok",
     "timestamp": 1644387087470,
     "user": {
      "displayName": "Deepak Avhad",
      "photoUrl": "https://lh3.googleusercontent.com/a-/AOh14GhY6x3bmDdXRl6lSqWi0RKwhXwFroevfB4OUaxfwg=s64",
      "userId": "16043617655025119202"
     },
     "user_tz": -330
    },
    "id": "n-zahl2bI_1k",
    "outputId": "52ad8773-e2a8-4402-9960-a4a4585fe4a4"
   },
   "outputs": [
    {
     "name": "stdout",
     "output_type": "stream",
     "text": [
      "              precision    recall  f1-score   support\n",
      "\n",
      "           0       0.96      0.95      0.95      8958\n",
      "           1       0.94      0.94      0.94      6691\n",
      "\n",
      "    accuracy                           0.95     15649\n",
      "   macro avg       0.95      0.95      0.95     15649\n",
      "weighted avg       0.95      0.95      0.95     15649\n",
      "\n"
     ]
    }
   ],
   "source": [
    "y_pred = model1.predict(X_test_tf)\n",
    "print(classification_report(y_test,y_pred))"
   ]
  },
  {
   "cell_type": "markdown",
   "metadata": {
    "id": "GWe7yHAce7pR"
   },
   "source": [
    "from above classification report we can see using random forest algorithm we get 94% recall & 95% accuracy."
   ]
  },
  {
   "cell_type": "markdown",
   "metadata": {
    "id": "Czks2uv0NU9p"
   },
   "source": [
    "# Logistic Regression Model"
   ]
  },
  {
   "cell_type": "code",
   "execution_count": null,
   "metadata": {
    "colab": {
     "base_uri": "https://localhost:8080/"
    },
    "executionInfo": {
     "elapsed": 1919,
     "status": "ok",
     "timestamp": 1644387089364,
     "user": {
      "displayName": "Deepak Avhad",
      "photoUrl": "https://lh3.googleusercontent.com/a-/AOh14GhY6x3bmDdXRl6lSqWi0RKwhXwFroevfB4OUaxfwg=s64",
      "userId": "16043617655025119202"
     },
     "user_tz": -330
    },
    "id": "Wzrsy-t33Nsc",
    "outputId": "706afa79-b93c-42c7-b03a-a8e713a61162"
   },
   "outputs": [
    {
     "data": {
      "text/plain": [
       "LogisticRegression(random_state=400)"
      ]
     },
     "execution_count": 44,
     "metadata": {},
     "output_type": "execute_result"
    }
   ],
   "source": [
    "from sklearn.linear_model import LogisticRegression\n",
    "model2 = LogisticRegression(random_state=400 )\n",
    "model2.fit(X_train_cv, y_train)"
   ]
  },
  {
   "cell_type": "code",
   "execution_count": null,
   "metadata": {
    "colab": {
     "base_uri": "https://localhost:8080/"
    },
    "executionInfo": {
     "elapsed": 22,
     "status": "ok",
     "timestamp": 1644387089366,
     "user": {
      "displayName": "Deepak Avhad",
      "photoUrl": "https://lh3.googleusercontent.com/a-/AOh14GhY6x3bmDdXRl6lSqWi0RKwhXwFroevfB4OUaxfwg=s64",
      "userId": "16043617655025119202"
     },
     "user_tz": -330
    },
    "id": "-eKK4XhB4ooP",
    "outputId": "3f9ae7b3-55d4-4703-b93b-10c057fc2201"
   },
   "outputs": [
    {
     "name": "stdout",
     "output_type": "stream",
     "text": [
      "              precision    recall  f1-score   support\n",
      "\n",
      "           0       0.96      0.96      0.96      8958\n",
      "           1       0.95      0.94      0.95      6691\n",
      "\n",
      "    accuracy                           0.96     15649\n",
      "   macro avg       0.95      0.95      0.95     15649\n",
      "weighted avg       0.96      0.96      0.96     15649\n",
      "\n"
     ]
    }
   ],
   "source": [
    "y_pred = model2.predict(X_test_cv)\n",
    "print(classification_report(y_test,y_pred))"
   ]
  },
  {
   "cell_type": "markdown",
   "metadata": {
    "id": "y74Hg53SfVsR"
   },
   "source": [
    "from above classification report we can see using logisticRegression algorithm we get 94% recall & 96% accuracy."
   ]
  },
  {
   "cell_type": "code",
   "execution_count": null,
   "metadata": {
    "colab": {
     "base_uri": "https://localhost:8080/"
    },
    "executionInfo": {
     "elapsed": 1713,
     "status": "ok",
     "timestamp": 1644387091063,
     "user": {
      "displayName": "Deepak Avhad",
      "photoUrl": "https://lh3.googleusercontent.com/a-/AOh14GhY6x3bmDdXRl6lSqWi0RKwhXwFroevfB4OUaxfwg=s64",
      "userId": "16043617655025119202"
     },
     "user_tz": -330
    },
    "id": "fbLGz1vWMddH",
    "outputId": "ac9902a0-e62e-4517-cba6-7bfe76e71937"
   },
   "outputs": [
    {
     "data": {
      "text/plain": [
       "LogisticRegression(random_state=400)"
      ]
     },
     "execution_count": 46,
     "metadata": {},
     "output_type": "execute_result"
    }
   ],
   "source": [
    "model3 = LogisticRegression(random_state=400 )\n",
    "model3.fit(X_train_tf, y_train)"
   ]
  },
  {
   "cell_type": "code",
   "execution_count": null,
   "metadata": {
    "colab": {
     "base_uri": "https://localhost:8080/"
    },
    "executionInfo": {
     "elapsed": 20,
     "status": "ok",
     "timestamp": 1644387091065,
     "user": {
      "displayName": "Deepak Avhad",
      "photoUrl": "https://lh3.googleusercontent.com/a-/AOh14GhY6x3bmDdXRl6lSqWi0RKwhXwFroevfB4OUaxfwg=s64",
      "userId": "16043617655025119202"
     },
     "user_tz": -330
    },
    "id": "r0GCowiXMk9z",
    "outputId": "dddc3d21-28c0-422e-902e-e5ecad5b737d"
   },
   "outputs": [
    {
     "name": "stdout",
     "output_type": "stream",
     "text": [
      "              precision    recall  f1-score   support\n",
      "\n",
      "           0       0.95      0.94      0.95      8958\n",
      "           1       0.93      0.94      0.93      6691\n",
      "\n",
      "    accuracy                           0.94     15649\n",
      "   macro avg       0.94      0.94      0.94     15649\n",
      "weighted avg       0.94      0.94      0.94     15649\n",
      "\n"
     ]
    }
   ],
   "source": [
    "y_pred = model3.predict(X_test_tf)\n",
    "print(classification_report(y_test,y_pred))"
   ]
  },
  {
   "cell_type": "markdown",
   "metadata": {
    "id": "b-ZLOBf-OiQo"
   },
   "source": [
    "# Text Classification using Neural network"
   ]
  },
  {
   "cell_type": "code",
   "execution_count": null,
   "metadata": {
    "id": "lZenF6m0MrUH"
   },
   "outputs": [],
   "source": [
    "from tensorflow.keras.preprocessing.text import Tokenizer\n",
    "from tensorflow.keras.preprocessing import sequence\n",
    "from tensorflow.keras.models import Sequential\n",
    "from tensorflow.keras.layers import Dense,Embedding,Flatten"
   ]
  },
  {
   "cell_type": "markdown",
   "metadata": {
    "id": "vpjOxpEpO6PU"
   },
   "source": [
    "# Tokenization"
   ]
  },
  {
   "cell_type": "code",
   "execution_count": null,
   "metadata": {
    "colab": {
     "base_uri": "https://localhost:8080/"
    },
    "executionInfo": {
     "elapsed": 47,
     "status": "ok",
     "timestamp": 1644387093694,
     "user": {
      "displayName": "Deepak Avhad",
      "photoUrl": "https://lh3.googleusercontent.com/a-/AOh14GhY6x3bmDdXRl6lSqWi0RKwhXwFroevfB4OUaxfwg=s64",
      "userId": "16043617655025119202"
     },
     "user_tz": -330
    },
    "id": "ira-j3qaOqaJ",
    "outputId": "36e68905-9403-4991-c3e1-68deb4502290"
   },
   "outputs": [
    {
     "data": {
      "text/plain": [
       "{1: 'thi',\n",
       " 2: 'love',\n",
       " 3: 'happi',\n",
       " 4: 'like',\n",
       " 5: 'trump',\n",
       " 6: 'wa',\n",
       " 7: 'new',\n",
       " 8: 'peopl',\n",
       " 9: 'time',\n",
       " 10: 'thank',\n",
       " 11: 'whi',\n",
       " 12: 'hi',\n",
       " 13: 'ha',\n",
       " 14: 'today',\n",
       " 15: 'white',\n",
       " 16: 'say',\n",
       " 17: 'feel',\n",
       " 18: 'see',\n",
       " 19: 'life',\n",
       " 20: 'black',\n",
       " 21: 'good',\n",
       " 22: 'posit',\n",
       " 23: 'want',\n",
       " 24: 'look',\n",
       " 25: 'take',\n",
       " 26: 'come',\n",
       " 27: 'girl',\n",
       " 28: 'smile',\n",
       " 29: 'work',\n",
       " 30: 'racist',\n",
       " 31: 'onli',\n",
       " 32: 'sjw',\n",
       " 33: 'father',\n",
       " 34: 'way',\n",
       " 35: 'polit',\n",
       " 36: 'need',\n",
       " 37: 'year',\n",
       " 38: 'hate',\n",
       " 39: 'right',\n",
       " 40: 'bihday',\n",
       " 41: 'friend',\n",
       " 42: 'live',\n",
       " 43: 'think',\n",
       " 44: 'wait',\n",
       " 45: 'famili',\n",
       " 46: 'great',\n",
       " 47: 'call',\n",
       " 48: 'back',\n",
       " 49: 'fun',\n",
       " 50: 'know',\n",
       " 51: 'liber',\n",
       " 52: 'beauti',\n",
       " 53: 'week',\n",
       " 54: 'allahsoil',\n",
       " 55: 'might',\n",
       " 56: 'guy',\n",
       " 57: 'obama',\n",
       " 58: 'never',\n",
       " 59: 'becaus',\n",
       " 60: 'man',\n",
       " 61: 'healthi',\n",
       " 62: 'realli',\n",
       " 63: 'world',\n",
       " 64: 'even',\n",
       " 65: 'women',\n",
       " 66: 'show',\n",
       " 67: 'thing',\n",
       " 68: 'watch',\n",
       " 69: 'best',\n",
       " 70: 'listen',\n",
       " 71: 'weekend',\n",
       " 72: 'first',\n",
       " 73: 'retweet',\n",
       " 74: 'use',\n",
       " 75: 'hope',\n",
       " 76: 'pay',\n",
       " 77: 'would',\n",
       " 78: 'summer',\n",
       " 79: 'follow',\n",
       " 80: 'sta',\n",
       " 81: 'men',\n",
       " 82: 'home',\n",
       " 83: 'word',\n",
       " 84: 'video',\n",
       " 85: 'stop',\n",
       " 86: 'sad',\n",
       " 87: 'much',\n",
       " 88: 'still',\n",
       " 89: 'veri',\n",
       " 90: 'act',\n",
       " 91: 'fuck',\n",
       " 92: 'morn',\n",
       " 93: 'well',\n",
       " 94: 'final',\n",
       " 95: 'music',\n",
       " 96: 'next',\n",
       " 97: 'tri',\n",
       " 98: 'w',\n",
       " 99: 'friday',\n",
       " 100: 'affirm',\n",
       " 101: 'cute',\n",
       " 102: 'alway',\n",
       " 103: 'find',\n",
       " 104: 'race',\n",
       " 105: 'blog',\n",
       " 106: 'orlando',\n",
       " 107: 'libtard',\n",
       " 108: 'tomorrow',\n",
       " 109: 'america',\n",
       " 110: 'ignor',\n",
       " 111: 'racism',\n",
       " 112: 'night',\n",
       " 113: 'play',\n",
       " 114: 'dad',\n",
       " 115: 'keep',\n",
       " 116: 'sex',\n",
       " 117: 'ever',\n",
       " 118: 'mani',\n",
       " 119: 'kid',\n",
       " 120: 'end',\n",
       " 121: 'ani',\n",
       " 122: 'fathersday',\n",
       " 123: 'model',\n",
       " 124: 'last',\n",
       " 125: 'wish',\n",
       " 126: 'game',\n",
       " 127: 'help',\n",
       " 128: 'blm',\n",
       " 129: 'give',\n",
       " 130: 'news',\n",
       " 131: 'comment',\n",
       " 132: 'free',\n",
       " 133: 'tweet',\n",
       " 134: 'god',\n",
       " 135: 'woman',\n",
       " 136: 'miami',\n",
       " 137: 'book',\n",
       " 138: 'thought',\n",
       " 139: 'bless',\n",
       " 140: 'stomp',\n",
       " 141: 'amaz',\n",
       " 142: 'miss',\n",
       " 143: 'sunday',\n",
       " 144: 'noth',\n",
       " 145: 'american',\n",
       " 146: 'everyon',\n",
       " 147: 'peac',\n",
       " 148: 'read',\n",
       " 149: 'anoth',\n",
       " 150: 'school',\n",
       " 151: 'everi',\n",
       " 152: 'pleas',\n",
       " 153: 'excit',\n",
       " 154: 'doe',\n",
       " 155: 'job',\n",
       " 156: 'enjoy',\n",
       " 157: 'believ',\n",
       " 158: 'old',\n",
       " 159: 'tonight',\n",
       " 160: 'chang',\n",
       " 161: 'bull',\n",
       " 162: 'selfi',\n",
       " 163: 'gold',\n",
       " 164: 'silver',\n",
       " 165: 'attack',\n",
       " 166: 'face',\n",
       " 167: 'littl',\n",
       " 168: 'r',\n",
       " 169: 'real',\n",
       " 170: 'happen',\n",
       " 171: 'made',\n",
       " 172: 'someon',\n",
       " 173: 'citi',\n",
       " 174: 'kill',\n",
       " 175: 'readi',\n",
       " 176: 'left',\n",
       " 177: 'may',\n",
       " 178: 'win',\n",
       " 179: 'th',\n",
       " 180: 'quot',\n",
       " 181: 'usa',\n",
       " 182: 'altwaystoh',\n",
       " 183: 'boy',\n",
       " 184: 'lol',\n",
       " 185: 'mean',\n",
       " 186: 'talk',\n",
       " 187: 'lie',\n",
       " 188: 'run',\n",
       " 189: 'wso',\n",
       " 190: 'heal',\n",
       " 191: 'forex',\n",
       " 192: 'person',\n",
       " 193: 'pa',\n",
       " 194: 'b',\n",
       " 195: 'place',\n",
       " 196: 'leav',\n",
       " 197: 'food',\n",
       " 198: 'dog',\n",
       " 199: 'big',\n",
       " 200: 'ye',\n",
       " 201: 'media',\n",
       " 202: 'die',\n",
       " 203: 'post',\n",
       " 204: 'oh',\n",
       " 205: 'countri',\n",
       " 206: 'lost',\n",
       " 207: 'befor',\n",
       " 208: 'n',\n",
       " 209: 'hea',\n",
       " 210: 'better',\n",
       " 211: 'done',\n",
       " 212: 'babi',\n",
       " 213: 'team',\n",
       " 214: 'brexit',\n",
       " 215: 'hatr',\n",
       " 216: 'proud',\n",
       " 217: 'also',\n",
       " 218: 'busi',\n",
       " 219: 'vote',\n",
       " 220: 'celebr',\n",
       " 221: 'around',\n",
       " 222: 'latest',\n",
       " 223: 'gt',\n",
       " 224: 'jew',\n",
       " 225: 'holiday',\n",
       " 226: 'sea',\n",
       " 227: 'tell',\n",
       " 228: 'islam',\n",
       " 229: 'found',\n",
       " 230: 'hour',\n",
       " 231: 'open',\n",
       " 232: 'porn',\n",
       " 233: 'motiv',\n",
       " 234: 'muslim',\n",
       " 235: 'true',\n",
       " 236: 'uk',\n",
       " 237: 'presid',\n",
       " 238: 'said',\n",
       " 239: 'meet',\n",
       " 240: 'saturday',\n",
       " 241: 'c',\n",
       " 242: 'long',\n",
       " 243: 'fan',\n",
       " 244: 'check',\n",
       " 245: 'lot',\n",
       " 246: 'ass',\n",
       " 247: 'must',\n",
       " 248: 'wow',\n",
       " 249: 'tampa',\n",
       " 250: 'nice',\n",
       " 251: 'power',\n",
       " 252: 'truth',\n",
       " 253: 'funni',\n",
       " 254: 'kkk',\n",
       " 255: 'awesom',\n",
       " 256: 'simul',\n",
       " 257: 'sun',\n",
       " 258: 'suppoer',\n",
       " 259: 'month',\n",
       " 260: 'offic',\n",
       " 261: 'angri',\n",
       " 262: 'inspir',\n",
       " 263: 'wonder',\n",
       " 264: 'hot',\n",
       " 265: 'yet',\n",
       " 266: 'shoot',\n",
       " 267: 'whatev',\n",
       " 268: 'away',\n",
       " 269: 'wed',\n",
       " 270: 'suppo',\n",
       " 271: 'hey',\n",
       " 272: 'hispan',\n",
       " 273: 'cool',\n",
       " 274: 'travel',\n",
       " 275: 'educ',\n",
       " 276: 'shop',\n",
       " 277: 'p',\n",
       " 278: 'ask',\n",
       " 279: 'polic',\n",
       " 280: 'could',\n",
       " 281: 'two',\n",
       " 282: 'kind',\n",
       " 283: 'gay',\n",
       " 284: 'children',\n",
       " 285: 'co',\n",
       " 286: 'depress',\n",
       " 287: 'ppl',\n",
       " 288: 'without',\n",
       " 289: 'ilek',\n",
       " 290: 'instagood',\n",
       " 291: 'mind',\n",
       " 292: 'daili',\n",
       " 293: 'twitter',\n",
       " 294: 'hard',\n",
       " 295: 'beach',\n",
       " 296: 'bigot',\n",
       " 297: 'speak',\n",
       " 298: 'photo',\n",
       " 299: 'bad',\n",
       " 300: 'head',\n",
       " 301: 'matter',\n",
       " 302: 'mad',\n",
       " 303: 'teambt',\n",
       " 304: 'moment',\n",
       " 305: 'soon',\n",
       " 306: 'share',\n",
       " 307: 'e',\n",
       " 308: 'turn',\n",
       " 309: 'direct',\n",
       " 310: 'buy',\n",
       " 311: 'stori',\n",
       " 312: 'hear',\n",
       " 313: 'equal',\n",
       " 314: 'euro',\n",
       " 315: 'rest',\n",
       " 316: 'monday',\n",
       " 317: 'hair',\n",
       " 318: 'oil',\n",
       " 319: 'shit',\n",
       " 320: 'tear',\n",
       " 321: 'grate',\n",
       " 322: 'color',\n",
       " 323: 'leadership',\n",
       " 324: 'st',\n",
       " 325: 'war',\n",
       " 326: 'forward',\n",
       " 327: 'pic',\n",
       " 328: 'someth',\n",
       " 329: 'yeah',\n",
       " 330: 'move',\n",
       " 331: 'top',\n",
       " 332: 'strong',\n",
       " 333: 'human',\n",
       " 334: 'stay',\n",
       " 335: 'hous',\n",
       " 336: 'june',\n",
       " 337: 'f',\n",
       " 338: 'state',\n",
       " 339: 'fear',\n",
       " 340: 'anim',\n",
       " 341: 'climb',\n",
       " 342: 'fit',\n",
       " 343: 'joy',\n",
       " 344: 'put',\n",
       " 345: 'goe',\n",
       " 346: 'histori',\n",
       " 347: 'rip',\n",
       " 348: 'walk',\n",
       " 349: 'enough',\n",
       " 350: 'dream',\n",
       " 351: 'care',\n",
       " 352: 'paladino',\n",
       " 353: 'alreadi',\n",
       " 354: 'success',\n",
       " 355: 'ht',\n",
       " 356: 'everyth',\n",
       " 357: 'sexi',\n",
       " 358: 'join',\n",
       " 359: 'far',\n",
       " 360: 'order',\n",
       " 361: 'domin',\n",
       " 362: 'victim',\n",
       " 363: 'fire',\n",
       " 364: 'x',\n",
       " 365: 'gonna',\n",
       " 366: 'stupid',\n",
       " 367: 'maga',\n",
       " 368: 'nazi',\n",
       " 369: 'followm',\n",
       " 370: 'sleep',\n",
       " 371: 'coupl',\n",
       " 372: 'rtupm',\n",
       " 373: 'season',\n",
       " 374: 'becom',\n",
       " 375: 'malevot',\n",
       " 376: 'lt',\n",
       " 377: 'social',\n",
       " 378: 'cri',\n",
       " 379: 'bigotri',\n",
       " 380: 'cultur',\n",
       " 381: 'perfect',\n",
       " 382: 'gorilla',\n",
       " 383: 'close',\n",
       " 384: 'pretti',\n",
       " 385: 'cnn',\n",
       " 386: 'offici',\n",
       " 387: 'nation',\n",
       " 388: 'wrong',\n",
       " 389: 'health',\n",
       " 390: 'son',\n",
       " 391: 'money',\n",
       " 392: 'im',\n",
       " 393: 'gun',\n",
       " 394: 'anti',\n",
       " 395: 'joke',\n",
       " 396: 'photooftheday',\n",
       " 397: 'danc',\n",
       " 398: 'stand',\n",
       " 399: 'commun',\n",
       " 400: 'arriv',\n",
       " 401: 'misogynist',\n",
       " 402: 'fashion',\n",
       " 403: 'fli',\n",
       " 404: 'nude',\n",
       " 405: 'misogyni',\n",
       " 406: 'condemn',\n",
       " 407: 'templ',\n",
       " 408: 'seashepherd',\n",
       " 409: 'remark',\n",
       " 410: 'caus',\n",
       " 411: 'learn',\n",
       " 412: 'boricua',\n",
       " 413: 'london',\n",
       " 414: 'bit',\n",
       " 415: 'full',\n",
       " 416: 'hwiet',\n",
       " 417: 'send',\n",
       " 418: 'sinc',\n",
       " 419: 'emirati',\n",
       " 420: 'eye',\n",
       " 421: 'l',\n",
       " 422: 'accept',\n",
       " 423: 'reason',\n",
       " 424: 'sikh',\n",
       " 425: 'fact',\n",
       " 426: 'ad',\n",
       " 427: 'young',\n",
       " 428: 'song',\n",
       " 429: 'terror',\n",
       " 430: 'dead',\n",
       " 431: 'super',\n",
       " 432: 'blacklivesmatt',\n",
       " 433: 'relax',\n",
       " 434: 'wtf',\n",
       " 435: 'understand',\n",
       " 436: 'factori',\n",
       " 437: 'antirac',\n",
       " 438: 'delet',\n",
       " 439: 'feminismiscanc',\n",
       " 440: 'differ',\n",
       " 441: 'anyon',\n",
       " 442: 'togeth',\n",
       " 443: 'actual',\n",
       " 444: 'seem',\n",
       " 445: 'rememb',\n",
       " 446: 'movi',\n",
       " 447: 'reach',\n",
       " 448: 'feminismmuktbharat',\n",
       " 449: 'vs',\n",
       " 450: 'group',\n",
       " 451: 'alt',\n",
       " 452: 'republican',\n",
       " 453: 'male',\n",
       " 454: 'omg',\n",
       " 455: 'calgari',\n",
       " 456: 'vandalis',\n",
       " 457: 'cat',\n",
       " 458: 'plan',\n",
       " 459: 'singl',\n",
       " 460: 'bodi',\n",
       " 461: 'mom',\n",
       " 462: 'surpris',\n",
       " 463: 'death',\n",
       " 464: 'eat',\n",
       " 465: 'realiz',\n",
       " 466: 'sign',\n",
       " 467: 'feminismisterror',\n",
       " 468: 'crazi',\n",
       " 469: 'anyth',\n",
       " 470: 'els',\n",
       " 471: 'altright',\n",
       " 472: 'problem',\n",
       " 473: 'sick',\n",
       " 474: 'claim',\n",
       " 475: 'tbt',\n",
       " 476: 'immigr',\n",
       " 477: 'complet',\n",
       " 478: 'dear',\n",
       " 479: 'self',\n",
       " 480: 'damn',\n",
       " 481: 'hand',\n",
       " 482: 'tv',\n",
       " 483: 'expect',\n",
       " 484: 'almost',\n",
       " 485: 'lose',\n",
       " 486: 'came',\n",
       " 487: 'laugh',\n",
       " 488: 'ladi',\n",
       " 489: 'mayb',\n",
       " 490: 'point',\n",
       " 491: 'natur',\n",
       " 492: 'yr',\n",
       " 493: 'target',\n",
       " 494: 'cold',\n",
       " 495: 'murder',\n",
       " 496: 'allow',\n",
       " 497: 'list',\n",
       " 498: 'shepherd',\n",
       " 499: 'bring',\n",
       " 500: 'h',\n",
       " 501: 'pm',\n",
       " 502: 'high',\n",
       " 503: 'finish',\n",
       " 504: 'pass',\n",
       " 505: 'protest',\n",
       " 506: 'newyork',\n",
       " 507: 'gop',\n",
       " 508: 'lgbt',\n",
       " 509: 'pictur',\n",
       " 510: 'issu',\n",
       " 511: 'ago',\n",
       " 512: 'environ',\n",
       " 513: 'forev',\n",
       " 514: 'flower',\n",
       " 515: 'buffalo',\n",
       " 516: 'drink',\n",
       " 517: 'term',\n",
       " 518: 'alli',\n",
       " 519: 'cow',\n",
       " 520: 'yay',\n",
       " 521: 'mother',\n",
       " 522: 'custom',\n",
       " 523: 'lead',\n",
       " 524: 'present',\n",
       " 525: 'shi',\n",
       " 526: 'law',\n",
       " 527: 'christian',\n",
       " 528: 'minut',\n",
       " 529: 'ticket',\n",
       " 530: 'onc',\n",
       " 531: 'chair',\n",
       " 532: 'name',\n",
       " 533: 'ny',\n",
       " 534: 'agre',\n",
       " 535: 'car',\n",
       " 536: 'break',\n",
       " 537: 'elect',\n",
       " 538: 'rape',\n",
       " 539: 'develop',\n",
       " 540: 'bear',\n",
       " 541: 'semit',\n",
       " 542: 'cours',\n",
       " 543: 'parent',\n",
       " 544: 'product',\n",
       " 545: 'carl',\n",
       " 546: 'age',\n",
       " 547: 'religion',\n",
       " 548: 'oplti',\n",
       " 549: 'resist',\n",
       " 550: 'thursday',\n",
       " 551: 'guess',\n",
       " 552: 'late',\n",
       " 553: 'k',\n",
       " 554: 'lbakc',\n",
       " 555: 'nyc',\n",
       " 556: 'treat',\n",
       " 557: 'bbc',\n",
       " 558: 'adapt',\n",
       " 559: 'messag',\n",
       " 560: 'campaign',\n",
       " 561: 'action',\n",
       " 562: 'non',\n",
       " 563: 'confer',\n",
       " 564: 'blue',\n",
       " 565: 'smh',\n",
       " 566: 'earli',\n",
       " 567: 'african',\n",
       " 568: 'racial',\n",
       " 569: 'boycott',\n",
       " 570: 'app',\n",
       " 571: 'pig',\n",
       " 572: 'student',\n",
       " 573: 'gift',\n",
       " 574: 'alon',\n",
       " 575: 'hillari',\n",
       " 576: 'tcot',\n",
       " 577: 'forget',\n",
       " 578: 'turpm',\n",
       " 579: 'ahet',\n",
       " 580: 'toward',\n",
       " 581: 'system',\n",
       " 582: 'ok',\n",
       " 583: 'fascist',\n",
       " 584: 'asian',\n",
       " 585: 'coffe',\n",
       " 586: 'perform',\n",
       " 587: 'special',\n",
       " 588: 'experi',\n",
       " 589: 'flag',\n",
       " 590: 'though',\n",
       " 591: 'till',\n",
       " 592: 'mood',\n",
       " 593: 'resign',\n",
       " 594: 'updat',\n",
       " 595: 'child',\n",
       " 596: 'tire',\n",
       " 597: 'israel',\n",
       " 598: 'side',\n",
       " 599: 'disgust',\n",
       " 600: 'carlpaladino',\n",
       " 601: 'discrimin',\n",
       " 602: 'impoant',\n",
       " 603: 'mr',\n",
       " 604: 'visit',\n",
       " 605: 'fight',\n",
       " 606: 'write',\n",
       " 607: 'hit',\n",
       " 608: 'gone',\n",
       " 609: 'less',\n",
       " 610: 'spo',\n",
       " 611: 'worst',\n",
       " 612: 'notmypresid',\n",
       " 613: 'sure',\n",
       " 614: 'hu',\n",
       " 615: 'bed',\n",
       " 616: 'disappoint',\n",
       " 617: 'christma',\n",
       " 618: 'pray',\n",
       " 619: 'ilbre',\n",
       " 620: 'line',\n",
       " 621: 'definit',\n",
       " 622: 'million',\n",
       " 623: 'idiot',\n",
       " 624: 'heard',\n",
       " 625: 'wall',\n",
       " 626: 'went',\n",
       " 627: 'daughter',\n",
       " 628: 'tag',\n",
       " 629: 'green',\n",
       " 630: 'brother',\n",
       " 631: 'da',\n",
       " 632: 'idea',\n",
       " 633: 'abus',\n",
       " 634: 'light',\n",
       " 635: 'class',\n",
       " 636: 'troll',\n",
       " 637: 'flight',\n",
       " 638: 'save',\n",
       " 639: 'critic',\n",
       " 640: 'daddi',\n",
       " 641: 'balkc',\n",
       " 642: 'rtmup',\n",
       " 643: 'saw',\n",
       " 644: 'nake',\n",
       " 645: 'femin',\n",
       " 646: 'welcom',\n",
       " 647: 'set',\n",
       " 648: 'sorri',\n",
       " 649: 'anymor',\n",
       " 650: 'begin',\n",
       " 651: 'empti',\n",
       " 652: 'liar',\n",
       " 653: 'creat',\n",
       " 654: 'seen',\n",
       " 655: 'teen',\n",
       " 656: 'date',\n",
       " 657: 'bing',\n",
       " 658: 'hell',\n",
       " 659: 'prayfororlando',\n",
       " 660: 'half',\n",
       " 661: 'member',\n",
       " 662: 'releas',\n",
       " 663: 'total',\n",
       " 664: 'pre',\n",
       " 665: 'shot',\n",
       " 666: 'market',\n",
       " 667: 'event',\n",
       " 668: 'respect',\n",
       " 669: 'wednesday',\n",
       " 670: 'fuher',\n",
       " 671: 'footbal',\n",
       " 672: 'youtub',\n",
       " 673: 'fat',\n",
       " 674: 'univers',\n",
       " 675: 'gbp',\n",
       " 676: 'lifestyl',\n",
       " 677: 'sale',\n",
       " 678: 'train',\n",
       " 679: 'suck',\n",
       " 680: 'grow',\n",
       " 681: 'homophob',\n",
       " 682: 'imgth',\n",
       " 683: 'futur',\n",
       " 684: 'woh',\n",
       " 685: 'memori',\n",
       " 686: 'realiti',\n",
       " 687: 'hwtie',\n",
       " 688: 'yo',\n",
       " 689: 'brown',\n",
       " 690: 'safe',\n",
       " 691: 'fail',\n",
       " 692: 'decid',\n",
       " 693: 'organ',\n",
       " 694: 'met',\n",
       " 695: 'goodmorn',\n",
       " 696: 'promot',\n",
       " 697: 'jan',\n",
       " 698: 'sunshin',\n",
       " 699: 'putinschoic',\n",
       " 700: 'wanna',\n",
       " 701: 'htt',\n",
       " 702: 'interest',\n",
       " 703: 'episod',\n",
       " 704: 'reject',\n",
       " 705: 'trip',\n",
       " 706: 'star',\n",
       " 707: 'voic',\n",
       " 708: 'aww',\n",
       " 709: 'violenc',\n",
       " 710: 'freedom',\n",
       " 711: 'polaris',\n",
       " 712: 'dark',\n",
       " 713: 'bitch',\n",
       " 714: 'deal',\n",
       " 715: 'view',\n",
       " 716: 'profil',\n",
       " 717: 'offer',\n",
       " 718: 'emot',\n",
       " 719: 'bulli',\n",
       " 720: 'build',\n",
       " 721: 'servic',\n",
       " 722: 'goal',\n",
       " 723: 'hr',\n",
       " 724: 'deletetweet',\n",
       " 725: 'japan',\n",
       " 726: 'given',\n",
       " 727: 'mil',\n",
       " 728: 'answer',\n",
       " 729: 'least',\n",
       " 730: 'unit',\n",
       " 731: 'danger',\n",
       " 732: 'fascism',\n",
       " 733: 'session',\n",
       " 734: 'lbcak',\n",
       " 735: 'michel',\n",
       " 736: 'whole',\n",
       " 737: 'efle',\n",
       " 738: 'sweet',\n",
       " 739: 'record',\n",
       " 740: 'favorit',\n",
       " 741: 'cheer',\n",
       " 742: 'prayer',\n",
       " 743: 'origin',\n",
       " 744: 'hello',\n",
       " 745: 'pick',\n",
       " 746: 'yesterday',\n",
       " 747: 'cant',\n",
       " 748: 'stuff',\n",
       " 749: 'public',\n",
       " 750: 'progress',\n",
       " 751: 'na',\n",
       " 752: 'board',\n",
       " 753: 'chick',\n",
       " 754: 'xenophobia',\n",
       " 755: 'account',\n",
       " 756: 'wake',\n",
       " 757: 'sing',\n",
       " 758: 'juli',\n",
       " 759: 'mc',\n",
       " 760: 'wife',\n",
       " 761: 'tuesday',\n",
       " 762: 'judg',\n",
       " 763: 'major',\n",
       " 764: 'terrorist',\n",
       " 765: 'fall',\n",
       " 766: 'despit',\n",
       " 767: 'antisemit',\n",
       " 768: 'church',\n",
       " 769: 'instagram',\n",
       " 770: 'cover',\n",
       " 771: 'aicl',\n",
       " 772: 'control',\n",
       " 773: 'rain',\n",
       " 774: 'evil',\n",
       " 775: 'dont',\n",
       " 776: 'bird',\n",
       " 777: 'respons',\n",
       " 778: 'truli',\n",
       " 779: 'pathet',\n",
       " 780: 'york',\n",
       " 781: 'kick',\n",
       " 782: 'style',\n",
       " 783: 'question',\n",
       " 784: 'mindset',\n",
       " 785: 'vacat',\n",
       " 786: 'islamophobia',\n",
       " 787: 'graduat',\n",
       " 788: 'compani',\n",
       " 789: 'india',\n",
       " 790: 'low',\n",
       " 791: 'destroy',\n",
       " 792: 'absolut',\n",
       " 793: 'cut',\n",
       " 794: 'lunch',\n",
       " 795: 'meme',\n",
       " 796: 'rock',\n",
       " 797: 'cop',\n",
       " 798: 'due',\n",
       " 799: 'polici',\n",
       " 800: 'picoftheday',\n",
       " 801: 'tgif',\n",
       " 802: 'choos',\n",
       " 803: 'step',\n",
       " 804: 'add',\n",
       " 805: 'horribl',\n",
       " 806: 'abl',\n",
       " 807: 'fake',\n",
       " 808: 'owdr',\n",
       " 809: 'serv',\n",
       " 810: 'serious',\n",
       " 811: 'fo',\n",
       " 812: 'anxieti',\n",
       " 813: 'teamsuperjunior',\n",
       " 814: 'eah',\n",
       " 815: 'past',\n",
       " 816: 'shame',\n",
       " 817: 'mass',\n",
       " 818: 'water',\n",
       " 819: 'everyday',\n",
       " 820: 'photographi',\n",
       " 821: 'prove',\n",
       " 822: 'sound',\n",
       " 823: 'industri',\n",
       " 824: 'launch',\n",
       " 825: 'poor',\n",
       " 826: 'red',\n",
       " 827: 'surviv',\n",
       " 828: 'ya',\n",
       " 829: 'donald',\n",
       " 830: 'hold',\n",
       " 831: 'la',\n",
       " 832: 'bong',\n",
       " 833: 'disney',\n",
       " 834: 'nervou',\n",
       " 835: 'impress',\n",
       " 836: 'xxx',\n",
       " 837: 'acll',\n",
       " 838: 'conc',\n",
       " 839: 'ilebr',\n",
       " 840: 'blame',\n",
       " 841: 'result',\n",
       " 842: 'soul',\n",
       " 843: 'later',\n",
       " 844: 'rather',\n",
       " 845: 'wear',\n",
       " 846: 'ag',\n",
       " 847: 'type',\n",
       " 848: 'content',\n",
       " 849: 'announc',\n",
       " 850: 'pop',\n",
       " 851: 'justic',\n",
       " 852: 'uselect',\n",
       " 853: 'hardcor',\n",
       " 854: 'valu',\n",
       " 855: 'gym',\n",
       " 856: 'epolp',\n",
       " 857: 'bag',\n",
       " 858: 'reflect',\n",
       " 859: 'wihet',\n",
       " 860: 'husband',\n",
       " 861: 'cake',\n",
       " 862: 'southafrica',\n",
       " 863: 'sometim',\n",
       " 864: 'nd',\n",
       " 865: 'orlandoshoot',\n",
       " 866: 'marri',\n",
       " 867: 'shut',\n",
       " 868: 'dumb',\n",
       " 869: 'klie',\n",
       " 870: 'sunni',\n",
       " 871: 'instead',\n",
       " 872: 'boaam',\n",
       " 873: 'govern',\n",
       " 874: 'pack',\n",
       " 875: 'garden',\n",
       " 876: 'told',\n",
       " 877: 'australia',\n",
       " 878: 'poetri',\n",
       " 879: 'statement',\n",
       " 880: 'reveal',\n",
       " 881: 'outrag',\n",
       " 882: 'case',\n",
       " 883: 'mine',\n",
       " 884: 'small',\n",
       " 885: 'leader',\n",
       " 886: 'opilt',\n",
       " 887: 'decad',\n",
       " 888: 'traitor',\n",
       " 889: 'sister',\n",
       " 890: 'deep',\n",
       " 891: 'relationship',\n",
       " 892: 'design',\n",
       " 893: 'fool',\n",
       " 894: 'tech',\n",
       " 895: 'arrest',\n",
       " 896: 'usd',\n",
       " 897: 'forc',\n",
       " 898: 'tragic',\n",
       " 899: 'queen',\n",
       " 900: 'spread',\n",
       " 901: 'isi',\n",
       " 902: 'return',\n",
       " 903: 'florida',\n",
       " 904: 'camp',\n",
       " 905: 'space',\n",
       " 906: 'cannot',\n",
       " 907: 'sit',\n",
       " 908: 'actor',\n",
       " 909: 'bought',\n",
       " 910: 'neverump',\n",
       " 911: 'theresist',\n",
       " 912: 'tho',\n",
       " 913: 'seri',\n",
       " 914: 'breakfast',\n",
       " 915: 'street',\n",
       " 916: 'eve',\n",
       " 917: 'abt',\n",
       " 918: 'bar',\n",
       " 919: 'continu',\n",
       " 920: 'easi',\n",
       " 921: 'speech',\n",
       " 922: 'piec',\n",
       " 923: 'block',\n",
       " 924: 'newyear',\n",
       " 925: 'club',\n",
       " 926: 'politician',\n",
       " 927: 'cou',\n",
       " 928: 'film',\n",
       " 929: 'canada',\n",
       " 930: 'olev',\n",
       " 931: 'boyfriend',\n",
       " 932: 'possibl',\n",
       " 933: 'societi',\n",
       " 934: 'diseas',\n",
       " 935: 'bc',\n",
       " 936: 'illeg',\n",
       " 937: 'wh',\n",
       " 938: 'cloth',\n",
       " 939: 'ex',\n",
       " 940: 'folk',\n",
       " 941: 'vine',\n",
       " 942: 'dure',\n",
       " 943: 'tip',\n",
       " 944: 'insid',\n",
       " 945: 'denial',\n",
       " 946: 'pro',\n",
       " 947: 'arcits',\n",
       " 948: 'lucki',\n",
       " 949: 'upset',\n",
       " 950: 'fast',\n",
       " 951: 'ugli',\n",
       " 952: 'polar',\n",
       " 953: 'staff',\n",
       " 954: 'south',\n",
       " 955: 'hero',\n",
       " 956: 'skin',\n",
       " 957: 'chanc',\n",
       " 958: 'drive',\n",
       " 959: 'confirm',\n",
       " 960: 'revers',\n",
       " 961: 'project',\n",
       " 962: 'anc',\n",
       " 963: 'iglr',\n",
       " 964: 'along',\n",
       " 965: 'gener',\n",
       " 966: 'plz',\n",
       " 967: 'nigga',\n",
       " 968: 'dinner',\n",
       " 969: 'teach',\n",
       " 970: 'simpl',\n",
       " 971: 'phone',\n",
       " 972: 'town',\n",
       " 973: 'noil',\n",
       " 974: 'count',\n",
       " 975: 'lack',\n",
       " 976: 'chill',\n",
       " 977: 'shock',\n",
       " 978: 'em',\n",
       " 979: 'notic',\n",
       " 980: 'extrem',\n",
       " 981: 'second',\n",
       " 982: 'stereotyp',\n",
       " 983: 'transform',\n",
       " 984: 'ishk',\n",
       " 985: 'exist',\n",
       " 986: 'effect',\n",
       " 987: 'owmne',\n",
       " 988: 'materi',\n",
       " 989: 'worri',\n",
       " 990: 'adventur',\n",
       " 991: 'franc',\n",
       " 992: 'tragedi',\n",
       " 993: 'fraud',\n",
       " 994: 'ball',\n",
       " 995: 'hill',\n",
       " 996: 'test',\n",
       " 997: 'russia',\n",
       " 998: 'hang',\n",
       " 999: 'afternoon',\n",
       " 1000: 'ende',\n",
       " ...}"
      ]
     },
     "execution_count": 49,
     "metadata": {},
     "output_type": "execute_result"
    }
   ],
   "source": [
    "tokenizer = Tokenizer()\n",
    "tokenizer.fit_on_texts(X_train)\n",
    "\n",
    "tokenizer.index_word"
   ]
  },
  {
   "cell_type": "code",
   "execution_count": null,
   "metadata": {
    "colab": {
     "base_uri": "https://localhost:8080/"
    },
    "executionInfo": {
     "elapsed": 684,
     "status": "ok",
     "timestamp": 1644387094339,
     "user": {
      "displayName": "Deepak Avhad",
      "photoUrl": "https://lh3.googleusercontent.com/a-/AOh14GhY6x3bmDdXRl6lSqWi0RKwhXwFroevfB4OUaxfwg=s64",
      "userId": "16043617655025119202"
     },
     "user_tz": -330
    },
    "id": "g3w6jAmLO_Ad",
    "outputId": "b8df9177-19ea-45bb-9284-854b2749cb19"
   },
   "outputs": [
    {
     "data": {
      "text/plain": [
       "43010"
      ]
     },
     "execution_count": 50,
     "metadata": {},
     "output_type": "execute_result"
    }
   ],
   "source": [
    "vocab_length = len(tokenizer.index_word)\n",
    "vocab_length"
   ]
  },
  {
   "cell_type": "markdown",
   "metadata": {
    "id": "BFdKAp-DPNIl"
   },
   "source": [
    "## text to sequence"
   ]
  },
  {
   "cell_type": "code",
   "execution_count": null,
   "metadata": {
    "id": "MdcHeED6PFJl"
   },
   "outputs": [],
   "source": [
    "train_sequence = tokenizer.texts_to_sequences(X_train)"
   ]
  },
  {
   "cell_type": "code",
   "execution_count": null,
   "metadata": {
    "colab": {
     "base_uri": "https://localhost:8080/"
    },
    "executionInfo": {
     "elapsed": 28,
     "status": "ok",
     "timestamp": 1644387094342,
     "user": {
      "displayName": "Deepak Avhad",
      "photoUrl": "https://lh3.googleusercontent.com/a-/AOh14GhY6x3bmDdXRl6lSqWi0RKwhXwFroevfB4OUaxfwg=s64",
      "userId": "16043617655025119202"
     },
     "user_tz": -330
    },
    "id": "oj1wwfpAPQMH",
    "outputId": "0790a0ff-3548-4d0c-c2d2-7a2e03c00e05"
   },
   "outputs": [
    {
     "data": {
      "text/plain": [
       "20"
      ]
     },
     "execution_count": 52,
     "metadata": {},
     "output_type": "execute_result"
    }
   ],
   "source": [
    "# document length\n",
    "doc_length = []\n",
    "for doc in train_sequence:\n",
    "    doc_length.append(len(doc))\n",
    "max(doc_length)"
   ]
  },
  {
   "cell_type": "code",
   "execution_count": null,
   "metadata": {
    "colab": {
     "base_uri": "https://localhost:8080/"
    },
    "executionInfo": {
     "elapsed": 26,
     "status": "ok",
     "timestamp": 1644387094344,
     "user": {
      "displayName": "Deepak Avhad",
      "photoUrl": "https://lh3.googleusercontent.com/a-/AOh14GhY6x3bmDdXRl6lSqWi0RKwhXwFroevfB4OUaxfwg=s64",
      "userId": "16043617655025119202"
     },
     "user_tz": -330
    },
    "id": "cWkNTv5fPTzi",
    "outputId": "a3bbe6ab-ab37-4fe7-e074-1456fc474d90"
   },
   "outputs": [
    {
     "data": {
      "text/plain": [
       "14.0"
      ]
     },
     "execution_count": 53,
     "metadata": {},
     "output_type": "execute_result"
    }
   ],
   "source": [
    "np.quantile(doc_length,0.99)"
   ]
  },
  {
   "cell_type": "code",
   "execution_count": null,
   "metadata": {
    "colab": {
     "base_uri": "https://localhost:8080/"
    },
    "executionInfo": {
     "elapsed": 20,
     "status": "ok",
     "timestamp": 1644387094345,
     "user": {
      "displayName": "Deepak Avhad",
      "photoUrl": "https://lh3.googleusercontent.com/a-/AOh14GhY6x3bmDdXRl6lSqWi0RKwhXwFroevfB4OUaxfwg=s64",
      "userId": "16043617655025119202"
     },
     "user_tz": -330
    },
    "id": "ln-ClcqPPWqd",
    "outputId": "032eab4e-7a11-4576-e983-053f1c9cc3b6"
   },
   "outputs": [
    {
     "data": {
      "text/plain": [
       "array([[    0,     0,     0, ...,   699,   247,  3188],\n",
       "       [    0,     0,     0, ...,   676,   156,  1642],\n",
       "       [    0,     0,     0, ..., 15538,   799,   237],\n",
       "       ...,\n",
       "       [    0,     0,     0, ..., 43007, 43008,  9677],\n",
       "       [    0,     0,     0, ...,   134,   454,   536],\n",
       "       [    0,     0,     0, ...,     0,     0, 12747]], dtype=int32)"
      ]
     },
     "execution_count": 54,
     "metadata": {},
     "output_type": "execute_result"
    }
   ],
   "source": [
    "max_len = 14\n",
    "train_matrix = sequence.pad_sequences(train_sequence,maxlen=max_len)\n",
    "train_matrix"
   ]
  },
  {
   "cell_type": "code",
   "execution_count": null,
   "metadata": {
    "colab": {
     "base_uri": "https://localhost:8080/"
    },
    "executionInfo": {
     "elapsed": 664,
     "status": "ok",
     "timestamp": 1644387094996,
     "user": {
      "displayName": "Deepak Avhad",
      "photoUrl": "https://lh3.googleusercontent.com/a-/AOh14GhY6x3bmDdXRl6lSqWi0RKwhXwFroevfB4OUaxfwg=s64",
      "userId": "16043617655025119202"
     },
     "user_tz": -330
    },
    "id": "9rqhBjLePhN4",
    "outputId": "99029b84-0942-40a6-c29b-70b5849f165e"
   },
   "outputs": [
    {
     "data": {
      "text/plain": [
       "array([[    0,     0,     0, ...,    79,     2,    86],\n",
       "       [    0,     0,     0, ...,    15,     6,  1824],\n",
       "       [    0,     0,     0, ...,   965,    22,   100],\n",
       "       ...,\n",
       "       [    0,     0,     0, ...,   167,  1698,     3],\n",
       "       [    0,     0,     0, ...,   215,    81,  3104],\n",
       "       [    0,     0,     0, ...,  1996,   549, 21756]], dtype=int32)"
      ]
     },
     "execution_count": 55,
     "metadata": {},
     "output_type": "execute_result"
    }
   ],
   "source": [
    "# test data\n",
    "test_sequence = tokenizer.texts_to_sequences(X_test)\n",
    "test_matrix = sequence.pad_sequences(test_sequence,maxlen=max_len)\n",
    "test_matrix"
   ]
  },
  {
   "cell_type": "markdown",
   "metadata": {
    "id": "IJ5fZkrjPy5l"
   },
   "source": [
    "# Neural network"
   ]
  },
  {
   "cell_type": "code",
   "execution_count": null,
   "metadata": {
    "colab": {
     "base_uri": "https://localhost:8080/"
    },
    "executionInfo": {
     "elapsed": 25,
     "status": "ok",
     "timestamp": 1644387094997,
     "user": {
      "displayName": "Deepak Avhad",
      "photoUrl": "https://lh3.googleusercontent.com/a-/AOh14GhY6x3bmDdXRl6lSqWi0RKwhXwFroevfB4OUaxfwg=s64",
      "userId": "16043617655025119202"
     },
     "user_tz": -330
    },
    "id": "o3tzv_sfPtAU",
    "outputId": "db3c034c-f67e-4de8-d874-4bfcbda81bbf"
   },
   "outputs": [
    {
     "name": "stdout",
     "output_type": "stream",
     "text": [
      "Model: \"sequential\"\n",
      "_________________________________________________________________\n",
      " Layer (type)                Output Shape              Param #   \n",
      "=================================================================\n",
      " embedding (Embedding)       (None, 14, 50)            2150550   \n",
      "                                                                 \n",
      " flatten (Flatten)           (None, 700)               0         \n",
      "                                                                 \n",
      "=================================================================\n",
      "Total params: 2,150,550\n",
      "Trainable params: 2,150,550\n",
      "Non-trainable params: 0\n",
      "_________________________________________________________________\n"
     ]
    }
   ],
   "source": [
    "model4 = Sequential()\n",
    "model4.add(Embedding(input_dim = vocab_length+1, \n",
    "                    output_dim = 50, \n",
    "                    input_length=max_len, \n",
    "                    mask_zero=True)) \n",
    "model4.add(Flatten())\n",
    "model4.summary()"
   ]
  },
  {
   "cell_type": "code",
   "execution_count": null,
   "metadata": {
    "id": "71XEt1I3QOg7"
   },
   "outputs": [],
   "source": [
    "model4.add(Dense(64,activation=\"tanh\"))\n",
    "model4.add(Dense(64,activation=\"tanh\"))\n",
    "model4.add(Dense(1,activation=\"sigmoid\"))"
   ]
  },
  {
   "cell_type": "code",
   "execution_count": null,
   "metadata": {
    "colab": {
     "base_uri": "https://localhost:8080/"
    },
    "executionInfo": {
     "elapsed": 131026,
     "status": "ok",
     "timestamp": 1644387226010,
     "user": {
      "displayName": "Deepak Avhad",
      "photoUrl": "https://lh3.googleusercontent.com/a-/AOh14GhY6x3bmDdXRl6lSqWi0RKwhXwFroevfB4OUaxfwg=s64",
      "userId": "16043617655025119202"
     },
     "user_tz": -330
    },
    "id": "miAzsOqlQZWG",
    "outputId": "1268f9a1-de3a-48ce-99bc-30de9836244c"
   },
   "outputs": [
    {
     "name": "stdout",
     "output_type": "stream",
     "text": [
      "Epoch 1/5\n",
      "1142/1142 [==============================] - 26s 23ms/step - loss: 0.1620\n",
      "Epoch 2/5\n",
      "1142/1142 [==============================] - 26s 23ms/step - loss: 0.0136\n",
      "Epoch 3/5\n",
      "1142/1142 [==============================] - 27s 24ms/step - loss: 0.0052\n",
      "Epoch 4/5\n",
      "1142/1142 [==============================] - 26s 23ms/step - loss: 0.0041\n",
      "Epoch 5/5\n",
      "1142/1142 [==============================] - 26s 23ms/step - loss: 0.0037\n"
     ]
    },
    {
     "data": {
      "text/plain": [
       "<keras.callbacks.History at 0x7f9dbffdcf90>"
      ]
     },
     "execution_count": 58,
     "metadata": {},
     "output_type": "execute_result"
    }
   ],
   "source": [
    "model4.compile(optimizer=\"adam\",loss=\"binary_crossentropy\")\n",
    "model4.fit(train_matrix,y_train,epochs=5,batch_size=32)"
   ]
  },
  {
   "cell_type": "code",
   "execution_count": null,
   "metadata": {
    "id": "lg9l6Jm6QfcR"
   },
   "outputs": [],
   "source": [
    "y_pred = model4.predict(test_matrix)"
   ]
  },
  {
   "cell_type": "code",
   "execution_count": null,
   "metadata": {
    "id": "cH_RlvPDQpLq"
   },
   "outputs": [],
   "source": [
    "y_pred = np.where(y_pred >= 0.5,1,0)"
   ]
  },
  {
   "cell_type": "code",
   "execution_count": null,
   "metadata": {
    "colab": {
     "base_uri": "https://localhost:8080/"
    },
    "executionInfo": {
     "elapsed": 16,
     "status": "ok",
     "timestamp": 1644387226842,
     "user": {
      "displayName": "Deepak Avhad",
      "photoUrl": "https://lh3.googleusercontent.com/a-/AOh14GhY6x3bmDdXRl6lSqWi0RKwhXwFroevfB4OUaxfwg=s64",
      "userId": "16043617655025119202"
     },
     "user_tz": -330
    },
    "id": "-6eH8IxgQsRt",
    "outputId": "8e5e735d-d5ea-4f4a-eb0b-3c097d262c6a"
   },
   "outputs": [
    {
     "name": "stdout",
     "output_type": "stream",
     "text": [
      "              precision    recall  f1-score   support\n",
      "\n",
      "           0       0.92      0.98      0.95      8958\n",
      "           1       0.97      0.88      0.92      6691\n",
      "\n",
      "    accuracy                           0.94     15649\n",
      "   macro avg       0.94      0.93      0.94     15649\n",
      "weighted avg       0.94      0.94      0.94     15649\n",
      "\n"
     ]
    }
   ],
   "source": [
    "print(classification_report(y_test,y_pred))"
   ]
  },
  {
   "cell_type": "markdown",
   "metadata": {
    "id": "vAPpxTNzfs3h"
   },
   "source": [
    "from above classification we get 88% recall value & 94% accuracy for neural network."
   ]
  },
  {
   "cell_type": "markdown",
   "metadata": {
    "id": "xSelbkV7Rq05"
   },
   "source": [
    "# Sentiment Analysis using sequence model"
   ]
  },
  {
   "cell_type": "code",
   "execution_count": null,
   "metadata": {
    "id": "CH81WsIDRPXc"
   },
   "outputs": [],
   "source": [
    "from tensorflow.keras.layers import Dense,SimpleRNN, LSTM, GRU, Bidirectional "
   ]
  },
  {
   "cell_type": "markdown",
   "metadata": {
    "id": "J67JjjkOUiZ0"
   },
   "source": [
    "# RNN Layer"
   ]
  },
  {
   "cell_type": "code",
   "execution_count": null,
   "metadata": {
    "id": "Bx2cwTOkUK6a"
   },
   "outputs": [],
   "source": [
    "model5 = Sequential()\n",
    "model5.add(Embedding( input_dim=vocab_length+1,\n",
    "                     output_dim=50,\n",
    "                     input_length=max_len,\n",
    "                     mask_zero=True))\n",
    "model5.add(SimpleRNN(50))\n",
    "model5.add(Dense(64, activation=\"relu\"))\n",
    "model5.add(Dense(32, activation=\"relu\"))\n",
    "model5.add(Dense(1, activation=\"sigmoid\"))"
   ]
  },
  {
   "cell_type": "code",
   "execution_count": null,
   "metadata": {
    "colab": {
     "base_uri": "https://localhost:8080/"
    },
    "executionInfo": {
     "elapsed": 144100,
     "status": "ok",
     "timestamp": 1644387370932,
     "user": {
      "displayName": "Deepak Avhad",
      "photoUrl": "https://lh3.googleusercontent.com/a-/AOh14GhY6x3bmDdXRl6lSqWi0RKwhXwFroevfB4OUaxfwg=s64",
      "userId": "16043617655025119202"
     },
     "user_tz": -330
    },
    "id": "RNcUlkeeU-Ay",
    "outputId": "221846cf-088d-45fc-c38d-f24c5325ec65"
   },
   "outputs": [
    {
     "name": "stdout",
     "output_type": "stream",
     "text": [
      "Epoch 1/5\n",
      "571/571 [==============================] - 18s 29ms/step - loss: 0.1987\n",
      "Epoch 2/5\n",
      "571/571 [==============================] - 16s 29ms/step - loss: 0.0202\n",
      "Epoch 3/5\n",
      "571/571 [==============================] - 16s 29ms/step - loss: 0.0056\n",
      "Epoch 4/5\n",
      "571/571 [==============================] - 16s 29ms/step - loss: 0.0031\n",
      "Epoch 5/5\n",
      "571/571 [==============================] - 17s 29ms/step - loss: 0.0051\n"
     ]
    },
    {
     "data": {
      "text/plain": [
       "<keras.callbacks.History at 0x7f9dbfee8f10>"
      ]
     },
     "execution_count": 64,
     "metadata": {},
     "output_type": "execute_result"
    }
   ],
   "source": [
    "model5.compile(optimizer=\"adam\",loss=\"binary_crossentropy\")\n",
    "model5.fit(train_matrix,y_train,epochs=5,batch_size=64)"
   ]
  },
  {
   "cell_type": "code",
   "execution_count": null,
   "metadata": {
    "colab": {
     "base_uri": "https://localhost:8080/"
    },
    "executionInfo": {
     "elapsed": 874,
     "status": "ok",
     "timestamp": 1644387371796,
     "user": {
      "displayName": "Deepak Avhad",
      "photoUrl": "https://lh3.googleusercontent.com/a-/AOh14GhY6x3bmDdXRl6lSqWi0RKwhXwFroevfB4OUaxfwg=s64",
      "userId": "16043617655025119202"
     },
     "user_tz": -330
    },
    "id": "L91yjAvIVFH1",
    "outputId": "bc30b172-333f-44d2-bdae-ef36744b3495"
   },
   "outputs": [
    {
     "name": "stdout",
     "output_type": "stream",
     "text": [
      "              precision    recall  f1-score   support\n",
      "\n",
      "           0       0.95      0.97      0.96      8958\n",
      "           1       0.96      0.93      0.94      6691\n",
      "\n",
      "    accuracy                           0.95     15649\n",
      "   macro avg       0.95      0.95      0.95     15649\n",
      "weighted avg       0.95      0.95      0.95     15649\n",
      "\n"
     ]
    }
   ],
   "source": [
    "y_pred = model5.predict(test_matrix)\n",
    "y_pred = np.where(y_pred >= 0.5, 1, 0)\n",
    "print(classification_report(y_test,y_pred))"
   ]
  },
  {
   "cell_type": "markdown",
   "metadata": {
    "id": "o5U8dZItVgSJ"
   },
   "source": [
    "# Multilayer RNN"
   ]
  },
  {
   "cell_type": "code",
   "execution_count": null,
   "metadata": {
    "id": "AoOLxzgBVZfR"
   },
   "outputs": [],
   "source": [
    "model6 = Sequential()\n",
    "model6.add(Embedding( input_dim=vocab_length+1,\n",
    "                     output_dim=50,\n",
    "                     input_length=max_len,\n",
    "                     mask_zero=True))\n",
    "model6.add(SimpleRNN(50, return_sequences=True))\n",
    "model6.add(SimpleRNN(50, return_sequences=True))\n",
    "model6.add(SimpleRNN(50))\n",
    "model6.add(Dense(64, activation=\"relu\"))\n",
    "model6.add(Dense(32, activation=\"relu\"))\n",
    "model6.add(Dense(1, activation=\"sigmoid\"))"
   ]
  },
  {
   "cell_type": "code",
   "execution_count": null,
   "metadata": {
    "colab": {
     "base_uri": "https://localhost:8080/"
    },
    "executionInfo": {
     "elapsed": 119760,
     "status": "ok",
     "timestamp": 1644387492311,
     "user": {
      "displayName": "Deepak Avhad",
      "photoUrl": "https://lh3.googleusercontent.com/a-/AOh14GhY6x3bmDdXRl6lSqWi0RKwhXwFroevfB4OUaxfwg=s64",
      "userId": "16043617655025119202"
     },
     "user_tz": -330
    },
    "id": "YXu2r8GRWGXD",
    "outputId": "86f2a6f1-9e17-42bf-e39a-d5da4c77ed7f"
   },
   "outputs": [
    {
     "name": "stdout",
     "output_type": "stream",
     "text": [
      "Epoch 1/5\n",
      "571/571 [==============================] - 27s 41ms/step - loss: 0.2018\n",
      "Epoch 2/5\n",
      "571/571 [==============================] - 23s 41ms/step - loss: 0.0229\n",
      "Epoch 3/5\n",
      "571/571 [==============================] - 23s 41ms/step - loss: 0.0083\n",
      "Epoch 4/5\n",
      "571/571 [==============================] - 23s 41ms/step - loss: 0.0058\n",
      "Epoch 5/5\n",
      "571/571 [==============================] - 23s 41ms/step - loss: 0.0058\n"
     ]
    },
    {
     "data": {
      "text/plain": [
       "<keras.callbacks.History at 0x7f9dbfadf350>"
      ]
     },
     "execution_count": 67,
     "metadata": {},
     "output_type": "execute_result"
    }
   ],
   "source": [
    "model6.compile(optimizer=\"adam\",loss=\"binary_crossentropy\")\n",
    "model6.fit(train_matrix,y_train,epochs=5,batch_size=64)"
   ]
  },
  {
   "cell_type": "code",
   "execution_count": null,
   "metadata": {
    "colab": {
     "base_uri": "https://localhost:8080/"
    },
    "executionInfo": {
     "elapsed": 3258,
     "status": "ok",
     "timestamp": 1644387495538,
     "user": {
      "displayName": "Deepak Avhad",
      "photoUrl": "https://lh3.googleusercontent.com/a-/AOh14GhY6x3bmDdXRl6lSqWi0RKwhXwFroevfB4OUaxfwg=s64",
      "userId": "16043617655025119202"
     },
     "user_tz": -330
    },
    "id": "QW2U8sj-WOcT",
    "outputId": "5c971597-81f3-44f7-87e3-f3b9935f55f5"
   },
   "outputs": [
    {
     "name": "stdout",
     "output_type": "stream",
     "text": [
      "              precision    recall  f1-score   support\n",
      "\n",
      "           0       0.95      0.98      0.96      8958\n",
      "           1       0.97      0.93      0.95      6691\n",
      "\n",
      "    accuracy                           0.96     15649\n",
      "   macro avg       0.96      0.95      0.96     15649\n",
      "weighted avg       0.96      0.96      0.96     15649\n",
      "\n"
     ]
    }
   ],
   "source": [
    "y_pred = model6.predict(test_matrix)\n",
    "y_pred = np.where(y_pred >= 0.5, 1, 0)\n",
    "print(classification_report(y_test,y_pred))"
   ]
  },
  {
   "cell_type": "markdown",
   "metadata": {
    "id": "JGkm2PhKW2OL"
   },
   "source": [
    "# Bidirectional RNN"
   ]
  },
  {
   "cell_type": "code",
   "execution_count": null,
   "metadata": {
    "id": "6mnpKUsFWUtI"
   },
   "outputs": [],
   "source": [
    "model7 = Sequential()\n",
    "model7.add(Embedding( input_dim=vocab_length+1,\n",
    "                     output_dim=50,\n",
    "                     input_length=max_len,\n",
    "                     mask_zero=True))\n",
    "model7.add(Bidirectional(SimpleRNN(50)))\n",
    "model7.add(Dense(64, activation=\"relu\"))\n",
    "model7.add(Dense(32, activation=\"relu\"))\n",
    "model7.add(Dense(1, activation=\"sigmoid\"))"
   ]
  },
  {
   "cell_type": "code",
   "execution_count": null,
   "metadata": {
    "colab": {
     "base_uri": "https://localhost:8080/"
    },
    "executionInfo": {
     "elapsed": 144455,
     "status": "ok",
     "timestamp": 1644387639982,
     "user": {
      "displayName": "Deepak Avhad",
      "photoUrl": "https://lh3.googleusercontent.com/a-/AOh14GhY6x3bmDdXRl6lSqWi0RKwhXwFroevfB4OUaxfwg=s64",
      "userId": "16043617655025119202"
     },
     "user_tz": -330
    },
    "id": "gmvzcVGBXSNc",
    "outputId": "f8585270-c470-4bbd-80f6-5e4bf2380586"
   },
   "outputs": [
    {
     "name": "stdout",
     "output_type": "stream",
     "text": [
      "Epoch 1/5\n",
      "571/571 [==============================] - 23s 35ms/step - loss: 0.1944\n",
      "Epoch 2/5\n",
      "571/571 [==============================] - 20s 35ms/step - loss: 0.0130\n",
      "Epoch 3/5\n",
      "571/571 [==============================] - 20s 35ms/step - loss: 0.0054\n",
      "Epoch 4/5\n",
      "571/571 [==============================] - 20s 35ms/step - loss: 0.0046\n",
      "Epoch 5/5\n",
      "571/571 [==============================] - 20s 35ms/step - loss: 0.0053\n"
     ]
    },
    {
     "data": {
      "text/plain": [
       "<keras.callbacks.History at 0x7f9dbaa79bd0>"
      ]
     },
     "execution_count": 70,
     "metadata": {},
     "output_type": "execute_result"
    }
   ],
   "source": [
    "model7.compile(optimizer=\"adam\",loss=\"binary_crossentropy\")\n",
    "model7.fit(train_matrix,y_train,epochs=5,batch_size=64)"
   ]
  },
  {
   "cell_type": "code",
   "execution_count": null,
   "metadata": {
    "colab": {
     "base_uri": "https://localhost:8080/"
    },
    "executionInfo": {
     "elapsed": 2056,
     "status": "ok",
     "timestamp": 1644387642034,
     "user": {
      "displayName": "Deepak Avhad",
      "photoUrl": "https://lh3.googleusercontent.com/a-/AOh14GhY6x3bmDdXRl6lSqWi0RKwhXwFroevfB4OUaxfwg=s64",
      "userId": "16043617655025119202"
     },
     "user_tz": -330
    },
    "id": "EFDE-dFoXjlw",
    "outputId": "6ab3f8e9-1e36-4a17-f24b-7a872a5a62af"
   },
   "outputs": [
    {
     "name": "stdout",
     "output_type": "stream",
     "text": [
      "              precision    recall  f1-score   support\n",
      "\n",
      "           0       0.93      0.98      0.95      8958\n",
      "           1       0.97      0.90      0.93      6691\n",
      "\n",
      "    accuracy                           0.94     15649\n",
      "   macro avg       0.95      0.94      0.94     15649\n",
      "weighted avg       0.94      0.94      0.94     15649\n",
      "\n"
     ]
    }
   ],
   "source": [
    "y_pred = model7.predict(test_matrix)\n",
    "y_pred = np.where(y_pred >= 0.5, 1, 0)\n",
    "print(classification_report(y_test,y_pred))"
   ]
  },
  {
   "cell_type": "markdown",
   "metadata": {
    "id": "GZID6eHzgE08"
   },
   "source": [
    "from above classification for RNN, we get, \n",
    "simple RNN= 93% recall & 95% accuracy,\n",
    "Multilayer RNN= 93% recall & 96% accuracy,\n",
    "Bidirectional RNN= 90% recall & 94% accuracy"
   ]
  },
  {
   "cell_type": "markdown",
   "metadata": {
    "id": "KvkYnZ91YJJt"
   },
   "source": [
    "# LSTM"
   ]
  },
  {
   "cell_type": "code",
   "execution_count": null,
   "metadata": {
    "id": "foy8k9AIYQOo"
   },
   "outputs": [],
   "source": [
    "model8 = Sequential()\n",
    "model8.add(Embedding( input_dim=vocab_length+1,\n",
    "                     output_dim=50,\n",
    "                     input_length=max_len,\n",
    "                     mask_zero=True))\n",
    "model8.add(LSTM(50))\n",
    "model8.add(Dense(64, activation=\"relu\"))\n",
    "model8.add(Dense(32, activation=\"relu\"))\n",
    "model8.add(Dense(1, activation=\"sigmoid\"))"
   ]
  },
  {
   "cell_type": "code",
   "execution_count": null,
   "metadata": {
    "colab": {
     "base_uri": "https://localhost:8080/"
    },
    "executionInfo": {
     "elapsed": 107909,
     "status": "ok",
     "timestamp": 1644387750760,
     "user": {
      "displayName": "Deepak Avhad",
      "photoUrl": "https://lh3.googleusercontent.com/a-/AOh14GhY6x3bmDdXRl6lSqWi0RKwhXwFroevfB4OUaxfwg=s64",
      "userId": "16043617655025119202"
     },
     "user_tz": -330
    },
    "id": "7-4a08X2YabH",
    "outputId": "148f1475-2216-464c-d146-bd24e4b5a69c"
   },
   "outputs": [
    {
     "name": "stdout",
     "output_type": "stream",
     "text": [
      "Epoch 1/5\n",
      "571/571 [==============================] - 25s 36ms/step - loss: 0.1997\n",
      "Epoch 2/5\n",
      "571/571 [==============================] - 21s 36ms/step - loss: 0.0351\n",
      "Epoch 3/5\n",
      "571/571 [==============================] - 21s 36ms/step - loss: 0.0156\n",
      "Epoch 4/5\n",
      "571/571 [==============================] - 21s 36ms/step - loss: 0.0100\n",
      "Epoch 5/5\n",
      "571/571 [==============================] - 21s 36ms/step - loss: 0.0060\n"
     ]
    },
    {
     "data": {
      "text/plain": [
       "<keras.callbacks.History at 0x7f9db90b5a10>"
      ]
     },
     "execution_count": 73,
     "metadata": {},
     "output_type": "execute_result"
    }
   ],
   "source": [
    "model8.compile(optimizer=\"adam\",loss=\"binary_crossentropy\")\n",
    "model8.fit(train_matrix,y_train,epochs=5,batch_size=64)"
   ]
  },
  {
   "cell_type": "code",
   "execution_count": null,
   "metadata": {
    "colab": {
     "base_uri": "https://localhost:8080/"
    },
    "executionInfo": {
     "elapsed": 3488,
     "status": "ok",
     "timestamp": 1644387754215,
     "user": {
      "displayName": "Deepak Avhad",
      "photoUrl": "https://lh3.googleusercontent.com/a-/AOh14GhY6x3bmDdXRl6lSqWi0RKwhXwFroevfB4OUaxfwg=s64",
      "userId": "16043617655025119202"
     },
     "user_tz": -330
    },
    "id": "8S0Z1a6VZ6cs",
    "outputId": "485bec30-e5c0-47ff-82c9-4efe6b2d1ddd"
   },
   "outputs": [
    {
     "name": "stdout",
     "output_type": "stream",
     "text": [
      "              precision    recall  f1-score   support\n",
      "\n",
      "           0       0.96      0.98      0.97      8958\n",
      "           1       0.97      0.94      0.96      6691\n",
      "\n",
      "    accuracy                           0.96     15649\n",
      "   macro avg       0.96      0.96      0.96     15649\n",
      "weighted avg       0.96      0.96      0.96     15649\n",
      "\n"
     ]
    }
   ],
   "source": [
    "y_pred = model8.predict(test_matrix)\n",
    "y_pred = np.where(y_pred >= 0.5, 1, 0)\n",
    "print(classification_report(y_test,y_pred))"
   ]
  },
  {
   "cell_type": "markdown",
   "metadata": {
    "id": "HcP5B5VYYeBg"
   },
   "source": [
    "# Multilayer LSTM"
   ]
  },
  {
   "cell_type": "code",
   "execution_count": null,
   "metadata": {
    "id": "Am2IDWRmYa0i"
   },
   "outputs": [],
   "source": [
    "model9 = Sequential()\n",
    "model9.add(Embedding( input_dim=vocab_length+1,\n",
    "                     output_dim=50,\n",
    "                     input_length=max_len,\n",
    "                     mask_zero=True))\n",
    "model9.add(LSTM(50, return_sequences=True))\n",
    "model9.add(LSTM(50, return_sequences=True))\n",
    "model9.add(LSTM(50))\n",
    "model9.add(Dense(64, activation=\"relu\"))\n",
    "model9.add(Dense(32, activation=\"relu\"))\n",
    "model9.add(Dense(1, activation=\"sigmoid\"))"
   ]
  },
  {
   "cell_type": "code",
   "execution_count": null,
   "metadata": {
    "colab": {
     "base_uri": "https://localhost:8080/"
    },
    "executionInfo": {
     "elapsed": 196170,
     "status": "ok",
     "timestamp": 1644387953633,
     "user": {
      "displayName": "Deepak Avhad",
      "photoUrl": "https://lh3.googleusercontent.com/a-/AOh14GhY6x3bmDdXRl6lSqWi0RKwhXwFroevfB4OUaxfwg=s64",
      "userId": "16043617655025119202"
     },
     "user_tz": -330
    },
    "id": "PTtyBdd4ZruK",
    "outputId": "547d4021-f523-4856-8899-4929377863c4"
   },
   "outputs": [
    {
     "name": "stdout",
     "output_type": "stream",
     "text": [
      "Epoch 1/5\n",
      "571/571 [==============================] - 49s 64ms/step - loss: 0.1983\n",
      "Epoch 2/5\n",
      "571/571 [==============================] - 37s 64ms/step - loss: 0.0363\n",
      "Epoch 3/5\n",
      "571/571 [==============================] - 37s 65ms/step - loss: 0.0150\n",
      "Epoch 4/5\n",
      "571/571 [==============================] - 37s 64ms/step - loss: 0.0085\n",
      "Epoch 5/5\n",
      "571/571 [==============================] - 37s 64ms/step - loss: 0.0075\n"
     ]
    },
    {
     "data": {
      "text/plain": [
       "<keras.callbacks.History at 0x7f9db5f45e50>"
      ]
     },
     "execution_count": 76,
     "metadata": {},
     "output_type": "execute_result"
    }
   ],
   "source": [
    "model9.compile(optimizer=\"adam\",loss=\"binary_crossentropy\")\n",
    "model9.fit(train_matrix,y_train,epochs=5,batch_size=64)"
   ]
  },
  {
   "cell_type": "code",
   "execution_count": null,
   "metadata": {
    "colab": {
     "base_uri": "https://localhost:8080/"
    },
    "executionInfo": {
     "elapsed": 8136,
     "status": "ok",
     "timestamp": 1644387961743,
     "user": {
      "displayName": "Deepak Avhad",
      "photoUrl": "https://lh3.googleusercontent.com/a-/AOh14GhY6x3bmDdXRl6lSqWi0RKwhXwFroevfB4OUaxfwg=s64",
      "userId": "16043617655025119202"
     },
     "user_tz": -330
    },
    "id": "CTUkY8p_Z8VD",
    "outputId": "81a27aaf-64ed-442a-ecca-35b7cf9fb2fb"
   },
   "outputs": [
    {
     "name": "stdout",
     "output_type": "stream",
     "text": [
      "              precision    recall  f1-score   support\n",
      "\n",
      "           0       0.97      0.97      0.97      8958\n",
      "           1       0.96      0.96      0.96      6691\n",
      "\n",
      "    accuracy                           0.97     15649\n",
      "   macro avg       0.96      0.96      0.96     15649\n",
      "weighted avg       0.97      0.97      0.97     15649\n",
      "\n"
     ]
    }
   ],
   "source": [
    "y_pred = model9.predict(test_matrix)\n",
    "y_pred = np.where(y_pred >= 0.5, 1, 0)\n",
    "print(classification_report(y_test,y_pred))"
   ]
  },
  {
   "cell_type": "markdown",
   "metadata": {
    "id": "-DMqp0RdYt_1"
   },
   "source": [
    "# Bidirectional LSTM"
   ]
  },
  {
   "cell_type": "code",
   "execution_count": null,
   "metadata": {
    "id": "8d_lM9C6YuhM"
   },
   "outputs": [],
   "source": [
    "model10 = Sequential()\n",
    "model10.add(Embedding( input_dim=vocab_length+1,\n",
    "                     output_dim=50,\n",
    "                     input_length=max_len,\n",
    "                     mask_zero=True))\n",
    "model10.add(Bidirectional(LSTM(50)))\n",
    "model10.add(Dense(64, activation=\"relu\"))\n",
    "model10.add(Dense(32, activation=\"relu\"))\n",
    "model10.add(Dense(1, activation=\"sigmoid\"))"
   ]
  },
  {
   "cell_type": "code",
   "execution_count": null,
   "metadata": {
    "colab": {
     "base_uri": "https://localhost:8080/"
    },
    "executionInfo": {
     "elapsed": 151307,
     "status": "ok",
     "timestamp": 1644388115186,
     "user": {
      "displayName": "Deepak Avhad",
      "photoUrl": "https://lh3.googleusercontent.com/a-/AOh14GhY6x3bmDdXRl6lSqWi0RKwhXwFroevfB4OUaxfwg=s64",
      "userId": "16043617655025119202"
     },
     "user_tz": -330
    },
    "id": "kYcyHTlBZtxD",
    "outputId": "22022f41-4011-4e87-d2f0-0bb849b3976d"
   },
   "outputs": [
    {
     "name": "stdout",
     "output_type": "stream",
     "text": [
      "Epoch 1/5\n",
      "571/571 [==============================] - 35s 47ms/step - loss: 0.1904\n",
      "Epoch 2/5\n",
      "571/571 [==============================] - 26s 46ms/step - loss: 0.0327\n",
      "Epoch 3/5\n",
      "571/571 [==============================] - 27s 47ms/step - loss: 0.0155\n",
      "Epoch 4/5\n",
      "571/571 [==============================] - 26s 46ms/step - loss: 0.0081\n",
      "Epoch 5/5\n",
      "571/571 [==============================] - 27s 46ms/step - loss: 0.0068\n"
     ]
    },
    {
     "data": {
      "text/plain": [
       "<keras.callbacks.History at 0x7f9db3f24d90>"
      ]
     },
     "execution_count": 79,
     "metadata": {},
     "output_type": "execute_result"
    }
   ],
   "source": [
    "model10.compile(optimizer=\"adam\",loss=\"binary_crossentropy\")\n",
    "model10.fit(train_matrix,y_train,epochs=5,batch_size=64)"
   ]
  },
  {
   "cell_type": "code",
   "execution_count": null,
   "metadata": {
    "colab": {
     "base_uri": "https://localhost:8080/"
    },
    "executionInfo": {
     "elapsed": 5186,
     "status": "ok",
     "timestamp": 1644388120353,
     "user": {
      "displayName": "Deepak Avhad",
      "photoUrl": "https://lh3.googleusercontent.com/a-/AOh14GhY6x3bmDdXRl6lSqWi0RKwhXwFroevfB4OUaxfwg=s64",
      "userId": "16043617655025119202"
     },
     "user_tz": -330
    },
    "id": "98sZ_Rb4Z-29",
    "outputId": "3b5e9993-d17e-4061-b7da-829e20f12361"
   },
   "outputs": [
    {
     "name": "stdout",
     "output_type": "stream",
     "text": [
      "              precision    recall  f1-score   support\n",
      "\n",
      "           0       0.96      0.97      0.97      8958\n",
      "           1       0.97      0.95      0.96      6691\n",
      "\n",
      "    accuracy                           0.96     15649\n",
      "   macro avg       0.96      0.96      0.96     15649\n",
      "weighted avg       0.96      0.96      0.96     15649\n",
      "\n"
     ]
    }
   ],
   "source": [
    "y_pred = model10.predict(test_matrix)\n",
    "y_pred = np.where(y_pred >= 0.5, 1, 0)\n",
    "print(classification_report(y_test,y_pred))"
   ]
  },
  {
   "cell_type": "markdown",
   "metadata": {
    "id": "kUerPV8FhNTy"
   },
   "source": [
    "from above classification for LSTM, we get, \n",
    "LSTM= 94% recall & 96% accuracy,\n",
    "Multilayer LSTM= 96% recall & 97% accuracy,\n",
    "Bidirectional LSTM= 95% recall & 96% accuracy"
   ]
  },
  {
   "cell_type": "markdown",
   "metadata": {
    "id": "OiTKdJ-BY06f"
   },
   "source": [
    "# GRU"
   ]
  },
  {
   "cell_type": "code",
   "execution_count": null,
   "metadata": {
    "id": "OG0Rc_LNY8J0"
   },
   "outputs": [],
   "source": [
    "model11 = Sequential()\n",
    "model11.add(Embedding( input_dim=vocab_length+1,\n",
    "                     output_dim=50,\n",
    "                     input_length=max_len,\n",
    "                     mask_zero=True))\n",
    "model11.add(GRU(50))\n",
    "model11.add(Dense(64, activation=\"relu\"))\n",
    "model11.add(Dense(32, activation=\"relu\"))\n",
    "model11.add(Dense(1, activation=\"sigmoid\"))"
   ]
  },
  {
   "cell_type": "code",
   "execution_count": null,
   "metadata": {
    "colab": {
     "base_uri": "https://localhost:8080/"
    },
    "executionInfo": {
     "elapsed": 101007,
     "status": "ok",
     "timestamp": 1644388221349,
     "user": {
      "displayName": "Deepak Avhad",
      "photoUrl": "https://lh3.googleusercontent.com/a-/AOh14GhY6x3bmDdXRl6lSqWi0RKwhXwFroevfB4OUaxfwg=s64",
      "userId": "16043617655025119202"
     },
     "user_tz": -330
    },
    "id": "7ZMcnojHZvWX",
    "outputId": "8b83b8b9-a273-4ae9-c8dd-1daffa44848c"
   },
   "outputs": [
    {
     "name": "stdout",
     "output_type": "stream",
     "text": [
      "Epoch 1/5\n",
      "571/571 [==============================] - 24s 34ms/step - loss: 0.1966\n",
      "Epoch 2/5\n",
      "571/571 [==============================] - 19s 34ms/step - loss: 0.0361\n",
      "Epoch 3/5\n",
      "571/571 [==============================] - 19s 34ms/step - loss: 0.0178\n",
      "Epoch 4/5\n",
      "571/571 [==============================] - 20s 34ms/step - loss: 0.0117\n",
      "Epoch 5/5\n",
      "571/571 [==============================] - 19s 34ms/step - loss: 0.0091\n"
     ]
    },
    {
     "data": {
      "text/plain": [
       "<keras.callbacks.History at 0x7f9db18bdad0>"
      ]
     },
     "execution_count": 82,
     "metadata": {},
     "output_type": "execute_result"
    }
   ],
   "source": [
    "model11.compile(optimizer=\"adam\",loss=\"binary_crossentropy\")\n",
    "model11.fit(train_matrix,y_train,epochs=5,batch_size=64)"
   ]
  },
  {
   "cell_type": "code",
   "execution_count": null,
   "metadata": {
    "colab": {
     "base_uri": "https://localhost:8080/"
    },
    "executionInfo": {
     "elapsed": 3170,
     "status": "ok",
     "timestamp": 1644388224487,
     "user": {
      "displayName": "Deepak Avhad",
      "photoUrl": "https://lh3.googleusercontent.com/a-/AOh14GhY6x3bmDdXRl6lSqWi0RKwhXwFroevfB4OUaxfwg=s64",
      "userId": "16043617655025119202"
     },
     "user_tz": -330
    },
    "id": "P3Rfz62OaBaI",
    "outputId": "6f401b0c-94d2-4978-a6b1-9cb9183132e5"
   },
   "outputs": [
    {
     "name": "stdout",
     "output_type": "stream",
     "text": [
      "              precision    recall  f1-score   support\n",
      "\n",
      "           0       0.96      0.98      0.97      8958\n",
      "           1       0.97      0.94      0.96      6691\n",
      "\n",
      "    accuracy                           0.96     15649\n",
      "   macro avg       0.96      0.96      0.96     15649\n",
      "weighted avg       0.96      0.96      0.96     15649\n",
      "\n"
     ]
    }
   ],
   "source": [
    "y_pred = model11.predict(test_matrix)\n",
    "y_pred = np.where(y_pred >= 0.5, 1, 0)\n",
    "print(classification_report(y_test,y_pred))"
   ]
  },
  {
   "cell_type": "markdown",
   "metadata": {
    "id": "oW0xzC5gY_g2"
   },
   "source": [
    "# Multilayer GRU"
   ]
  },
  {
   "cell_type": "code",
   "execution_count": null,
   "metadata": {
    "id": "Jh4_fcfmZQt_"
   },
   "outputs": [],
   "source": [
    "model12 = Sequential()\n",
    "model12.add(Embedding( input_dim=vocab_length+1,\n",
    "                     output_dim=50,\n",
    "                     input_length=max_len,\n",
    "                     mask_zero=True))\n",
    "model12.add(GRU(50, return_sequences=True))\n",
    "model12.add(GRU(50, return_sequences=True))\n",
    "model12.add(GRU(50))\n",
    "model12.add(Dense(64, activation=\"relu\"))\n",
    "model12.add(Dense(32, activation=\"relu\"))\n",
    "model12.add(Dense(1, activation=\"sigmoid\"))"
   ]
  },
  {
   "cell_type": "code",
   "execution_count": null,
   "metadata": {
    "colab": {
     "base_uri": "https://localhost:8080/"
    },
    "executionInfo": {
     "elapsed": 212721,
     "status": "ok",
     "timestamp": 1644388440949,
     "user": {
      "displayName": "Deepak Avhad",
      "photoUrl": "https://lh3.googleusercontent.com/a-/AOh14GhY6x3bmDdXRl6lSqWi0RKwhXwFroevfB4OUaxfwg=s64",
      "userId": "16043617655025119202"
     },
     "user_tz": -330
    },
    "id": "7-dss0RsZxyD",
    "outputId": "98a3dae6-8014-47d9-b4f3-e25a5fe11546"
   },
   "outputs": [
    {
     "name": "stdout",
     "output_type": "stream",
     "text": [
      "Epoch 1/5\n",
      "571/571 [==============================] - 45s 59ms/step - loss: 0.1885\n",
      "Epoch 2/5\n",
      "571/571 [==============================] - 34s 59ms/step - loss: 0.0354\n",
      "Epoch 3/5\n",
      "571/571 [==============================] - 34s 59ms/step - loss: 0.0167\n",
      "Epoch 4/5\n",
      "571/571 [==============================] - 34s 59ms/step - loss: 0.0105\n",
      "Epoch 5/5\n",
      "571/571 [==============================] - 34s 59ms/step - loss: 0.0092\n"
     ]
    },
    {
     "data": {
      "text/plain": [
       "<keras.callbacks.History at 0x7f9db0464e10>"
      ]
     },
     "execution_count": 85,
     "metadata": {},
     "output_type": "execute_result"
    }
   ],
   "source": [
    "model12.compile(optimizer=\"adam\",loss=\"binary_crossentropy\")\n",
    "model12.fit(train_matrix,y_train,epochs=5,batch_size=64)"
   ]
  },
  {
   "cell_type": "code",
   "execution_count": null,
   "metadata": {
    "colab": {
     "base_uri": "https://localhost:8080/"
    },
    "executionInfo": {
     "elapsed": 7322,
     "status": "ok",
     "timestamp": 1644388448262,
     "user": {
      "displayName": "Deepak Avhad",
      "photoUrl": "https://lh3.googleusercontent.com/a-/AOh14GhY6x3bmDdXRl6lSqWi0RKwhXwFroevfB4OUaxfwg=s64",
      "userId": "16043617655025119202"
     },
     "user_tz": -330
    },
    "id": "aW1NMHUmaGfx",
    "outputId": "2d1f8a4b-d84d-4448-937d-2fb979de06ef"
   },
   "outputs": [
    {
     "name": "stdout",
     "output_type": "stream",
     "text": [
      "              precision    recall  f1-score   support\n",
      "\n",
      "           0       0.96      0.97      0.97      8958\n",
      "           1       0.96      0.95      0.96      6691\n",
      "\n",
      "    accuracy                           0.96     15649\n",
      "   macro avg       0.96      0.96      0.96     15649\n",
      "weighted avg       0.96      0.96      0.96     15649\n",
      "\n"
     ]
    }
   ],
   "source": [
    "y_pred = model12.predict(test_matrix)\n",
    "y_pred = np.where(y_pred >= 0.5, 1, 0)\n",
    "print(classification_report(y_test,y_pred))"
   ]
  },
  {
   "cell_type": "markdown",
   "metadata": {
    "id": "nChL3SV-ZRmm"
   },
   "source": [
    "# Bidirectional GRU"
   ]
  },
  {
   "cell_type": "code",
   "execution_count": null,
   "metadata": {
    "id": "kw9Th0Z0ZggT"
   },
   "outputs": [],
   "source": [
    "model13 = Sequential()\n",
    "model13.add(Embedding( input_dim=vocab_length+1,\n",
    "                     output_dim=50,\n",
    "                     input_length=max_len,\n",
    "                     mask_zero=True))\n",
    "model13.add(Bidirectional(GRU(50)))\n",
    "model13.add(Dense(64, activation=\"relu\"))\n",
    "model13.add(Dense(32, activation=\"relu\"))\n",
    "model13.add(Dense(1, activation=\"sigmoid\"))"
   ]
  },
  {
   "cell_type": "code",
   "execution_count": null,
   "metadata": {
    "colab": {
     "base_uri": "https://localhost:8080/"
    },
    "executionInfo": {
     "elapsed": 130808,
     "status": "ok",
     "timestamp": 1644388581043,
     "user": {
      "displayName": "Deepak Avhad",
      "photoUrl": "https://lh3.googleusercontent.com/a-/AOh14GhY6x3bmDdXRl6lSqWi0RKwhXwFroevfB4OUaxfwg=s64",
      "userId": "16043617655025119202"
     },
     "user_tz": -330
    },
    "id": "7ohEFkE4Zfdy",
    "outputId": "d052e2e8-23d4-4d82-98f7-6bcd8d9aa0ca"
   },
   "outputs": [
    {
     "name": "stdout",
     "output_type": "stream",
     "text": [
      "Epoch 1/5\n",
      "571/571 [==============================] - 33s 43ms/step - loss: 0.1892\n",
      "Epoch 2/5\n",
      "571/571 [==============================] - 24s 43ms/step - loss: 0.0327\n",
      "Epoch 3/5\n",
      "571/571 [==============================] - 25s 43ms/step - loss: 0.0129\n",
      "Epoch 4/5\n",
      "571/571 [==============================] - 24s 43ms/step - loss: 0.0073\n",
      "Epoch 5/5\n",
      "571/571 [==============================] - 24s 43ms/step - loss: 0.0063\n"
     ]
    },
    {
     "data": {
      "text/plain": [
       "<keras.callbacks.History at 0x7f9dac0b9950>"
      ]
     },
     "execution_count": 88,
     "metadata": {},
     "output_type": "execute_result"
    }
   ],
   "source": [
    "model13.compile(optimizer=\"adam\",loss=\"binary_crossentropy\")\n",
    "model13.fit(train_matrix,y_train,epochs=5,batch_size=64)"
   ]
  },
  {
   "cell_type": "code",
   "execution_count": null,
   "metadata": {
    "colab": {
     "base_uri": "https://localhost:8080/"
    },
    "executionInfo": {
     "elapsed": 5214,
     "status": "ok",
     "timestamp": 1644388586245,
     "user": {
      "displayName": "Deepak Avhad",
      "photoUrl": "https://lh3.googleusercontent.com/a-/AOh14GhY6x3bmDdXRl6lSqWi0RKwhXwFroevfB4OUaxfwg=s64",
      "userId": "16043617655025119202"
     },
     "user_tz": -330
    },
    "id": "vvzA_M1DaIn4",
    "outputId": "861e8bdc-fe2b-46d2-b039-27595bfc8a90"
   },
   "outputs": [
    {
     "name": "stdout",
     "output_type": "stream",
     "text": [
      "              precision    recall  f1-score   support\n",
      "\n",
      "           0       0.96      0.98      0.97      8958\n",
      "           1       0.97      0.94      0.96      6691\n",
      "\n",
      "    accuracy                           0.96     15649\n",
      "   macro avg       0.97      0.96      0.96     15649\n",
      "weighted avg       0.96      0.96      0.96     15649\n",
      "\n"
     ]
    }
   ],
   "source": [
    "y_pred = model13.predict(test_matrix)\n",
    "y_pred = np.where(y_pred >= 0.5, 1, 0)\n",
    "print(classification_report(y_test,y_pred))"
   ]
  },
  {
   "cell_type": "markdown",
   "metadata": {
    "id": "M2-22tl3hydp"
   },
   "source": [
    "from above classification for GRU, we get, \n",
    "GRU= 94% recall & 96% accuracy,\n",
    "Multilayer GRU= 95% recall & 96% accuracy,\n",
    "Bidirectional GRU= 94% recall & 96% accuracy"
   ]
  }
 ],
 "metadata": {
  "colab": {
   "authorship_tag": "ABX9TyPTq8W8jrXDAjY01HGFy+df",
   "collapsed_sections": [],
   "mount_file_id": "1jK3LLQV6CfH4I2ThF7lY08u1rUQsbpu5",
   "name": "NLP-Project-Twitter.ipynb",
   "provenance": []
  },
  "kernelspec": {
   "display_name": "Python 3",
   "language": "python",
   "name": "python3"
  },
  "language_info": {
   "codemirror_mode": {
    "name": "ipython",
    "version": 3
   },
   "file_extension": ".py",
   "mimetype": "text/x-python",
   "name": "python",
   "nbconvert_exporter": "python",
   "pygments_lexer": "ipython3",
   "version": "3.8.8"
  },
  "widgets": {
   "application/vnd.jupyter.widget-state+json": {
    "158755f82ee04e9baab7e55b1c311941": {
     "model_module": "@jupyter-widgets/base",
     "model_module_version": "1.2.0",
     "model_name": "LayoutModel",
     "state": {
      "_model_module": "@jupyter-widgets/base",
      "_model_module_version": "1.2.0",
      "_model_name": "LayoutModel",
      "_view_count": null,
      "_view_module": "@jupyter-widgets/base",
      "_view_module_version": "1.2.0",
      "_view_name": "LayoutView",
      "align_content": null,
      "align_items": null,
      "align_self": null,
      "border": null,
      "bottom": null,
      "display": null,
      "flex": null,
      "flex_flow": null,
      "grid_area": null,
      "grid_auto_columns": null,
      "grid_auto_flow": null,
      "grid_auto_rows": null,
      "grid_column": null,
      "grid_gap": null,
      "grid_row": null,
      "grid_template_areas": null,
      "grid_template_columns": null,
      "grid_template_rows": null,
      "height": null,
      "justify_content": null,
      "justify_items": null,
      "left": null,
      "margin": null,
      "max_height": null,
      "max_width": null,
      "min_height": null,
      "min_width": null,
      "object_fit": null,
      "object_position": null,
      "order": null,
      "overflow": null,
      "overflow_x": null,
      "overflow_y": null,
      "padding": null,
      "right": null,
      "top": null,
      "visibility": null,
      "width": null
     }
    },
    "40c1ff47a8c0498dac1f0b60c2891c01": {
     "model_module": "@jupyter-widgets/base",
     "model_module_version": "1.2.0",
     "model_name": "LayoutModel",
     "state": {
      "_model_module": "@jupyter-widgets/base",
      "_model_module_version": "1.2.0",
      "_model_name": "LayoutModel",
      "_view_count": null,
      "_view_module": "@jupyter-widgets/base",
      "_view_module_version": "1.2.0",
      "_view_name": "LayoutView",
      "align_content": null,
      "align_items": null,
      "align_self": null,
      "border": null,
      "bottom": null,
      "display": null,
      "flex": null,
      "flex_flow": null,
      "grid_area": null,
      "grid_auto_columns": null,
      "grid_auto_flow": null,
      "grid_auto_rows": null,
      "grid_column": null,
      "grid_gap": null,
      "grid_row": null,
      "grid_template_areas": null,
      "grid_template_columns": null,
      "grid_template_rows": null,
      "height": null,
      "justify_content": null,
      "justify_items": null,
      "left": null,
      "margin": null,
      "max_height": null,
      "max_width": null,
      "min_height": null,
      "min_width": null,
      "object_fit": null,
      "object_position": null,
      "order": null,
      "overflow": null,
      "overflow_x": null,
      "overflow_y": null,
      "padding": null,
      "right": null,
      "top": null,
      "visibility": null,
      "width": null
     }
    },
    "5f965bdf18fc4f79b5edf38f82eb0781": {
     "model_module": "@jupyter-widgets/base",
     "model_module_version": "1.2.0",
     "model_name": "LayoutModel",
     "state": {
      "_model_module": "@jupyter-widgets/base",
      "_model_module_version": "1.2.0",
      "_model_name": "LayoutModel",
      "_view_count": null,
      "_view_module": "@jupyter-widgets/base",
      "_view_module_version": "1.2.0",
      "_view_name": "LayoutView",
      "align_content": null,
      "align_items": null,
      "align_self": null,
      "border": null,
      "bottom": null,
      "display": null,
      "flex": null,
      "flex_flow": null,
      "grid_area": null,
      "grid_auto_columns": null,
      "grid_auto_flow": null,
      "grid_auto_rows": null,
      "grid_column": null,
      "grid_gap": null,
      "grid_row": null,
      "grid_template_areas": null,
      "grid_template_columns": null,
      "grid_template_rows": null,
      "height": null,
      "justify_content": null,
      "justify_items": null,
      "left": null,
      "margin": null,
      "max_height": null,
      "max_width": null,
      "min_height": null,
      "min_width": null,
      "object_fit": null,
      "object_position": null,
      "order": null,
      "overflow": null,
      "overflow_x": null,
      "overflow_y": null,
      "padding": null,
      "right": null,
      "top": null,
      "visibility": null,
      "width": null
     }
    },
    "608671485f934b51878191da584d901c": {
     "model_module": "@jupyter-widgets/controls",
     "model_module_version": "1.5.0",
     "model_name": "HBoxModel",
     "state": {
      "_dom_classes": [],
      "_model_module": "@jupyter-widgets/controls",
      "_model_module_version": "1.5.0",
      "_model_name": "HBoxModel",
      "_view_count": null,
      "_view_module": "@jupyter-widgets/controls",
      "_view_module_version": "1.5.0",
      "_view_name": "HBoxView",
      "box_style": "",
      "children": [
       "IPY_MODEL_b7f79a1a38bc4ee289adaae770dc8c50",
       "IPY_MODEL_9901e816e73e4bd8a300d1d9432723a3",
       "IPY_MODEL_87f8026deaf445eda25d208f089e02df"
      ],
      "layout": "IPY_MODEL_b89eb6c5a837478a954207007ea13dd3"
     }
    },
    "77a5bf32b4934d8ab928a4bb5636d422": {
     "model_module": "@jupyter-widgets/controls",
     "model_module_version": "1.5.0",
     "model_name": "DescriptionStyleModel",
     "state": {
      "_model_module": "@jupyter-widgets/controls",
      "_model_module_version": "1.5.0",
      "_model_name": "DescriptionStyleModel",
      "_view_count": null,
      "_view_module": "@jupyter-widgets/base",
      "_view_module_version": "1.2.0",
      "_view_name": "StyleView",
      "description_width": ""
     }
    },
    "87f8026deaf445eda25d208f089e02df": {
     "model_module": "@jupyter-widgets/controls",
     "model_module_version": "1.5.0",
     "model_name": "HTMLModel",
     "state": {
      "_dom_classes": [],
      "_model_module": "@jupyter-widgets/controls",
      "_model_module_version": "1.5.0",
      "_model_name": "HTMLModel",
      "_view_count": null,
      "_view_module": "@jupyter-widgets/controls",
      "_view_module_version": "1.5.0",
      "_view_name": "HTMLView",
      "description": "",
      "description_tooltip": null,
      "layout": "IPY_MODEL_158755f82ee04e9baab7e55b1c311941",
      "placeholder": "​",
      "style": "IPY_MODEL_77a5bf32b4934d8ab928a4bb5636d422",
      "value": " 20200/20200 [00:04&lt;00:00, 4170.20it/s]"
     }
    },
    "8b5a9070952541f39eccc293dcb9fc48": {
     "model_module": "@jupyter-widgets/controls",
     "model_module_version": "1.5.0",
     "model_name": "DescriptionStyleModel",
     "state": {
      "_model_module": "@jupyter-widgets/controls",
      "_model_module_version": "1.5.0",
      "_model_name": "DescriptionStyleModel",
      "_view_count": null,
      "_view_module": "@jupyter-widgets/base",
      "_view_module_version": "1.2.0",
      "_view_name": "StyleView",
      "description_width": ""
     }
    },
    "9786a8247ad5448983145f43d2051078": {
     "model_module": "@jupyter-widgets/controls",
     "model_module_version": "1.5.0",
     "model_name": "ProgressStyleModel",
     "state": {
      "_model_module": "@jupyter-widgets/controls",
      "_model_module_version": "1.5.0",
      "_model_name": "ProgressStyleModel",
      "_view_count": null,
      "_view_module": "@jupyter-widgets/base",
      "_view_module_version": "1.2.0",
      "_view_name": "StyleView",
      "bar_color": null,
      "description_width": ""
     }
    },
    "9901e816e73e4bd8a300d1d9432723a3": {
     "model_module": "@jupyter-widgets/controls",
     "model_module_version": "1.5.0",
     "model_name": "FloatProgressModel",
     "state": {
      "_dom_classes": [],
      "_model_module": "@jupyter-widgets/controls",
      "_model_module_version": "1.5.0",
      "_model_name": "FloatProgressModel",
      "_view_count": null,
      "_view_module": "@jupyter-widgets/controls",
      "_view_module_version": "1.5.0",
      "_view_name": "ProgressView",
      "bar_style": "success",
      "description": "",
      "description_tooltip": null,
      "layout": "IPY_MODEL_40c1ff47a8c0498dac1f0b60c2891c01",
      "max": 20200,
      "min": 0,
      "orientation": "horizontal",
      "style": "IPY_MODEL_9786a8247ad5448983145f43d2051078",
      "value": 20200
     }
    },
    "b7f79a1a38bc4ee289adaae770dc8c50": {
     "model_module": "@jupyter-widgets/controls",
     "model_module_version": "1.5.0",
     "model_name": "HTMLModel",
     "state": {
      "_dom_classes": [],
      "_model_module": "@jupyter-widgets/controls",
      "_model_module_version": "1.5.0",
      "_model_name": "HTMLModel",
      "_view_count": null,
      "_view_module": "@jupyter-widgets/controls",
      "_view_module_version": "1.5.0",
      "_view_name": "HTMLView",
      "description": "",
      "description_tooltip": null,
      "layout": "IPY_MODEL_5f965bdf18fc4f79b5edf38f82eb0781",
      "placeholder": "​",
      "style": "IPY_MODEL_8b5a9070952541f39eccc293dcb9fc48",
      "value": "100%"
     }
    },
    "b89eb6c5a837478a954207007ea13dd3": {
     "model_module": "@jupyter-widgets/base",
     "model_module_version": "1.2.0",
     "model_name": "LayoutModel",
     "state": {
      "_model_module": "@jupyter-widgets/base",
      "_model_module_version": "1.2.0",
      "_model_name": "LayoutModel",
      "_view_count": null,
      "_view_module": "@jupyter-widgets/base",
      "_view_module_version": "1.2.0",
      "_view_name": "LayoutView",
      "align_content": null,
      "align_items": null,
      "align_self": null,
      "border": null,
      "bottom": null,
      "display": null,
      "flex": null,
      "flex_flow": null,
      "grid_area": null,
      "grid_auto_columns": null,
      "grid_auto_flow": null,
      "grid_auto_rows": null,
      "grid_column": null,
      "grid_gap": null,
      "grid_row": null,
      "grid_template_areas": null,
      "grid_template_columns": null,
      "grid_template_rows": null,
      "height": null,
      "justify_content": null,
      "justify_items": null,
      "left": null,
      "margin": null,
      "max_height": null,
      "max_width": null,
      "min_height": null,
      "min_width": null,
      "object_fit": null,
      "object_position": null,
      "order": null,
      "overflow": null,
      "overflow_x": null,
      "overflow_y": null,
      "padding": null,
      "right": null,
      "top": null,
      "visibility": null,
      "width": null
     }
    }
   }
  }
 },
 "nbformat": 4,
 "nbformat_minor": 1
}
